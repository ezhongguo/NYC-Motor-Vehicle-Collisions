{
 "cells": [
  {
   "cell_type": "markdown",
   "id": "9a91c288-f2ae-4857-9d6a-2bbb02d9a237",
   "metadata": {},
   "source": [
    "# Group 2 Final Project - NYC Motor Vehicle Collisions Crashes"
   ]
  },
  {
   "cell_type": "markdown",
   "id": "e2719e51-2358-4539-8c58-d7da167d4a5c",
   "metadata": {},
   "source": [
    "### Ask1 - Search for a dataset"
   ]
  },
  {
   "cell_type": "markdown",
   "id": "815a069a-3866-4a93-aae9-6b17e4654d19",
   "metadata": {},
   "source": [
    "**Identify and describe our dataset** "
   ]
  },
  {
   "cell_type": "markdown",
   "id": "af8b7004-4504-46aa-9fce-e1296083ddbd",
   "metadata": {},
   "source": [
    "- For our project, we intend to analyze New York Motor Vehicle Collisions. The dataset provides comprehensive details based on police reports for motor vehicle collisions in NYC.\n",
    "- Each row in the dataset represents a crash event, including information such as the crash date, time, location, contributing factors, vehicle types, and outcomes.\n",
    "- Dataset Size: 436.6 MB, Last Update: 11/28/2023, 2,045,723 records at the transactional level, and 29 variables.\n"
   ]
  },
  {
   "cell_type": "markdown",
   "id": "272f6729-845d-4561-a28a-bc97fbe6bfcc",
   "metadata": {},
   "source": [
    "**Dataset Source**"
   ]
  },
  {
   "cell_type": "markdown",
   "id": "9eee4c09-bdcb-4b16-a87a-bacbe82cffaf",
   "metadata": {},
   "source": [
    "The Home of the U.S. Government's Open Database, New York City Police Department (NYPD). https://catalog.data.gov/dataset/motor-vehicle-collisions-crashes"
   ]
  },
  {
   "cell_type": "markdown",
   "id": "4179bf28-963c-4d32-824b-75853d23ac2a",
   "metadata": {},
   "source": [
    "**Why is important and what appeals to you about this dataset?**"
   ]
  },
  {
   "cell_type": "markdown",
   "id": "c8003748-be45-4f7d-9658-4aeecf9a2f9a",
   "metadata": {},
   "source": [
    "The chosen dataset holds substantial potential for yielding valuable analytical insights. By delving into the patterns of motor vehicle collisions, we anticipate gaining a comprehensive understanding of the contributing factors and outcomes associated with these incidents.\n",
    "      \n",
    "Analyzing temporal patterns, spatial distributions, and identifying contributing factors such as vehicle types can uncover trends and correlations that contribute to enhancing traffic safety. Insights derived from this dataset can inform evidence-based decision-making, enabling us to propose targeted interventions and preventive measures to mitigate the occurrence and severity of motor vehicle collisions. This aligns with the broader goal of leveraging analytics for actionable insights."
   ]
  },
  {
   "cell_type": "markdown",
   "id": "4becb1d3-c611-414d-8bd5-7c98f42cc344",
   "metadata": {},
   "source": [
    "**Acquire data**"
   ]
  },
  {
   "cell_type": "code",
   "execution_count": 1,
   "id": "1ddd0c80-3dd6-4901-8f0e-6c8b4b4bc4e1",
   "metadata": {},
   "outputs": [
    {
     "name": "stdout",
     "output_type": "stream",
     "text": [
      "/home/ubuntu/notebooks/FinalProjectGroup2\n"
     ]
    }
   ],
   "source": [
    "!pwd"
   ]
  },
  {
   "cell_type": "code",
   "execution_count": 2,
   "id": "12086727-c14b-4034-ab2f-71a97d88fbd5",
   "metadata": {},
   "outputs": [
    {
     "name": "stdout",
     "output_type": "stream",
     "text": [
      "2045723 Motor_Vehicle_Collisions_-_Crashes.csv\n"
     ]
    }
   ],
   "source": [
    "#The wget command to acquire the dataset\n",
    "!wget 'https://data.cityofnewyork.us/api/views/h9gi-nx95/rows.csv?accessType=DOWNLOAD' -O Motor_Vehicle_Collisions_-_Crashes.csv \n",
    "#Count the number of ,lines (rows) in the raw data; the result should be 2045723.\n",
    "!wc -l Motor_Vehicle_Collisions_-_Crashes.csv"
   ]
  },
  {
   "cell_type": "code",
   "execution_count": 19,
   "id": "5a27ce45-7169-4696-895b-7b3caa8ed48c",
   "metadata": {},
   "outputs": [],
   "source": [
    "# Rename the file. \n",
    "!mv Motor_Vehicle_Collisions_-_Crashes.csv MVC.csv"
   ]
  },
  {
   "cell_type": "code",
   "execution_count": 12,
   "id": "fb85e678-ba09-490b-abae-9356db8e2918",
   "metadata": {},
   "outputs": [
    {
     "name": "stdout",
     "output_type": "stream",
     "text": [
      "No errors.\n"
     ]
    }
   ],
   "source": [
    "#Check data\n",
    "!csvclean -n MVC.csv"
   ]
  },
  {
   "cell_type": "code",
   "execution_count": 2,
   "id": "27b91c79-e51a-4ec1-b9d7-a908a6e89ae6",
   "metadata": {},
   "outputs": [
    {
     "name": "stdout",
     "output_type": "stream",
     "text": [
      "  1: CRASH DATE\n",
      "  2: CRASH TIME\n",
      "  3: BOROUGH\n",
      "  4: ZIP CODE\n",
      "  5: LATITUDE\n",
      "  6: LONGITUDE\n",
      "  7: LOCATION\n",
      "  8: ON STREET NAME\n",
      "  9: CROSS STREET NAME\n",
      " 10: OFF STREET NAME\n",
      " 11: NUMBER OF PERSONS INJURED\n",
      " 12: NUMBER OF PERSONS KILLED\n",
      " 13: NUMBER OF PEDESTRIANS INJURED\n",
      " 14: NUMBER OF PEDESTRIANS KILLED\n",
      " 15: NUMBER OF CYCLIST INJURED\n",
      " 16: NUMBER OF CYCLIST KILLED\n",
      " 17: NUMBER OF MOTORIST INJURED\n",
      " 18: NUMBER OF MOTORIST KILLED\n",
      " 19: CONTRIBUTING FACTOR VEHICLE 1\n",
      " 20: CONTRIBUTING FACTOR VEHICLE 2\n",
      " 21: CONTRIBUTING FACTOR VEHICLE 3\n",
      " 22: CONTRIBUTING FACTOR VEHICLE 4\n",
      " 23: CONTRIBUTING FACTOR VEHICLE 5\n",
      " 24: COLLISION_ID\n",
      " 25: VEHICLE TYPE CODE 1\n",
      " 26: VEHICLE TYPE CODE 2\n",
      " 27: VEHICLE TYPE CODE 3\n",
      " 28: VEHICLE TYPE CODE 4\n",
      " 29: VEHICLE TYPE CODE 5\n"
     ]
    }
   ],
   "source": [
    "#Check the column names\n",
    "!csvcut -n MVC.csv"
   ]
  },
  {
   "cell_type": "code",
   "execution_count": 83,
   "id": "d8ae7c8d-2331-4d50-8308-6a04e7ebc6bc",
   "metadata": {},
   "outputs": [],
   "source": [
    "!csvgrep -c1 -r \"201[6789]|202[012]\" MVC.csv > MVC_filtered.csv"
   ]
  },
  {
   "cell_type": "markdown",
   "id": "1256fdb2-ed77-423b-99eb-074e761057a0",
   "metadata": {},
   "source": [
    "**Key Decision we took to modify/remove data**\n",
    "\n",
    "- While the original dataset we downloaded spans a broad timeframe, from 1998 to 2022, the source website (https://catalog.data.gov/dataset/motor-vehicle-collisions-crashes) indicates a significant change in data collection methods, transitioning from manual entry to electronic entry. Therefore, to address data entry inconsistencies, we have opted to narrow our analysis to the years 2016 to 2020. This allows us to focus on a specific period, providing a more concentrated and relevant dataset for our analysis."
   ]
  },
  {
   "cell_type": "code",
   "execution_count": 2,
   "id": "25186249-6d51-4dad-8e0f-7a523e0300d5",
   "metadata": {},
   "outputs": [
    {
     "name": "stdout",
     "output_type": "stream",
     "text": [
      "1231230 MVC_filtered.csv\n"
     ]
    }
   ],
   "source": [
    "#Count the number of lines (rows) in the filtered file; the result should be 1231230.\n",
    "!wc -l MVC_filtered.csv"
   ]
  },
  {
   "cell_type": "markdown",
   "id": "847535c7-0678-4b01-84d8-cbf3520e71b0",
   "metadata": {},
   "source": [
    "**Perform initial exploration**"
   ]
  },
  {
   "cell_type": "markdown",
   "id": "16c83e7c-ec4f-4eff-8b8d-7d86d1336ed6",
   "metadata": {},
   "source": [
    "Using 'csvstat' to generate statistical information, this includes variable data types, and it helps identify columns that may contain null values.\n",
    "**Note: This code should take at least 10min to run.** "
   ]
  },
  {
   "cell_type": "code",
   "execution_count": 46,
   "id": "3e6457e2-45d1-47cb-9a08-05b1e7220134",
   "metadata": {
    "collapsed": true,
    "jupyter": {
     "outputs_hidden": true
    },
    "tags": []
   },
   "outputs": [
    {
     "name": "stdout",
     "output_type": "stream",
     "text": [
      "/home/ubuntu/.local/lib/python3.8/site-packages/agate/table/from_csv.py:74: RuntimeWarning: Error sniffing CSV dialect: Could not determine delimiter\n",
      "  1. \"CRASH DATE\"\n",
      "\n",
      "\tType of data:          Date\n",
      "\tContains null values:  False\n",
      "\tUnique values:         2557\n",
      "\tSmallest value:        2016-01-01\n",
      "\tLargest value:         2022-12-31\n",
      "\tMost common values:    2018-11-15 (1065x)\n",
      "\t                       2017-12-15 (999x)\n",
      "\t                       2017-05-19 (974x)\n",
      "\t                       2017-05-18 (911x)\n",
      "\t                       2017-01-07 (896x)\n",
      "\n",
      "  2. \"CRASH TIME\"\n",
      "\n",
      "\tType of data:          TimeDelta\n",
      "\tContains null values:  False\n",
      "\tUnique values:         1440\n",
      "\tSmallest value:        0:00:00\n",
      "\tLargest value:         0:23:59\n",
      "\tSum:                   11548 days, 9:08:55\n",
      "\tMost common values:    0:00:00 (18717x)\n",
      "\t                       0:16:00 (17339x)\n",
      "\t                       0:17:00 (16956x)\n",
      "\t                       0:15:00 (16631x)\n",
      "\t                       0:14:00 (15825x)\n",
      "\n",
      "  3. \"BOROUGH\"\n",
      "\n",
      "\tType of data:          Text\n",
      "\tContains null values:  True (excluded from calculations)\n",
      "\tUnique values:         6\n",
      "\tLongest value:         13 characters\n",
      "\tMost common values:    None (434027x)\n",
      "\t                       BROOKLYN (258181x)\n",
      "\t                       QUEENS (219818x)\n",
      "\t                       MANHATTAN (160127x)\n",
      "\t                       BRONX (128533x)\n",
      "\n",
      "  4. \"ZIP CODE\"\n",
      "\n",
      "\tType of data:          Number\n",
      "\tContains null values:  True (excluded from calculations)\n",
      "\tUnique values:         231\n",
      "\tSmallest value:        10000\n",
      "\tLargest value:         11697\n",
      "\tSum:                   8659006718\n",
      "\tMean:                  10864.664\n",
      "\tMedian:                11208\n",
      "\tStDev:                 543.846\n",
      "\tMost common values:    None (434241x)\n",
      "\t                       11207 (16072x)\n",
      "\t                       11236 (11813x)\n",
      "\t                       11234 (10996x)\n",
      "\t                       11212 (10782x)\n",
      "\n",
      "  5. \"LATITUDE\"\n",
      "\n",
      "\tType of data:          Number\n",
      "\tContains null values:  True (excluded from calculations)\n",
      "\tUnique values:         96603\n",
      "\tSmallest value:        0\n",
      "\tLargest value:         43.344\n",
      "\tSum:                   45487344.793\n",
      "\tMean:                  40.579\n",
      "\tMedian:                40.72\n",
      "\tStDev:                 2.435\n",
      "\tMost common values:    None (110274x)\n",
      "\t                       0 (4018x)\n",
      "\t                       40.862 (807x)\n",
      "\t                       40.696 (714x)\n",
      "\t                       40.805 (691x)\n",
      "\n",
      "  6. \"LONGITUDE\"\n",
      "\n",
      "\tType of data:          Number\n",
      "\tContains null values:  True (excluded from calculations)\n",
      "\tUnique values:         68754\n",
      "\tSmallest value:        -201.36\n",
      "\tLargest value:         0\n",
      "\tSum:                   -82574466.816\n",
      "\tMean:                  -73.664\n",
      "\tMedian:                -73.923\n",
      "\tStDev:                 4.592\n",
      "\tMost common values:    None (110274x)\n",
      "\t                       0 (4018x)\n",
      "\t                       -73.913 (717x)\n",
      "\t                       -73.985 (697x)\n",
      "\t                       -73.891 (694x)\n",
      "\n",
      "  7. \"LOCATION\"\n",
      "\n",
      "\tType of data:          Text\n",
      "\tContains null values:  True (excluded from calculations)\n",
      "\tUnique values:         235212\n",
      "\tLongest value:         25 characters\n",
      "\tMost common values:    None (110274x)\n",
      "\t                       (0.0, 0.0) (4018x)\n",
      "\t                       (40.861862, -73.91282) (685x)\n",
      "\t                       (40.608757, -74.038086) (669x)\n",
      "\t                       (40.696033, -73.98453) (646x)\n",
      "\n",
      "  8. \"ON STREET NAME\"\n",
      "\n",
      "\tType of data:          Text\n",
      "\tContains null values:  True (excluded from calculations)\n",
      "\tUnique values:         16227\n",
      "\tLongest value:         32 characters\n",
      "\tMost common values:    None (300891x)\n",
      "\t                       BELT PARKWAY                     (13539x)\n",
      "\t                       LONG ISLAND EXPRESSWAY           (9924x)\n",
      "\t                       BROOKLYN QUEENS EXPRESSWAY       (9740x)\n",
      "\t                       BROADWAY                         (8835x)\n",
      "\n",
      "  9. \"CROSS STREET NAME\"\n",
      "\n",
      "\tType of data:          Text\n",
      "\tContains null values:  True (excluded from calculations)\n",
      "\tUnique values:         16151\n",
      "\tLongest value:         32 characters\n",
      "\tMost common values:    None (617059x)\n",
      "\t                       3 AVENUE (6166x)\n",
      "\t                       BROADWAY (5725x)\n",
      "\t                       2 AVENUE (4540x)\n",
      "\t                       5 AVENUE (3421x)\n",
      "\n",
      " 10. \"OFF STREET NAME\"\n",
      "\n",
      "\tType of data:          Text\n",
      "\tContains null values:  True (excluded from calculations)\n",
      "\tUnique values:         187411\n",
      "\tLongest value:         40 characters\n",
      "\tMost common values:    None (937655x)\n",
      "\t                       772       EDGEWATER ROAD                 (402x)\n",
      "\t                       110-00    ROCKAWAY BOULEVARD             (261x)\n",
      "\t                       2800      VICTORY BOULEVARD              (236x)\n",
      "\t                       2655      RICHMOND AVENUE                (169x)\n",
      "\n",
      " 11. \"NUMBER OF PERSONS INJURED\"\n",
      "\n",
      "\tType of data:          Number\n",
      "\tContains null values:  True (excluded from calculations)\n",
      "\tUnique values:         26\n",
      "\tSmallest value:        0\n",
      "\tLargest value:         40\n",
      "\tSum:                   392626\n",
      "\tMean:                  0.319\n",
      "\tMedian:                0\n",
      "\tStDev:                 0.702\n",
      "\tMost common values:    0 (940894x)\n",
      "\t                       1 (225125x)\n",
      "\t                       2 (42999x)\n",
      "\t                       3 (13754x)\n",
      "\t                       4 (5079x)\n",
      "\n",
      " 12. \"NUMBER OF PERSONS KILLED\"\n",
      "\n",
      "\tType of data:          Number\n",
      "\tContains null values:  True (excluded from calculations)\n",
      "\tUnique values:         7\n",
      "\tSmallest value:        0\n",
      "\tLargest value:         8\n",
      "\tSum:                   1829\n",
      "\tMean:                  0.001\n",
      "\tMedian:                0\n",
      "\tStDev:                 0.041\n",
      "\tMost common values:    0 (1229439x)\n",
      "\t                       1 (1707x)\n",
      "\t                       2 (41x)\n",
      "\t                       None (31x)\n",
      "\t                       3 (8x)\n",
      "\n",
      " 13. \"NUMBER OF PEDESTRIANS INJURED\"\n",
      "\n",
      "\tType of data:          Number\n",
      "\tContains null values:  False\n",
      "\tUnique values:         9\n",
      "\tSmallest value:        0\n",
      "\tLargest value:         27\n",
      "\tSum:                   67099\n",
      "\tMean:                  0.054\n",
      "\tMedian:                0\n",
      "\tStDev:                 0.239\n",
      "\tMost common values:    0 (1166856x)\n",
      "\t                       1 (62029x)\n",
      "\t                       2 (2086x)\n",
      "\t                       3 (196x)\n",
      "\t                       4 (36x)\n",
      "\n",
      " 14. \"NUMBER OF PEDESTRIANS KILLED\"\n",
      "\n",
      "\tType of data:          Number\n",
      "\tContains null values:  False\n",
      "\tUnique values:         4\n",
      "\tSmallest value:        0\n",
      "\tLargest value:         6\n",
      "\tSum:                   894\n",
      "\tMean:                  0.001\n",
      "\tMedian:                0\n",
      "\tStDev:                 0.028\n",
      "\tMost common values:    0 (1230347x)\n",
      "\t                       1 (874x)\n",
      "\t                       2 (7x)\n",
      "\t                       6 (1x)\n",
      "\n",
      " 15. \"NUMBER OF CYCLIST INJURED\"\n",
      "\n",
      "\tType of data:          Number\n",
      "\tContains null values:  False\n",
      "\tUnique values:         4\n",
      "\tSmallest value:        0\n",
      "\tLargest value:         3\n",
      "\tSum:                   35138\n",
      "\tMean:                  0.029\n",
      "\tMedian:                0\n",
      "\tStDev:                 0.169\n",
      "\tMost common values:    0 (1196567x)\n",
      "\t                       1 (34202x)\n",
      "\t                       2 (444x)\n",
      "\t                       3 (16x)\n",
      "\n",
      " 16. \"NUMBER OF CYCLIST KILLED\"\n",
      "\n",
      "\tType of data:          Number\n",
      "\tContains null values:  False\n",
      "\tUnique values:         3\n",
      "\tSmallest value:        0\n",
      "\tLargest value:         2\n",
      "\tSum:                   153\n",
      "\tMean:                  0\n",
      "\tMedian:                0\n",
      "\tStDev:                 0.011\n",
      "\tMost common values:    0 (1231077x)\n",
      "\t                       1 (151x)\n",
      "\t                       2 (1x)\n",
      "\n",
      " 17. \"NUMBER OF MOTORIST INJURED\"\n",
      "\n",
      "\tType of data:          Number\n",
      "\tContains null values:  False\n",
      "\tUnique values:         24\n",
      "\tSmallest value:        0\n",
      "\tLargest value:         40\n",
      "\tSum:                   285599\n",
      "\tMean:                  0.232\n",
      "\tMedian:                0\n",
      "\tStDev:                 0.665\n",
      "\tMost common values:    0 (1042706x)\n",
      "\t                       1 (127588x)\n",
      "\t                       2 (39325x)\n",
      "\t                       3 (13348x)\n",
      "\t                       4 (4988x)\n",
      "\n",
      " 18. \"NUMBER OF MOTORIST KILLED\"\n",
      "\n",
      "\tType of data:          Number\n",
      "\tContains null values:  False\n",
      "\tUnique values:         5\n",
      "\tSmallest value:        0\n",
      "\tLargest value:         4\n",
      "\tSum:                   748\n",
      "\tMean:                  0.001\n",
      "\tMedian:                0\n",
      "\tStDev:                 0.027\n",
      "\tMost common values:    0 (1230533x)\n",
      "\t                       1 (654x)\n",
      "\t                       2 (33x)\n",
      "\t                       3 (8x)\n",
      "\t                       4 (1x)\n",
      "\n",
      " 19. \"CONTRIBUTING FACTOR VEHICLE 1\"\n",
      "\n",
      "\tType of data:          Text\n",
      "\tContains null values:  True (excluded from calculations)\n",
      "\tUnique values:         62\n",
      "\tLongest value:         53 characters\n",
      "\tMost common values:    Driver Inattention/Distraction (296909x)\n",
      "\t                       Unspecified (294446x)\n",
      "\t                       Following Too Closely (103115x)\n",
      "\t                       Failure to Yield Right-of-Way (83760x)\n",
      "\t                       Backing Unsafely (52827x)\n",
      "\n",
      " 20. \"CONTRIBUTING FACTOR VEHICLE 2\"\n",
      "\n",
      "\tType of data:          Text\n",
      "\tContains null values:  True (excluded from calculations)\n",
      "\tUnique values:         61\n",
      "\tLongest value:         53 characters\n",
      "\tMost common values:    Unspecified (850298x)\n",
      "\t                       None (207535x)\n",
      "\t                       Driver Inattention/Distraction (64504x)\n",
      "\t                       Following Too Closely (17594x)\n",
      "\t                       Other Vehicular (15867x)\n",
      "\n",
      " 21. \"CONTRIBUTING FACTOR VEHICLE 3\"\n",
      "\n",
      "\tType of data:          Text\n",
      "\tContains null values:  True (excluded from calculations)\n",
      "\tUnique values:         48\n",
      "\tLongest value:         53 characters\n",
      "\tMost common values:    None (1141064x)\n",
      "\t                       Unspecified (84219x)\n",
      "\t                       Following Too Closely (1759x)\n",
      "\t                       Other Vehicular (1545x)\n",
      "\t                       Driver Inattention/Distraction (1259x)\n",
      "\n",
      " 22. \"CONTRIBUTING FACTOR VEHICLE 4\"\n",
      "\n",
      "\tType of data:          Text\n",
      "\tContains null values:  True (excluded from calculations)\n",
      "\tUnique values:         31\n",
      "\tLongest value:         30 characters\n",
      "\tMost common values:    None (1210336x)\n",
      "\t                       Unspecified (19760x)\n",
      "\t                       Other Vehicular (380x)\n",
      "\t                       Following Too Closely (342x)\n",
      "\t                       Driver Inattention/Distraction (176x)\n",
      "\n",
      " 23. \"CONTRIBUTING FACTOR VEHICLE 5\"\n",
      "\n",
      "\tType of data:          Text\n",
      "\tContains null values:  True (excluded from calculations)\n",
      "\tUnique values:         22\n",
      "\tLongest value:         30 characters\n",
      "\tMost common values:    None (1225432x)\n",
      "\t                       Unspecified (5473x)\n",
      "\t                       Other Vehicular (121x)\n",
      "\t                       Following Too Closely (83x)\n",
      "\t                       Driver Inattention/Distraction (42x)\n",
      "\n",
      " 24. \"COLLISION_ID\"\n",
      "\n",
      "\tType of data:          Number\n",
      "\tContains null values:  False\n",
      "\tUnique values:         1231229\n",
      "\tSmallest value:        3363355\n",
      "\tLargest value:         4673556\n",
      "\tSum:                   4900183019116\n",
      "\tMean:                  3979911.957\n",
      "\tMedian:                3979988\n",
      "\tStDev:                 355675.025\n",
      "\tMost common values:    4455765 (1x)\n",
      "\t                       4513547 (1x)\n",
      "\t                       4541903 (1x)\n",
      "\t                       4456314 (1x)\n",
      "\t                       4486609 (1x)\n",
      "\n",
      " 25. \"VEHICLE TYPE CODE 1\"\n",
      "\n",
      "\tType of data:          Text\n",
      "\tContains null values:  True (excluded from calculations)\n",
      "\tUnique values:         1463\n",
      "\tLongest value:         38 characters\n",
      "\tMost common values:    Sedan (523350x)\n",
      "\t                       Station Wagon/Sport Utility Vehicle (413130x)\n",
      "\t                       Taxi (48425x)\n",
      "\t                       4 dr sedan (40113x)\n",
      "\t                       Pick-up Truck (32039x)\n",
      "\n",
      " 26. \"VEHICLE TYPE CODE 2\"\n",
      "\n",
      "\tType of data:          Text\n",
      "\tContains null values:  True (excluded from calculations)\n",
      "\tUnique values:         1632\n",
      "\tLongest value:         38 characters\n",
      "\tMost common values:    Sedan (372776x)\n",
      "\t                       Station Wagon/Sport Utility Vehicle (303056x)\n",
      "\t                       None (286086x)\n",
      "\t                       Taxi (35959x)\n",
      "\t                       4 dr sedan (30046x)\n",
      "\n",
      " 27. \"VEHICLE TYPE CODE 3\"\n",
      "\n",
      "\tType of data:          Text\n",
      "\tContains null values:  True (excluded from calculations)\n",
      "\tUnique values:         231\n",
      "\tLongest value:         35 characters\n",
      "\tMost common values:    None (1146204x)\n",
      "\t                       Sedan (39675x)\n",
      "\t                       Station Wagon/Sport Utility Vehicle (32047x)\n",
      "\t                       4 dr sedan (2558x)\n",
      "\t                       Taxi (2065x)\n",
      "\n",
      " 28. \"VEHICLE TYPE CODE 4\"\n",
      "\n",
      "\tType of data:          Text\n",
      "\tContains null values:  True (excluded from calculations)\n",
      "\tUnique values:         90\n",
      "\tLongest value:         35 characters\n",
      "\tMost common values:    None (1211440x)\n",
      "\t                       Sedan (9468x)\n",
      "\t                       Station Wagon/Sport Utility Vehicle (7713x)\n",
      "\t                       4 dr sedan (566x)\n",
      "\t                       Pick-up Truck (426x)\n",
      "\n",
      " 29. \"VEHICLE TYPE CODE 5\"\n",
      "\n",
      "\tType of data:          Text\n",
      "\tContains null values:  True (excluded from calculations)\n",
      "\tUnique values:         58\n",
      "\tLongest value:         35 characters\n",
      "\tMost common values:    None (1225695x)\n",
      "\t                       Sedan (2639x)\n",
      "\t                       Station Wagon/Sport Utility Vehicle (2168x)\n",
      "\t                       Pick-up Truck (137x)\n",
      "\t                       4 dr sedan (123x)\n",
      "\n",
      "Row count: 1231229\n"
     ]
    }
   ],
   "source": [
    "!csvstat MVC_filtered.csv"
   ]
  },
  {
   "cell_type": "markdown",
   "id": "5f9a8aee-4623-4389-b695-7e2541a720a6",
   "metadata": {},
   "source": [
    "After we acquire data and perform initial exploration by using \"csvstat\" command.\n",
    "Based on the provided statistical information, we are reasonably sure the dataset appears suitable for dimensional modeling and analytical analysis for the following reasons:\n",
    "\n",
    "**\"CRASH DATE\" and \"CRASH TIME\":**\n",
    "\"CRASH DATE\" contains date values ranging from 2016-01-01 to 2022-12-31, and \"CRASH TIME\" contains time values. Both columns have no null values and provide a detailed temporal aspect for analysis.\n",
    "\n",
    "**\"BOROUGH\" and \"ZIP CODE\":**\n",
    "These columns contain categorical and numerical location information, respectively. While \"BOROUGH\" has null values, they are excluded from calculations. Both columns offer geographic context for analysis.\n",
    "\n",
    "**\"LATITUDE\" and \"LONGITUDE\":**\n",
    "These numerical columns provide precise location coordinates. Although they have null values, they are excluded from calculations. They can be used for spatial analysis.\n",
    "\n",
    "**\"NUMBER OF PERSONS INJURED\" and \"NUMBER OF PERSONS KILLED\":**\n",
    "These numerical columns contain information on injuries and fatalities in accidents, allowing for safety analysis.\n",
    "\n",
    "**\"CONTRIBUTING FACTOR VEHICLE 1\" to \"CONTRIBUTING FACTOR VEHICLE 5\":**\n",
    "These categorical columns provide information on contributing factors in accidents, allowing for analysis of the causes of incidents.\n",
    "\n",
    "**\"VEHICLE TYPE CODE 1\" to \"VEHICLE TYPE CODE 5\":**\n",
    "These categorical columns provide information on the types of vehicles involved in accidents, enabling analysis based on vehicle types.\n",
    "\n",
    "**\"COLLISION_ID\":**\n",
    "This numerical column serves as a unique identifier for each collision, allowing for easy referencing in analysis.\n",
    "\n",
    "Overall, the dataset offers a diverse set of features, both numerical and categorical, with a substantial number of entries (1231230 rows), making it suitable for comprehensive dimensional modeling and analytical exploration."
   ]
  },
  {
   "cell_type": "markdown",
   "id": "5cd60994-36a6-44b4-bffc-63d153bbbf46",
   "metadata": {},
   "source": [
    "**Analytical questions we can answer with this data**"
   ]
  },
  {
   "cell_type": "markdown",
   "id": "6870d282-8172-4c52-9544-9eb4e696250c",
   "metadata": {},
   "source": [
    "We are a consultation firm providing an overview of the New York City traffic incident trends from 2016-2022. Our goal is to offer suggestions to car insurance companies, the New York City Police (NYPD) Traffic Enforcement, and the New York Department of Motor Vehicles (DMV)."
   ]
  },
  {
   "cell_type": "markdown",
   "id": "bc3dcbc1-a06a-435e-b498-0ba677e9dac4",
   "metadata": {},
   "source": [
    "Analysis 1 for Car Insurance:\n",
    "- Which top 10 vehicle types have the most crashes?\n",
    "- In which boroughs do the most crashes occur?\n",
    "\n",
    "Analysis 2 for NYPD Traffic Enforcement:\n",
    "- Which top 10 zip code areas have the highest number of persons injured due to crashes?\n",
    "- What combination of day of the week, hour of the day, and zip code experienced the top 30 highest numbers of persons injured in crashes?\n",
    "\n",
    "Analysis 3 for New York Department of Motor Vehicles (DMV):\n",
    "- Identify the top 10 contributing factors to the highest number of fatalities."
   ]
  },
  {
   "cell_type": "markdown",
   "id": "ae9832a2-860d-4af2-a21a-8696d6cb305d",
   "metadata": {},
   "source": [
    "**Concerns with the data and changes we expect to overcome**"
   ]
  },
  {
   "cell_type": "markdown",
   "id": "4bf923eb-cf53-48eb-9623-8e5c50cae6b0",
   "metadata": {},
   "source": [
    "**Concerns**\n",
    "- Data Completeness: There might be potential missing values, particularly in crucial fields such as boroughs, zip codes, contributing factors, and vehicle types.\n",
    "- Data Volume/Computational Issues: Extracting data from 2016-2022 results in around 1,200,000 records, potentially leading to slow processing times for codes.\n",
    "\n",
    "**Expected Changes:** \n",
    "We anticipate addressing these concerns by dropping null values in critical fields and eliminating unnecessary columns.\n"
   ]
  },
  {
   "cell_type": "markdown",
   "id": "161ee303-b38a-409b-af6b-33140da0e9ae",
   "metadata": {},
   "source": [
    "### Ask2 - Data Wrangling & Data Cleaning "
   ]
  },
  {
   "cell_type": "markdown",
   "id": "8d3a7813-ca55-47ed-b068-b269915f0381",
   "metadata": {},
   "source": [
    "The steps for Ask 2 are as follows:\n",
    "\n",
    "1. Creation of Fact Table:\n",
    "\n",
    "    We initiate the process by creating a fact table named \"Crashes\" and utilize the COPY command to import all data into our primary fact table.\n",
    "\n",
    "2. Column Selection and Cleanup:\n",
    "\n",
    "    Next, we streamline our dataset by eliminating unnecessary columns in our data analysis, such as latitude, longitude, location, on_street_name, cross_street_name, off_street_name, number_of_pedestrians_injured, number_of_pedestrians_killed, number_of_cyclist_injured, number_of_cyclist_killed, number_of_motorist_injured, and number_of_motorist_killed.\n",
    "\n",
    "3. Handling Null Values:\n",
    "\n",
    "    We proceed by removing null values in the 'borough,' 'zip_code,' and 'contributing_factor_vehicle_1' columns. Given that these columns are crucial for our analytics, any rows with null values in these columns are dropped.\n",
    "\n",
    "4. Star Schema Design:\n",
    "\n",
    "    Our modeling approach involves creating a star schema. We identify the fact table as \"Crashes\" and establish four dimensional tables: Geography, Contributing factor, Vehicle type, and Crash time.\n",
    "\n",
    "5. Dimensional Table Processing:\n",
    "\n",
    "    We delve into working on the four dimensional tables (Geography, Contributing factor, Vehicle type, and Crash time). Simultaneously, we modify the fact table and establish links between them.\n",
    "\n",
    "6. Final Fact Table:\n",
    "    Upon completing the above steps, we arrive at our final fact table, which integrates the cleaned and processed data from both the fact and dimensional tables."
   ]
  },
  {
   "cell_type": "code",
   "execution_count": 4,
   "id": "429cb3db-bfc7-4cf5-99e1-b64680615378",
   "metadata": {},
   "outputs": [],
   "source": [
    "%load_ext sql"
   ]
  },
  {
   "cell_type": "code",
   "execution_count": 26,
   "id": "97126011-77ba-42aa-b830-e2bd9b7cb3a6",
   "metadata": {},
   "outputs": [],
   "source": [
    "!dropdb -U student Final_Project"
   ]
  },
  {
   "cell_type": "code",
   "execution_count": 27,
   "id": "1080a99a-ff8c-441e-a43c-3d52f5efe694",
   "metadata": {},
   "outputs": [],
   "source": [
    "!createdb -U student Final_Project"
   ]
  },
  {
   "cell_type": "code",
   "execution_count": 5,
   "id": "26c9cda3-ffba-49d2-9d6a-1ac977cde56d",
   "metadata": {},
   "outputs": [],
   "source": [
    "%sql postgresql://student@/Final_Project"
   ]
  },
  {
   "cell_type": "markdown",
   "id": "0fd218b7-0ec5-40a8-a607-3bfb4a256a7b",
   "metadata": {},
   "source": [
    "The above code cells %load_text sql allows for the %%sql magic command to used through out ther notebook. To have the next tasks completed you will need to run this command line. The following codes asks that you drop and create the database Final_Project. These two command will not need to be executed once they have been executed before. The final code line \"%sql postgresql://student@/Final_Project creates the link between the database you've created and the notebook you are currently working in. "
   ]
  },
  {
   "cell_type": "code",
   "execution_count": 6,
   "id": "b986a48a-8ab6-42f1-8b3a-3794a5ab263a",
   "metadata": {
    "tags": []
   },
   "outputs": [
    {
     "name": "stdout",
     "output_type": "stream",
     "text": [
      " * postgresql://student@/Final_Project\n",
      "Done.\n",
      "Done.\n"
     ]
    },
    {
     "data": {
      "text/plain": [
       "[]"
      ]
     },
     "execution_count": 6,
     "metadata": {},
     "output_type": "execute_result"
    }
   ],
   "source": [
    "%%sql\n",
    "\n",
    "DROP TABLE IF EXISTS Crashes;\n",
    "\n",
    "CREATE TABLE Crashes (    \n",
    "    CRASH_DATE DATE NOT NULL,\n",
    "    CRASH_TIME TIME(20) NOT NULL,\n",
    "    BOROUGH CHAR(20),\n",
    "    ZIP_CODE NUMERIC(10),\n",
    "    LATITUDE NUMERIC(20),\n",
    "    LONGITUDE NUMERIC(20),\n",
    "    LOCATION CHAR(30),\n",
    "    ON_STREET_NAME CHAR(50),\n",
    "    CROSS_STREET_NAME CHAR(50),\n",
    "    OFF_STREET_NAME CHAR(50),\n",
    "    NUMBER_OF_PERSONS_INJURED NUMERIC(10),\n",
    "    NUMBER_OF_PERSONS_KILLED NUMERIC(10),\n",
    "    NUMBER_OF_PEDESTRIANS_INJURED NUMERIC(10),\n",
    "    NUMBER_OF_PEDESTRIANS_KILLED NUMERIC(10),\n",
    "    NUMBER_OF_CYCLIST_INJURED NUMERIC(10),\n",
    "    NUMBER_OF_CYCLIST_KILLED NUMERIC(10),\n",
    "    NUMBER_OF_MOTORIST_INJURED NUMERIC(10),\n",
    "    NUMBER_OF_MOTORIST_KILLED NUMERIC(10),\n",
    "    CONTRIBUTING_FACTOR_VEHICLE_1 CHAR(100),\n",
    "    CONTRIBUTING_FACTOR_VEHICLE_2 CHAR(100),\n",
    "    CONTRIBUTING_FACTOR_VEHICLE_3 CHAR(100),\n",
    "    CONTRIBUTING_FACTOR_VEHICLE_4 CHAR(100),\n",
    "    CONTRIBUTING_FACTOR_VEHICLE_5 CHAR(100),\n",
    "    COLLISION_ID NUMERIC(10) NOT NULL,\n",
    "    VEHICLE_TYPE_CODE_1 CHAR(100),\n",
    "    VEHICLE_TYPE_CODE_2 CHAR(100),\n",
    "    VEHICLE_TYPE_CODE_3 CHAR(100),\n",
    "    VEHICLE_TYPE_CODE_4 CHAR(100),\n",
    "    VEHICLE_TYPE_CODE_5 CHAR(100)\n",
    ")"
   ]
  },
  {
   "cell_type": "markdown",
   "id": "7cd65ed4-c42c-4a6b-9477-6699334dfa80",
   "metadata": {},
   "source": [
    "The simplest way to insert the data into one table instead of each dimensional table. This also allowed for us to easily clean the data, by having one base table then start removing null values shown later in the notebook. "
   ]
  },
  {
   "cell_type": "code",
   "execution_count": 4,
   "id": "4c0d9333-ccbc-4dd9-86ff-4cbddbafb833",
   "metadata": {},
   "outputs": [
    {
     "name": "stdout",
     "output_type": "stream",
     "text": [
      " * postgresql://student@/Final_Project\n",
      "10 rows affected.\n"
     ]
    },
    {
     "data": {
      "text/html": [
       "<table>\n",
       "    <thead>\n",
       "        <tr>\n",
       "            <th>crash_date</th>\n",
       "            <th>crash_time</th>\n",
       "            <th>borough</th>\n",
       "            <th>zip_code</th>\n",
       "            <th>number_of_persons_injured</th>\n",
       "            <th>number_of_persons_killed</th>\n",
       "            <th>contributing_factor_vehicle_1</th>\n",
       "            <th>collision_id</th>\n",
       "            <th>vehicle_type_code_1</th>\n",
       "            <th>geography_key</th>\n",
       "            <th>contributing_factor_key</th>\n",
       "            <th>vehicle_type_key</th>\n",
       "            <th>crash_time_key</th>\n",
       "        </tr>\n",
       "    </thead>\n",
       "    <tbody>\n",
       "        <tr>\n",
       "            <td>2021-09-11</td>\n",
       "            <td>09:35:00</td>\n",
       "            <td>BROOKLYN            </td>\n",
       "            <td>11208</td>\n",
       "            <td>0</td>\n",
       "            <td>0</td>\n",
       "            <td>Unspecified                                                                                         </td>\n",
       "            <td>4456314</td>\n",
       "            <td>Sedan                                                                                               </td>\n",
       "            <td>167</td>\n",
       "            <td>38</td>\n",
       "            <td>1108</td>\n",
       "            <td>125468</td>\n",
       "        </tr>\n",
       "        <tr>\n",
       "            <td>2021-12-14</td>\n",
       "            <td>08:17:00</td>\n",
       "            <td>BRONX               </td>\n",
       "            <td>10475</td>\n",
       "            <td>2</td>\n",
       "            <td>0</td>\n",
       "            <td>Unspecified                                                                                         </td>\n",
       "            <td>4486660</td>\n",
       "            <td>Sedan                                                                                               </td>\n",
       "            <td>217</td>\n",
       "            <td>38</td>\n",
       "            <td>1108</td>\n",
       "            <td>102912</td>\n",
       "        </tr>\n",
       "        <tr>\n",
       "            <td>2021-12-14</td>\n",
       "            <td>12:54:00</td>\n",
       "            <td>BROOKLYN            </td>\n",
       "            <td>11217</td>\n",
       "            <td>1</td>\n",
       "            <td>0</td>\n",
       "            <td>Unspecified                                                                                         </td>\n",
       "            <td>4487052</td>\n",
       "            <td>Sedan                                                                                               </td>\n",
       "            <td>174</td>\n",
       "            <td>38</td>\n",
       "            <td>1108</td>\n",
       "            <td>204230</td>\n",
       "        </tr>\n",
       "        <tr>\n",
       "            <td>2021-12-14</td>\n",
       "            <td>14:58:00</td>\n",
       "            <td>MANHATTAN           </td>\n",
       "            <td>10017</td>\n",
       "            <td>0</td>\n",
       "            <td>0</td>\n",
       "            <td>Passing Too Closely                                                                                 </td>\n",
       "            <td>4486519</td>\n",
       "            <td>Sedan                                                                                               </td>\n",
       "            <td>8</td>\n",
       "            <td>16</td>\n",
       "            <td>1108</td>\n",
       "            <td>260466</td>\n",
       "        </tr>\n",
       "        <tr>\n",
       "            <td>2021-12-14</td>\n",
       "            <td>16:50:00</td>\n",
       "            <td>QUEENS              </td>\n",
       "            <td>11413</td>\n",
       "            <td>0</td>\n",
       "            <td>0</td>\n",
       "            <td>Turning Improperly                                                                                  </td>\n",
       "            <td>4487127</td>\n",
       "            <td>Sedan                                                                                               </td>\n",
       "            <td>69</td>\n",
       "            <td>34</td>\n",
       "            <td>1108</td>\n",
       "            <td>320759</td>\n",
       "        </tr>\n",
       "        <tr>\n",
       "            <td>2021-12-14</td>\n",
       "            <td>17:15:00</td>\n",
       "            <td>BROOKLYN            </td>\n",
       "            <td>11211</td>\n",
       "            <td>1</td>\n",
       "            <td>0</td>\n",
       "            <td>Passing or Lane Usage Improper                                                                      </td>\n",
       "            <td>4486556</td>\n",
       "            <td>Bus                                                                                                 </td>\n",
       "            <td>145</td>\n",
       "            <td>21</td>\n",
       "            <td>1007</td>\n",
       "            <td>352811</td>\n",
       "        </tr>\n",
       "        <tr>\n",
       "            <td>2021-12-14</td>\n",
       "            <td>21:10:00</td>\n",
       "            <td>BROOKLYN            </td>\n",
       "            <td>11207</td>\n",
       "            <td>0</td>\n",
       "            <td>0</td>\n",
       "            <td>Driver Inexperience                                                                                 </td>\n",
       "            <td>4487074</td>\n",
       "            <td>Sedan                                                                                               </td>\n",
       "            <td>201</td>\n",
       "            <td>15</td>\n",
       "            <td>1108</td>\n",
       "            <td>456487</td>\n",
       "        </tr>\n",
       "        <tr>\n",
       "            <td>2021-12-14</td>\n",
       "            <td>23:10:00</td>\n",
       "            <td>QUEENS              </td>\n",
       "            <td>11434</td>\n",
       "            <td>2</td>\n",
       "            <td>0</td>\n",
       "            <td>Reaction to Uninvolved Vehicle                                                                      </td>\n",
       "            <td>4486635</td>\n",
       "            <td>Sedan                                                                                               </td>\n",
       "            <td>59</td>\n",
       "            <td>56</td>\n",
       "            <td>1108</td>\n",
       "            <td>493185</td>\n",
       "        </tr>\n",
       "        <tr>\n",
       "            <td>2022-03-21</td>\n",
       "            <td>12:05:00</td>\n",
       "            <td>MANHATTAN           </td>\n",
       "            <td>10018</td>\n",
       "            <td>1</td>\n",
       "            <td>0</td>\n",
       "            <td>Following Too Closely                                                                               </td>\n",
       "            <td>4514237</td>\n",
       "            <td>Motorcycle                                                                                          </td>\n",
       "            <td>120</td>\n",
       "            <td>32</td>\n",
       "            <td>582</td>\n",
       "            <td>210587</td>\n",
       "        </tr>\n",
       "        <tr>\n",
       "            <td>2022-03-26</td>\n",
       "            <td>05:13:00</td>\n",
       "            <td>QUEENS              </td>\n",
       "            <td>11418</td>\n",
       "            <td>0</td>\n",
       "            <td>0</td>\n",
       "            <td>Failure to Yield Right-of-Way                                                                       </td>\n",
       "            <td>4513470</td>\n",
       "            <td>Station Wagon/Sport Utility Vehicle                                                                 </td>\n",
       "            <td>139</td>\n",
       "            <td>61</td>\n",
       "            <td>1140</td>\n",
       "            <td>59664</td>\n",
       "        </tr>\n",
       "    </tbody>\n",
       "</table>"
      ],
      "text/plain": [
       "[(datetime.date(2021, 9, 11), datetime.time(9, 35), 'BROOKLYN            ', Decimal('11208'), Decimal('0'), Decimal('0'), 'Unspecified                                                                                         ', Decimal('4456314'), 'Sedan                                                                                               ', 167, 38, 1108, 125468),\n",
       " (datetime.date(2021, 12, 14), datetime.time(8, 17), 'BRONX               ', Decimal('10475'), Decimal('2'), Decimal('0'), 'Unspecified                                                                                         ', Decimal('4486660'), 'Sedan                                                                                               ', 217, 38, 1108, 102912),\n",
       " (datetime.date(2021, 12, 14), datetime.time(12, 54), 'BROOKLYN            ', Decimal('11217'), Decimal('1'), Decimal('0'), 'Unspecified                                                                                         ', Decimal('4487052'), 'Sedan                                                                                               ', 174, 38, 1108, 204230),\n",
       " (datetime.date(2021, 12, 14), datetime.time(14, 58), 'MANHATTAN           ', Decimal('10017'), Decimal('0'), Decimal('0'), 'Passing Too Closely                                                                                 ', Decimal('4486519'), 'Sedan                                                                                               ', 8, 16, 1108, 260466),\n",
       " (datetime.date(2021, 12, 14), datetime.time(16, 50), 'QUEENS              ', Decimal('11413'), Decimal('0'), Decimal('0'), 'Turning Improperly                                                                                  ', Decimal('4487127'), 'Sedan                                                                                               ', 69, 34, 1108, 320759),\n",
       " (datetime.date(2021, 12, 14), datetime.time(17, 15), 'BROOKLYN            ', Decimal('11211'), Decimal('1'), Decimal('0'), 'Passing or Lane Usage Improper                                                                      ', Decimal('4486556'), 'Bus                                                                                                 ', 145, 21, 1007, 352811),\n",
       " (datetime.date(2021, 12, 14), datetime.time(21, 10), 'BROOKLYN            ', Decimal('11207'), Decimal('0'), Decimal('0'), 'Driver Inexperience                                                                                 ', Decimal('4487074'), 'Sedan                                                                                               ', 201, 15, 1108, 456487),\n",
       " (datetime.date(2021, 12, 14), datetime.time(23, 10), 'QUEENS              ', Decimal('11434'), Decimal('2'), Decimal('0'), 'Reaction to Uninvolved Vehicle                                                                      ', Decimal('4486635'), 'Sedan                                                                                               ', 59, 56, 1108, 493185),\n",
       " (datetime.date(2022, 3, 21), datetime.time(12, 5), 'MANHATTAN           ', Decimal('10018'), Decimal('1'), Decimal('0'), 'Following Too Closely                                                                               ', Decimal('4514237'), 'Motorcycle                                                                                          ', 120, 32, 582, 210587),\n",
       " (datetime.date(2022, 3, 26), datetime.time(5, 13), 'QUEENS              ', Decimal('11418'), Decimal('0'), Decimal('0'), 'Failure to Yield Right-of-Way                                                                       ', Decimal('4513470'), 'Station Wagon/Sport Utility Vehicle                                                                 ', 139, 61, 1140, 59664)]"
      ]
     },
     "execution_count": 4,
     "metadata": {},
     "output_type": "execute_result"
    }
   ],
   "source": [
    "%%sql\n",
    "SELECT * from Crashes\n",
    "Limit 10"
   ]
  },
  {
   "cell_type": "markdown",
   "id": "7a75eb30-be16-40df-8db4-c625471e9643",
   "metadata": {},
   "source": [
    "The table above shows the top 10 rows of the dataset from the table CRASHES. This helped us to understand which columns and rows were sum columns, such as all the injured and fatalities columns were summed in the total injured and total fatalities, and that of the contributing factors, and vehicle types. (The limit of 10 was to shorten the notebook for easier reading, but can be changed to the entire dataset of 793560, as shown below)."
   ]
  },
  {
   "cell_type": "code",
   "execution_count": null,
   "id": "b948e3e8-b9ed-4e5e-866b-d8a0652d74e3",
   "metadata": {},
   "outputs": [
    {
     "name": "stdout",
     "output_type": "stream",
     "text": [
      " * postgresql://student@/Final_Project\n",
      "793560 rows affected.\n"
     ]
    }
   ],
   "source": [
    "%%sql\n",
    "SELECT * from Crashes"
   ]
  },
  {
   "cell_type": "markdown",
   "id": "d6429717-7c76-47d4-b080-e4887b5535ff",
   "metadata": {},
   "source": [
    "As seen the total number of rows have now lessened to 793560 from 1231230. This strictly accounts for all the rows and columns related to the Crashes table."
   ]
  },
  {
   "cell_type": "code",
   "execution_count": 7,
   "id": "c5c7986a-8d7b-4904-8506-dce5ca284c8a",
   "metadata": {},
   "outputs": [
    {
     "name": "stdout",
     "output_type": "stream",
     "text": [
      "/home/ubuntu/notebooks/FinalProjectGroup2\n"
     ]
    }
   ],
   "source": [
    "!pwd"
   ]
  },
  {
   "cell_type": "markdown",
   "id": "db819af3-8a38-4f5a-ad4a-d050f0c05965",
   "metadata": {},
   "source": [
    "**Importing Bulk Data**"
   ]
  },
  {
   "cell_type": "code",
   "execution_count": 8,
   "id": "8204638e-542b-441f-a3d3-53017358e187",
   "metadata": {},
   "outputs": [
    {
     "name": "stdout",
     "output_type": "stream",
     "text": [
      " * postgresql://student@/Final_Project\n",
      "1231229 rows affected.\n"
     ]
    },
    {
     "data": {
      "text/plain": [
       "[]"
      ]
     },
     "execution_count": 8,
     "metadata": {},
     "output_type": "execute_result"
    }
   ],
   "source": [
    "%%sql\n",
    "COPY Crashes FROM '/home/ubuntu/notebooks/FinalProjectGroup2/MVC_filtered.csv'\n",
    "CSV\n",
    "HEADER;"
   ]
  },
  {
   "cell_type": "markdown",
   "id": "3cbcc0cc-4ba2-407b-9309-cf8630d4630e",
   "metadata": {},
   "source": [
    "This code is vital to the dimensional tables, with this command the dataset MVC_filtered.csv is inserted into our base table \"CRASHES\". Without inserting data into the table, the codes and commands entered will read header or column headers, but will not read the data in the rows preceeding. The commands and codes truly run successfully only after inserting the data.  "
   ]
  },
  {
   "cell_type": "code",
   "execution_count": null,
   "id": "7278a769-e17c-4e45-9ecd-66eab5d3dbd0",
   "metadata": {},
   "outputs": [
    {
     "name": "stdout",
     "output_type": "stream",
     "text": [
      " * postgresql://student@/Final_Project\n",
      "793560 rows affected.\n"
     ]
    }
   ],
   "source": [
    "%%sql\n",
    "SELECT * from Crashes\n",
    "LIMIT 5"
   ]
  },
  {
   "cell_type": "markdown",
   "id": "a9493681-0d07-40b7-bc40-5df34a48a352",
   "metadata": {},
   "source": [
    "Drop unnecessary columns"
   ]
  },
  {
   "cell_type": "code",
   "execution_count": 9,
   "id": "5ef2923c-0105-4bbd-93b9-15d7d56d2ada",
   "metadata": {},
   "outputs": [
    {
     "name": "stdout",
     "output_type": "stream",
     "text": [
      " * postgresql://student@/Final_Project\n",
      "Done.\n"
     ]
    },
    {
     "data": {
      "text/plain": [
       "[]"
      ]
     },
     "execution_count": 9,
     "metadata": {},
     "output_type": "execute_result"
    }
   ],
   "source": [
    "%%sql\n",
    "ALTER TABLE Crashes\n",
    "DROP COLUMN latitude,\n",
    "DROP COLUMN longitude,\n",
    "DROP COLUMN location,\n",
    "DROP COLUMN on_street_name,\n",
    "DROP COLUMN cross_street_name,\n",
    "DROP COLUMN off_street_name;"
   ]
  },
  {
   "cell_type": "code",
   "execution_count": 10,
   "id": "ced2792c-37ed-4a3a-8758-565949aed502",
   "metadata": {},
   "outputs": [
    {
     "name": "stdout",
     "output_type": "stream",
     "text": [
      " * postgresql://student@/Final_Project\n",
      "Done.\n"
     ]
    },
    {
     "data": {
      "text/plain": [
       "[]"
      ]
     },
     "execution_count": 10,
     "metadata": {},
     "output_type": "execute_result"
    }
   ],
   "source": [
    "%%sql\n",
    "ALTER TABLE Crashes\n",
    "DROP COLUMN number_of_pedestrians_injured,\n",
    "DROP COLUMN number_of_pedestrians_killed,\n",
    "DROP COLUMN number_of_cyclist_injured,\n",
    "DROP COLUMN number_of_cyclist_killed, \n",
    "DROP COLUMN number_of_motorist_injured,\n",
    "DROP COLUMN number_of_motorist_killed;"
   ]
  },
  {
   "cell_type": "code",
   "execution_count": 11,
   "id": "d1188370-f073-423e-9998-c9f814ee25f1",
   "metadata": {},
   "outputs": [
    {
     "name": "stdout",
     "output_type": "stream",
     "text": [
      " * postgresql://student@/Final_Project\n",
      "Done.\n"
     ]
    },
    {
     "data": {
      "text/plain": [
       "[]"
      ]
     },
     "execution_count": 11,
     "metadata": {},
     "output_type": "execute_result"
    }
   ],
   "source": [
    "%%sql\n",
    "ALTER TABLE Crashes\n",
    "DROP COLUMN contributing_factor_vehicle_2,\n",
    "DROP COLUMN contributing_factor_vehicle_3,\n",
    "DROP COLUMN contributing_factor_vehicle_4,\n",
    "DROP COLUMN contributing_factor_vehicle_5, \n",
    "DROP COLUMN vehicle_type_code_2,\n",
    "DROP COLUMN vehicle_type_code_3,\n",
    "DROP COLUMN vehicle_type_code_4,\n",
    "DROP COLUMN vehicle_type_code_5;"
   ]
  },
  {
   "cell_type": "markdown",
   "id": "c59daa28-6ced-4bba-9b7c-4bd355bdf14d",
   "metadata": {},
   "source": [
    "The above three cells drop command tells the table to remove the following columns: latitude, longitude, location, on_street_name, cross_street_name, off_street_name, number_of_pedestrians_injured, number_of_pedestrians_killed, number_of_cyclist_injured, number_of_cyclist_killed, number_of_motorist_injured, number_of_motorist_killed. However, we specifically did so for the following reasons. Regarding the location values is null and the zip code/ Borough provides us enough information geographically to set a dimensional table \"Geography\". The number of pedestrians, cyclist, motorist, killed and injured were consolidated into two columns total injured and total killed respectively. For contributing factor 2,3,4,and 5, were either duplicates of contributing factor 1 or held no additional information, the same can be said about the vehicle type.  "
   ]
  },
  {
   "cell_type": "markdown",
   "id": "708ee3c6-3631-417d-9920-96c49d9214af",
   "metadata": {},
   "source": [
    "**The biggest challenge we encountered was updating the contributing_factor_key and vehicle_type_key in the Crashes table.**\n",
    "\n",
    "- Reason 1:\n",
    "When attempting to match all five values for contributing_factor_vehicle_1 and vehicle_type_1 simultaneously, the execution time was 30 minutes.\n",
    "\n",
    "- Reason 2:\n",
    "Contributing factors 2, 3, 4, and 5, as well as vehicle types, either duplicated contributing factor 1 or provided no additional information; the same can be said about the vehicle types.\n",
    "\n",
    "Consequently, we decided to retain only the first contributing factor and vehicle type for matching in the table. Simultaneously, we shifted our focus to the vehicle causing the crash rather than the affected vehicle."
   ]
  },
  {
   "cell_type": "code",
   "execution_count": 12,
   "id": "fbe2a1b2-6760-4470-bcc4-890c40b0666b",
   "metadata": {},
   "outputs": [
    {
     "name": "stdout",
     "output_type": "stream",
     "text": [
      " * postgresql://student@/Final_Project\n",
      "5 rows affected.\n"
     ]
    },
    {
     "data": {
      "text/html": [
       "<table>\n",
       "    <thead>\n",
       "        <tr>\n",
       "            <th>crash_date</th>\n",
       "            <th>crash_time</th>\n",
       "            <th>borough</th>\n",
       "            <th>zip_code</th>\n",
       "            <th>number_of_persons_injured</th>\n",
       "            <th>number_of_persons_killed</th>\n",
       "            <th>contributing_factor_vehicle_1</th>\n",
       "            <th>collision_id</th>\n",
       "            <th>vehicle_type_code_1</th>\n",
       "        </tr>\n",
       "    </thead>\n",
       "    <tbody>\n",
       "        <tr>\n",
       "            <td>2021-09-11</td>\n",
       "            <td>02:39:00</td>\n",
       "            <td>None</td>\n",
       "            <td>None</td>\n",
       "            <td>2</td>\n",
       "            <td>0</td>\n",
       "            <td>Aggressive Driving/Road Rage                                                                        </td>\n",
       "            <td>4455765</td>\n",
       "            <td>Sedan                                                                                               </td>\n",
       "        </tr>\n",
       "        <tr>\n",
       "            <td>2022-03-26</td>\n",
       "            <td>11:45:00</td>\n",
       "            <td>None</td>\n",
       "            <td>None</td>\n",
       "            <td>1</td>\n",
       "            <td>0</td>\n",
       "            <td>Pavement Slippery                                                                                   </td>\n",
       "            <td>4513547</td>\n",
       "            <td>Sedan                                                                                               </td>\n",
       "        </tr>\n",
       "        <tr>\n",
       "            <td>2022-06-29</td>\n",
       "            <td>06:55:00</td>\n",
       "            <td>None</td>\n",
       "            <td>None</td>\n",
       "            <td>0</td>\n",
       "            <td>0</td>\n",
       "            <td>Following Too Closely                                                                               </td>\n",
       "            <td>4541903</td>\n",
       "            <td>Sedan                                                                                               </td>\n",
       "        </tr>\n",
       "        <tr>\n",
       "            <td>2021-09-11</td>\n",
       "            <td>09:35:00</td>\n",
       "            <td>BROOKLYN            </td>\n",
       "            <td>11208</td>\n",
       "            <td>0</td>\n",
       "            <td>0</td>\n",
       "            <td>Unspecified                                                                                         </td>\n",
       "            <td>4456314</td>\n",
       "            <td>Sedan                                                                                               </td>\n",
       "        </tr>\n",
       "        <tr>\n",
       "            <td>2021-12-14</td>\n",
       "            <td>08:13:00</td>\n",
       "            <td>BROOKLYN            </td>\n",
       "            <td>11233</td>\n",
       "            <td>0</td>\n",
       "            <td>0</td>\n",
       "            <td>None</td>\n",
       "            <td>4486609</td>\n",
       "            <td>None</td>\n",
       "        </tr>\n",
       "    </tbody>\n",
       "</table>"
      ],
      "text/plain": [
       "[(datetime.date(2021, 9, 11), datetime.time(2, 39), None, None, Decimal('2'), Decimal('0'), 'Aggressive Driving/Road Rage                                                                        ', Decimal('4455765'), 'Sedan                                                                                               '),\n",
       " (datetime.date(2022, 3, 26), datetime.time(11, 45), None, None, Decimal('1'), Decimal('0'), 'Pavement Slippery                                                                                   ', Decimal('4513547'), 'Sedan                                                                                               '),\n",
       " (datetime.date(2022, 6, 29), datetime.time(6, 55), None, None, Decimal('0'), Decimal('0'), 'Following Too Closely                                                                               ', Decimal('4541903'), 'Sedan                                                                                               '),\n",
       " (datetime.date(2021, 9, 11), datetime.time(9, 35), 'BROOKLYN            ', Decimal('11208'), Decimal('0'), Decimal('0'), 'Unspecified                                                                                         ', Decimal('4456314'), 'Sedan                                                                                               '),\n",
       " (datetime.date(2021, 12, 14), datetime.time(8, 13), 'BROOKLYN            ', Decimal('11233'), Decimal('0'), Decimal('0'), None, Decimal('4486609'), None)]"
      ]
     },
     "execution_count": 12,
     "metadata": {},
     "output_type": "execute_result"
    }
   ],
   "source": [
    "%%sql\n",
    "SELECT * from Crashes\n",
    "LIMIT 5"
   ]
  },
  {
   "cell_type": "code",
   "execution_count": 16,
   "id": "7d1aaa33-1b7a-4194-beae-047c44f065f3",
   "metadata": {},
   "outputs": [
    {
     "name": "stdout",
     "output_type": "stream",
     "text": [
      " * postgresql://student@/Final_Project\n",
      "10 rows affected.\n"
     ]
    },
    {
     "data": {
      "text/html": [
       "<table>\n",
       "    <thead>\n",
       "        <tr>\n",
       "            <th>crash_date</th>\n",
       "            <th>crash_time</th>\n",
       "            <th>borough</th>\n",
       "            <th>zip_code</th>\n",
       "            <th>number_of_persons_injured</th>\n",
       "            <th>number_of_persons_killed</th>\n",
       "            <th>contributing_factor_vehicle_1</th>\n",
       "            <th>collision_id</th>\n",
       "            <th>vehicle_type_code_1</th>\n",
       "        </tr>\n",
       "    </thead>\n",
       "    <tbody>\n",
       "        <tr>\n",
       "            <td>2021-09-11</td>\n",
       "            <td>02:39:00</td>\n",
       "            <td>None</td>\n",
       "            <td>None</td>\n",
       "            <td>2</td>\n",
       "            <td>0</td>\n",
       "            <td>Aggressive Driving/Road Rage                                                                        </td>\n",
       "            <td>4455765</td>\n",
       "            <td>Sedan                                                                                               </td>\n",
       "        </tr>\n",
       "        <tr>\n",
       "            <td>2022-03-26</td>\n",
       "            <td>11:45:00</td>\n",
       "            <td>None</td>\n",
       "            <td>None</td>\n",
       "            <td>1</td>\n",
       "            <td>0</td>\n",
       "            <td>Pavement Slippery                                                                                   </td>\n",
       "            <td>4513547</td>\n",
       "            <td>Sedan                                                                                               </td>\n",
       "        </tr>\n",
       "        <tr>\n",
       "            <td>2022-06-29</td>\n",
       "            <td>06:55:00</td>\n",
       "            <td>None</td>\n",
       "            <td>None</td>\n",
       "            <td>0</td>\n",
       "            <td>0</td>\n",
       "            <td>Following Too Closely                                                                               </td>\n",
       "            <td>4541903</td>\n",
       "            <td>Sedan                                                                                               </td>\n",
       "        </tr>\n",
       "        <tr>\n",
       "            <td>2021-09-11</td>\n",
       "            <td>09:35:00</td>\n",
       "            <td>BROOKLYN            </td>\n",
       "            <td>11208</td>\n",
       "            <td>0</td>\n",
       "            <td>0</td>\n",
       "            <td>Unspecified                                                                                         </td>\n",
       "            <td>4456314</td>\n",
       "            <td>Sedan                                                                                               </td>\n",
       "        </tr>\n",
       "        <tr>\n",
       "            <td>2021-12-14</td>\n",
       "            <td>08:13:00</td>\n",
       "            <td>BROOKLYN            </td>\n",
       "            <td>11233</td>\n",
       "            <td>0</td>\n",
       "            <td>0</td>\n",
       "            <td>None</td>\n",
       "            <td>4486609</td>\n",
       "            <td>None</td>\n",
       "        </tr>\n",
       "        <tr>\n",
       "            <td>2021-04-14</td>\n",
       "            <td>12:47:00</td>\n",
       "            <td>None</td>\n",
       "            <td>None</td>\n",
       "            <td>0</td>\n",
       "            <td>0</td>\n",
       "            <td>Unspecified                                                                                         </td>\n",
       "            <td>4407458</td>\n",
       "            <td>Dump                                                                                                </td>\n",
       "        </tr>\n",
       "        <tr>\n",
       "            <td>2021-12-14</td>\n",
       "            <td>17:05:00</td>\n",
       "            <td>None</td>\n",
       "            <td>None</td>\n",
       "            <td>0</td>\n",
       "            <td>0</td>\n",
       "            <td>Passing Too Closely                                                                                 </td>\n",
       "            <td>4486555</td>\n",
       "            <td>Sedan                                                                                               </td>\n",
       "        </tr>\n",
       "        <tr>\n",
       "            <td>2021-12-14</td>\n",
       "            <td>08:17:00</td>\n",
       "            <td>BRONX               </td>\n",
       "            <td>10475</td>\n",
       "            <td>2</td>\n",
       "            <td>0</td>\n",
       "            <td>Unspecified                                                                                         </td>\n",
       "            <td>4486660</td>\n",
       "            <td>Sedan                                                                                               </td>\n",
       "        </tr>\n",
       "        <tr>\n",
       "            <td>2021-12-14</td>\n",
       "            <td>21:10:00</td>\n",
       "            <td>BROOKLYN            </td>\n",
       "            <td>11207</td>\n",
       "            <td>0</td>\n",
       "            <td>0</td>\n",
       "            <td>Driver Inexperience                                                                                 </td>\n",
       "            <td>4487074</td>\n",
       "            <td>Sedan                                                                                               </td>\n",
       "        </tr>\n",
       "        <tr>\n",
       "            <td>2021-12-14</td>\n",
       "            <td>14:58:00</td>\n",
       "            <td>MANHATTAN           </td>\n",
       "            <td>10017</td>\n",
       "            <td>0</td>\n",
       "            <td>0</td>\n",
       "            <td>Passing Too Closely                                                                                 </td>\n",
       "            <td>4486519</td>\n",
       "            <td>Sedan                                                                                               </td>\n",
       "        </tr>\n",
       "    </tbody>\n",
       "</table>"
      ],
      "text/plain": [
       "[(datetime.date(2021, 9, 11), datetime.time(2, 39), None, None, Decimal('2'), Decimal('0'), 'Aggressive Driving/Road Rage                                                                        ', Decimal('4455765'), 'Sedan                                                                                               '),\n",
       " (datetime.date(2022, 3, 26), datetime.time(11, 45), None, None, Decimal('1'), Decimal('0'), 'Pavement Slippery                                                                                   ', Decimal('4513547'), 'Sedan                                                                                               '),\n",
       " (datetime.date(2022, 6, 29), datetime.time(6, 55), None, None, Decimal('0'), Decimal('0'), 'Following Too Closely                                                                               ', Decimal('4541903'), 'Sedan                                                                                               '),\n",
       " (datetime.date(2021, 9, 11), datetime.time(9, 35), 'BROOKLYN            ', Decimal('11208'), Decimal('0'), Decimal('0'), 'Unspecified                                                                                         ', Decimal('4456314'), 'Sedan                                                                                               '),\n",
       " (datetime.date(2021, 12, 14), datetime.time(8, 13), 'BROOKLYN            ', Decimal('11233'), Decimal('0'), Decimal('0'), None, Decimal('4486609'), None),\n",
       " (datetime.date(2021, 4, 14), datetime.time(12, 47), None, None, Decimal('0'), Decimal('0'), 'Unspecified                                                                                         ', Decimal('4407458'), 'Dump                                                                                                '),\n",
       " (datetime.date(2021, 12, 14), datetime.time(17, 5), None, None, Decimal('0'), Decimal('0'), 'Passing Too Closely                                                                                 ', Decimal('4486555'), 'Sedan                                                                                               '),\n",
       " (datetime.date(2021, 12, 14), datetime.time(8, 17), 'BRONX               ', Decimal('10475'), Decimal('2'), Decimal('0'), 'Unspecified                                                                                         ', Decimal('4486660'), 'Sedan                                                                                               '),\n",
       " (datetime.date(2021, 12, 14), datetime.time(21, 10), 'BROOKLYN            ', Decimal('11207'), Decimal('0'), Decimal('0'), 'Driver Inexperience                                                                                 ', Decimal('4487074'), 'Sedan                                                                                               '),\n",
       " (datetime.date(2021, 12, 14), datetime.time(14, 58), 'MANHATTAN           ', Decimal('10017'), Decimal('0'), Decimal('0'), 'Passing Too Closely                                                                                 ', Decimal('4486519'), 'Sedan                                                                                               ')]"
      ]
     },
     "execution_count": 16,
     "metadata": {},
     "output_type": "execute_result"
    }
   ],
   "source": [
    "%%sql\n",
    "SELECT * from Crashes\n",
    "LIMIT 10"
   ]
  },
  {
   "cell_type": "markdown",
   "id": "7549a656-6090-4e65-9852-518c514f2e96",
   "metadata": {},
   "source": [
    "Delete the null values in the 'borough,' 'zip_code,' and 'contributing_factor_vehicle_1' columns. Since these columns are our main focus for analytics, any rows with null values in these columns will be dropped."
   ]
  },
  {
   "cell_type": "code",
   "execution_count": 21,
   "id": "eb9d7494-1222-46f7-bc36-e8bd0c98a48c",
   "metadata": {},
   "outputs": [
    {
     "name": "stdout",
     "output_type": "stream",
     "text": [
      " * postgresql://student@/Final_Project\n",
      "1 rows affected.\n"
     ]
    },
    {
     "data": {
      "text/html": [
       "<table>\n",
       "    <thead>\n",
       "        <tr>\n",
       "            <th>count</th>\n",
       "        </tr>\n",
       "    </thead>\n",
       "    <tbody>\n",
       "        <tr>\n",
       "            <td>0</td>\n",
       "        </tr>\n",
       "    </tbody>\n",
       "</table>"
      ],
      "text/plain": [
       "[(0,)]"
      ]
     },
     "execution_count": 21,
     "metadata": {},
     "output_type": "execute_result"
    }
   ],
   "source": [
    "%%sql\n",
    "SELECT count(*)\n",
    "From Crashes \n",
    "where borough is NULL;"
   ]
  },
  {
   "cell_type": "code",
   "execution_count": 14,
   "id": "716289d0-56f3-4c54-82ae-fac45857b59f",
   "metadata": {},
   "outputs": [
    {
     "name": "stdout",
     "output_type": "stream",
     "text": [
      " * postgresql://student@/Final_Project\n",
      "434027 rows affected.\n"
     ]
    },
    {
     "data": {
      "text/plain": [
       "[]"
      ]
     },
     "execution_count": 14,
     "metadata": {},
     "output_type": "execute_result"
    }
   ],
   "source": [
    "%%sql\n",
    "DELETE FROM Crashes\n",
    "WHERE borough IS NULL;"
   ]
  },
  {
   "cell_type": "code",
   "execution_count": 22,
   "id": "e4921c33-96cf-435d-b391-ac35f71afe2e",
   "metadata": {},
   "outputs": [
    {
     "name": "stdout",
     "output_type": "stream",
     "text": [
      " * postgresql://student@/Final_Project\n",
      "1 rows affected.\n"
     ]
    },
    {
     "data": {
      "text/html": [
       "<table>\n",
       "    <thead>\n",
       "        <tr>\n",
       "            <th>count</th>\n",
       "        </tr>\n",
       "    </thead>\n",
       "    <tbody>\n",
       "        <tr>\n",
       "            <td>0</td>\n",
       "        </tr>\n",
       "    </tbody>\n",
       "</table>"
      ],
      "text/plain": [
       "[(0,)]"
      ]
     },
     "execution_count": 22,
     "metadata": {},
     "output_type": "execute_result"
    }
   ],
   "source": [
    "%%sql\n",
    "SELECT count(*)\n",
    "From Crashes \n",
    "where zip_code is NULL;"
   ]
  },
  {
   "cell_type": "code",
   "execution_count": 16,
   "id": "afdf8274-0c41-4420-94f8-23a97741a31d",
   "metadata": {},
   "outputs": [
    {
     "name": "stdout",
     "output_type": "stream",
     "text": [
      " * postgresql://student@/Final_Project\n",
      "214 rows affected.\n"
     ]
    },
    {
     "data": {
      "text/plain": [
       "[]"
      ]
     },
     "execution_count": 16,
     "metadata": {},
     "output_type": "execute_result"
    }
   ],
   "source": [
    "%%sql\n",
    "DELETE FROM Crashes\n",
    "WHERE zip_code IS NULL;"
   ]
  },
  {
   "cell_type": "code",
   "execution_count": 23,
   "id": "340267e7-c83a-4084-bd77-2286e62f0481",
   "metadata": {},
   "outputs": [
    {
     "name": "stdout",
     "output_type": "stream",
     "text": [
      " * postgresql://student@/Final_Project\n",
      "1 rows affected.\n"
     ]
    },
    {
     "data": {
      "text/html": [
       "<table>\n",
       "    <thead>\n",
       "        <tr>\n",
       "            <th>count</th>\n",
       "        </tr>\n",
       "    </thead>\n",
       "    <tbody>\n",
       "        <tr>\n",
       "            <td>0</td>\n",
       "        </tr>\n",
       "    </tbody>\n",
       "</table>"
      ],
      "text/plain": [
       "[(0,)]"
      ]
     },
     "execution_count": 23,
     "metadata": {},
     "output_type": "execute_result"
    }
   ],
   "source": [
    "%%sql\n",
    "SELECT count(*)\n",
    "From Crashes \n",
    "where contributing_factor_vehicle_1 is NULL;"
   ]
  },
  {
   "cell_type": "code",
   "execution_count": 18,
   "id": "dfc4b761-5c84-47ac-8d8c-284905e52c58",
   "metadata": {},
   "outputs": [
    {
     "name": "stdout",
     "output_type": "stream",
     "text": [
      " * postgresql://student@/Final_Project\n",
      "3428 rows affected.\n"
     ]
    },
    {
     "data": {
      "text/plain": [
       "[]"
      ]
     },
     "execution_count": 18,
     "metadata": {},
     "output_type": "execute_result"
    }
   ],
   "source": [
    "%%sql\n",
    "DELETE FROM Crashes\n",
    "WHERE contributing_factor_vehicle_1 IS NULL;"
   ]
  },
  {
   "cell_type": "markdown",
   "id": "119c4a8c-5574-4cfc-9080-9e5302d43064",
   "metadata": {},
   "source": [
    "The above cells is the cleaning of the data aspect. This allows the team to work with only relevant data that can improve the query and answer questions from insurance companies along with traffic agencies. "
   ]
  },
  {
   "cell_type": "markdown",
   "id": "779fa94d-4aad-4fc2-ad7b-2b69b322fceb",
   "metadata": {},
   "source": [
    "Count the final number of data for analysis after dropping the null values."
   ]
  },
  {
   "cell_type": "code",
   "execution_count": 19,
   "id": "94b5eaad-b30b-4cce-8c64-de341cb175b4",
   "metadata": {},
   "outputs": [
    {
     "name": "stdout",
     "output_type": "stream",
     "text": [
      " * postgresql://student@/Final_Project\n",
      "1 rows affected.\n"
     ]
    },
    {
     "data": {
      "text/html": [
       "<table>\n",
       "    <thead>\n",
       "        <tr>\n",
       "            <th>count</th>\n",
       "        </tr>\n",
       "    </thead>\n",
       "    <tbody>\n",
       "        <tr>\n",
       "            <td>793560</td>\n",
       "        </tr>\n",
       "    </tbody>\n",
       "</table>"
      ],
      "text/plain": [
       "[(793560,)]"
      ]
     },
     "execution_count": 19,
     "metadata": {},
     "output_type": "execute_result"
    }
   ],
   "source": [
    "%%sql\n",
    "SELECT count(*)\n",
    "From Crashes"
   ]
  },
  {
   "cell_type": "code",
   "execution_count": 20,
   "id": "40b7ff58-5c4b-4d29-8005-90d3ac195ce5",
   "metadata": {},
   "outputs": [
    {
     "name": "stdout",
     "output_type": "stream",
     "text": [
      " * postgresql://student@/Final_Project\n",
      "10 rows affected.\n"
     ]
    },
    {
     "data": {
      "text/html": [
       "<table>\n",
       "    <thead>\n",
       "        <tr>\n",
       "            <th>crash_date</th>\n",
       "            <th>crash_time</th>\n",
       "            <th>borough</th>\n",
       "            <th>zip_code</th>\n",
       "            <th>number_of_persons_injured</th>\n",
       "            <th>number_of_persons_killed</th>\n",
       "            <th>contributing_factor_vehicle_1</th>\n",
       "            <th>collision_id</th>\n",
       "            <th>vehicle_type_code_1</th>\n",
       "        </tr>\n",
       "    </thead>\n",
       "    <tbody>\n",
       "        <tr>\n",
       "            <td>2021-09-11</td>\n",
       "            <td>09:35:00</td>\n",
       "            <td>BROOKLYN            </td>\n",
       "            <td>11208</td>\n",
       "            <td>0</td>\n",
       "            <td>0</td>\n",
       "            <td>Unspecified                                                                                         </td>\n",
       "            <td>4456314</td>\n",
       "            <td>Sedan                                                                                               </td>\n",
       "        </tr>\n",
       "        <tr>\n",
       "            <td>2021-12-14</td>\n",
       "            <td>08:17:00</td>\n",
       "            <td>BRONX               </td>\n",
       "            <td>10475</td>\n",
       "            <td>2</td>\n",
       "            <td>0</td>\n",
       "            <td>Unspecified                                                                                         </td>\n",
       "            <td>4486660</td>\n",
       "            <td>Sedan                                                                                               </td>\n",
       "        </tr>\n",
       "        <tr>\n",
       "            <td>2021-12-14</td>\n",
       "            <td>21:10:00</td>\n",
       "            <td>BROOKLYN            </td>\n",
       "            <td>11207</td>\n",
       "            <td>0</td>\n",
       "            <td>0</td>\n",
       "            <td>Driver Inexperience                                                                                 </td>\n",
       "            <td>4487074</td>\n",
       "            <td>Sedan                                                                                               </td>\n",
       "        </tr>\n",
       "        <tr>\n",
       "            <td>2021-12-14</td>\n",
       "            <td>14:58:00</td>\n",
       "            <td>MANHATTAN           </td>\n",
       "            <td>10017</td>\n",
       "            <td>0</td>\n",
       "            <td>0</td>\n",
       "            <td>Passing Too Closely                                                                                 </td>\n",
       "            <td>4486519</td>\n",
       "            <td>Sedan                                                                                               </td>\n",
       "        </tr>\n",
       "        <tr>\n",
       "            <td>2021-12-14</td>\n",
       "            <td>16:50:00</td>\n",
       "            <td>QUEENS              </td>\n",
       "            <td>11413</td>\n",
       "            <td>0</td>\n",
       "            <td>0</td>\n",
       "            <td>Turning Improperly                                                                                  </td>\n",
       "            <td>4487127</td>\n",
       "            <td>Sedan                                                                                               </td>\n",
       "        </tr>\n",
       "        <tr>\n",
       "            <td>2021-12-14</td>\n",
       "            <td>23:10:00</td>\n",
       "            <td>QUEENS              </td>\n",
       "            <td>11434</td>\n",
       "            <td>2</td>\n",
       "            <td>0</td>\n",
       "            <td>Reaction to Uninvolved Vehicle                                                                      </td>\n",
       "            <td>4486635</td>\n",
       "            <td>Sedan                                                                                               </td>\n",
       "        </tr>\n",
       "        <tr>\n",
       "            <td>2021-12-14</td>\n",
       "            <td>17:58:00</td>\n",
       "            <td>BROOKLYN            </td>\n",
       "            <td>11217</td>\n",
       "            <td>0</td>\n",
       "            <td>0</td>\n",
       "            <td>Passing Too Closely                                                                                 </td>\n",
       "            <td>4486604</td>\n",
       "            <td>Tanker                                                                                              </td>\n",
       "        </tr>\n",
       "        <tr>\n",
       "            <td>2021-12-14</td>\n",
       "            <td>20:03:00</td>\n",
       "            <td>BROOKLYN            </td>\n",
       "            <td>11226</td>\n",
       "            <td>4</td>\n",
       "            <td>0</td>\n",
       "            <td>Steering Failure                                                                                    </td>\n",
       "            <td>4486991</td>\n",
       "            <td>Sedan                                                                                               </td>\n",
       "        </tr>\n",
       "        <tr>\n",
       "            <td>2021-12-11</td>\n",
       "            <td>19:43:00</td>\n",
       "            <td>BRONX               </td>\n",
       "            <td>10463</td>\n",
       "            <td>1</td>\n",
       "            <td>0</td>\n",
       "            <td>Unspecified                                                                                         </td>\n",
       "            <td>4487040</td>\n",
       "            <td>Station Wagon/Sport Utility Vehicle                                                                 </td>\n",
       "        </tr>\n",
       "        <tr>\n",
       "            <td>2021-12-11</td>\n",
       "            <td>04:45:00</td>\n",
       "            <td>MANHATTAN           </td>\n",
       "            <td>10001</td>\n",
       "            <td>0</td>\n",
       "            <td>0</td>\n",
       "            <td>Following Too Closely                                                                               </td>\n",
       "            <td>4486905</td>\n",
       "            <td>Station Wagon/Sport Utility Vehicle                                                                 </td>\n",
       "        </tr>\n",
       "    </tbody>\n",
       "</table>"
      ],
      "text/plain": [
       "[(datetime.date(2021, 9, 11), datetime.time(9, 35), 'BROOKLYN            ', Decimal('11208'), Decimal('0'), Decimal('0'), 'Unspecified                                                                                         ', Decimal('4456314'), 'Sedan                                                                                               '),\n",
       " (datetime.date(2021, 12, 14), datetime.time(8, 17), 'BRONX               ', Decimal('10475'), Decimal('2'), Decimal('0'), 'Unspecified                                                                                         ', Decimal('4486660'), 'Sedan                                                                                               '),\n",
       " (datetime.date(2021, 12, 14), datetime.time(21, 10), 'BROOKLYN            ', Decimal('11207'), Decimal('0'), Decimal('0'), 'Driver Inexperience                                                                                 ', Decimal('4487074'), 'Sedan                                                                                               '),\n",
       " (datetime.date(2021, 12, 14), datetime.time(14, 58), 'MANHATTAN           ', Decimal('10017'), Decimal('0'), Decimal('0'), 'Passing Too Closely                                                                                 ', Decimal('4486519'), 'Sedan                                                                                               '),\n",
       " (datetime.date(2021, 12, 14), datetime.time(16, 50), 'QUEENS              ', Decimal('11413'), Decimal('0'), Decimal('0'), 'Turning Improperly                                                                                  ', Decimal('4487127'), 'Sedan                                                                                               '),\n",
       " (datetime.date(2021, 12, 14), datetime.time(23, 10), 'QUEENS              ', Decimal('11434'), Decimal('2'), Decimal('0'), 'Reaction to Uninvolved Vehicle                                                                      ', Decimal('4486635'), 'Sedan                                                                                               '),\n",
       " (datetime.date(2021, 12, 14), datetime.time(17, 58), 'BROOKLYN            ', Decimal('11217'), Decimal('0'), Decimal('0'), 'Passing Too Closely                                                                                 ', Decimal('4486604'), 'Tanker                                                                                              '),\n",
       " (datetime.date(2021, 12, 14), datetime.time(20, 3), 'BROOKLYN            ', Decimal('11226'), Decimal('4'), Decimal('0'), 'Steering Failure                                                                                    ', Decimal('4486991'), 'Sedan                                                                                               '),\n",
       " (datetime.date(2021, 12, 11), datetime.time(19, 43), 'BRONX               ', Decimal('10463'), Decimal('1'), Decimal('0'), 'Unspecified                                                                                         ', Decimal('4487040'), 'Station Wagon/Sport Utility Vehicle                                                                 '),\n",
       " (datetime.date(2021, 12, 11), datetime.time(4, 45), 'MANHATTAN           ', Decimal('10001'), Decimal('0'), Decimal('0'), 'Following Too Closely                                                                               ', Decimal('4486905'), 'Station Wagon/Sport Utility Vehicle                                                                 ')]"
      ]
     },
     "execution_count": 20,
     "metadata": {},
     "output_type": "execute_result"
    }
   ],
   "source": [
    "%%sql\n",
    "SELECT * from Crashes\n",
    "LIMIT 10"
   ]
  },
  {
   "cell_type": "markdown",
   "id": "5e2894f9-86cc-4508-9d3b-3edaa007db24",
   "metadata": {},
   "source": [
    "The above shows the top 10 rows of data which allows us to review if the nulls have been removed, and if we were to run a query what to expect as output."
   ]
  },
  {
   "cell_type": "code",
   "execution_count": 24,
   "id": "4016bf3f-b1b2-4fa6-8ea9-2d728a469821",
   "metadata": {},
   "outputs": [
    {
     "name": "stdout",
     "output_type": "stream",
     "text": [
      "/home/ubuntu/notebooks/FinalProjectGroup2\n"
     ]
    }
   ],
   "source": [
    "!pwd"
   ]
  },
  {
   "cell_type": "markdown",
   "id": "b4ee24d3-d727-45f7-bc78-04958160bbd2",
   "metadata": {},
   "source": [
    "**We start with the Schema from this raw data with all the columns**"
   ]
  },
  {
   "cell_type": "code",
   "execution_count": 25,
   "id": "f9294e7e-8da1-4e72-b83f-0bec386a999f",
   "metadata": {},
   "outputs": [
    {
     "data": {
      "text/html": [
       "<img src=\"https://i.ibb.co/z2SJWcJ/Whats-App-Image-2023-12-09-at-11-40-33-AM.jpg\"/>"
      ],
      "text/plain": [
       "<IPython.core.display.Image object>"
      ]
     },
     "execution_count": 25,
     "metadata": {},
     "output_type": "execute_result"
    }
   ],
   "source": [
    "from IPython.display import Image\n",
    "\n",
    "image_url = 'https://i.ibb.co/z2SJWcJ/Whats-App-Image-2023-12-09-at-11-40-33-AM.jpg'\n",
    "\n",
    "Image(url=image_url)"
   ]
  },
  {
   "cell_type": "markdown",
   "id": "eab6fa36-bae9-4aae-8a33-69da603c257d",
   "metadata": {},
   "source": [
    "**We eventually build a star-schema like this:**"
   ]
  },
  {
   "cell_type": "code",
   "execution_count": 11,
   "id": "53fedfc3-d490-4353-9373-e1b02a5351aa",
   "metadata": {},
   "outputs": [
    {
     "data": {
      "text/html": [
       "<img src=\"https://i.ibb.co/ZhkWn2k/Dimensions.jpg\"/>"
      ],
      "text/plain": [
       "<IPython.core.display.Image object>"
      ]
     },
     "execution_count": 11,
     "metadata": {},
     "output_type": "execute_result"
    }
   ],
   "source": [
    "image_url = 'https://i.ibb.co/ZhkWn2k/Dimensions.jpg'\n",
    "Image(url=image_url)"
   ]
  },
  {
   "cell_type": "markdown",
   "id": "b3450b9d-95c8-463a-9a69-0de6cb51f201",
   "metadata": {},
   "source": [
    "**Work on Geography dimension, modify fact table and link them together**"
   ]
  },
  {
   "cell_type": "code",
   "execution_count": 28,
   "id": "04a1e812-c304-49c3-a326-16ec01950026",
   "metadata": {},
   "outputs": [
    {
     "name": "stdout",
     "output_type": "stream",
     "text": [
      " * postgresql://student@/Final_Project\n",
      "Done.\n",
      "Done.\n"
     ]
    },
    {
     "data": {
      "text/plain": [
       "[]"
      ]
     },
     "execution_count": 28,
     "metadata": {},
     "output_type": "execute_result"
    }
   ],
   "source": [
    "%%sql\n",
    "DROP TABLE IF EXISTS Geography;\n",
    "\n",
    "CREATE TABLE Geography ( \n",
    "    key SERIAL PRIMARY KEY, \n",
    "    borough CHAR(20),\n",
    "    zip_code NUMERIC(10)\n",
    ");"
   ]
  },
  {
   "cell_type": "markdown",
   "id": "f27c793e-6dbc-4d20-9a6f-7053c39603e7",
   "metadata": {},
   "source": [
    "The first step to creating a dimensional table, we must use the create table command and create the primary key with the columns with their data value/limit. "
   ]
  },
  {
   "cell_type": "code",
   "execution_count": 29,
   "id": "2d9a3d25-8717-43bf-a3c2-96a0b29b1eb9",
   "metadata": {},
   "outputs": [
    {
     "name": "stdout",
     "output_type": "stream",
     "text": [
      " * postgresql://student@/Final_Project\n",
      "234 rows affected.\n"
     ]
    },
    {
     "data": {
      "text/plain": [
       "[]"
      ]
     },
     "execution_count": 29,
     "metadata": {},
     "output_type": "execute_result"
    }
   ],
   "source": [
    "%%sql\n",
    "INSERT INTO Geography (borough,zip_code) \n",
    "SELECT DISTINCT borough,zip_code\n",
    "FROM Crashes;"
   ]
  },
  {
   "cell_type": "markdown",
   "id": "d2a319e6-c3fb-44dd-9199-1d5b54ab36a4",
   "metadata": {},
   "source": [
    "Now to ensure that we have data in the table, we'll insert the borough and zip code columns from our base table \"Crashes\"."
   ]
  },
  {
   "cell_type": "code",
   "execution_count": 30,
   "id": "faa5ad3e-26e8-4383-ab37-b030762ff935",
   "metadata": {
    "tags": []
   },
   "outputs": [
    {
     "name": "stdout",
     "output_type": "stream",
     "text": [
      " * postgresql://student@/Final_Project\n",
      "10 rows affected.\n"
     ]
    },
    {
     "data": {
      "text/html": [
       "<table>\n",
       "    <thead>\n",
       "        <tr>\n",
       "            <th>key</th>\n",
       "            <th>borough</th>\n",
       "            <th>zip_code</th>\n",
       "        </tr>\n",
       "    </thead>\n",
       "    <tbody>\n",
       "        <tr>\n",
       "            <td>1</td>\n",
       "            <td>BRONX               </td>\n",
       "            <td>10465</td>\n",
       "        </tr>\n",
       "        <tr>\n",
       "            <td>2</td>\n",
       "            <td>BROOKLYN            </td>\n",
       "            <td>11226</td>\n",
       "        </tr>\n",
       "        <tr>\n",
       "            <td>3</td>\n",
       "            <td>QUEENS              </td>\n",
       "            <td>11416</td>\n",
       "        </tr>\n",
       "        <tr>\n",
       "            <td>4</td>\n",
       "            <td>MANHATTAN           </td>\n",
       "            <td>10169</td>\n",
       "        </tr>\n",
       "        <tr>\n",
       "            <td>5</td>\n",
       "            <td>BRONX               </td>\n",
       "            <td>10464</td>\n",
       "        </tr>\n",
       "        <tr>\n",
       "            <td>6</td>\n",
       "            <td>STATEN ISLAND       </td>\n",
       "            <td>10305</td>\n",
       "        </tr>\n",
       "        <tr>\n",
       "            <td>7</td>\n",
       "            <td>MANHATTAN           </td>\n",
       "            <td>10032</td>\n",
       "        </tr>\n",
       "        <tr>\n",
       "            <td>8</td>\n",
       "            <td>MANHATTAN           </td>\n",
       "            <td>10017</td>\n",
       "        </tr>\n",
       "        <tr>\n",
       "            <td>9</td>\n",
       "            <td>BROOKLYN            </td>\n",
       "            <td>11215</td>\n",
       "        </tr>\n",
       "        <tr>\n",
       "            <td>10</td>\n",
       "            <td>MANHATTAN           </td>\n",
       "            <td>10281</td>\n",
       "        </tr>\n",
       "    </tbody>\n",
       "</table>"
      ],
      "text/plain": [
       "[(1, 'BRONX               ', Decimal('10465')),\n",
       " (2, 'BROOKLYN            ', Decimal('11226')),\n",
       " (3, 'QUEENS              ', Decimal('11416')),\n",
       " (4, 'MANHATTAN           ', Decimal('10169')),\n",
       " (5, 'BRONX               ', Decimal('10464')),\n",
       " (6, 'STATEN ISLAND       ', Decimal('10305')),\n",
       " (7, 'MANHATTAN           ', Decimal('10032')),\n",
       " (8, 'MANHATTAN           ', Decimal('10017')),\n",
       " (9, 'BROOKLYN            ', Decimal('11215')),\n",
       " (10, 'MANHATTAN           ', Decimal('10281'))]"
      ]
     },
     "execution_count": 30,
     "metadata": {},
     "output_type": "execute_result"
    }
   ],
   "source": [
    "%%sql\n",
    "SELECT * From Geography\n",
    "Order By key\n",
    "limit 10"
   ]
  },
  {
   "cell_type": "markdown",
   "id": "e4419f4e-fe99-4b87-9d1a-356a9f58e61f",
   "metadata": {},
   "source": [
    "Just checking if the Geography table functions correctly."
   ]
  },
  {
   "cell_type": "code",
   "execution_count": 31,
   "id": "2691572e-85fc-4e99-98b3-8f1d796b8152",
   "metadata": {},
   "outputs": [
    {
     "name": "stdout",
     "output_type": "stream",
     "text": [
      " * postgresql://student@/Final_Project\n",
      "1 rows affected.\n"
     ]
    },
    {
     "data": {
      "text/html": [
       "<table>\n",
       "    <thead>\n",
       "        <tr>\n",
       "            <th>count</th>\n",
       "        </tr>\n",
       "    </thead>\n",
       "    <tbody>\n",
       "        <tr>\n",
       "            <td>88</td>\n",
       "        </tr>\n",
       "    </tbody>\n",
       "</table>"
      ],
      "text/plain": [
       "[(88,)]"
      ]
     },
     "execution_count": 31,
     "metadata": {},
     "output_type": "execute_result"
    }
   ],
   "source": [
    "%%sql\n",
    "SELECT count(*) From Geography\n",
    "Where borough = 'MANHATTAN';"
   ]
  },
  {
   "cell_type": "code",
   "execution_count": 32,
   "id": "42797139-34d6-4529-8bc1-23a956558a9b",
   "metadata": {},
   "outputs": [
    {
     "name": "stdout",
     "output_type": "stream",
     "text": [
      " * postgresql://student@/Final_Project\n",
      "1 rows affected.\n"
     ]
    },
    {
     "data": {
      "text/html": [
       "<table>\n",
       "    <thead>\n",
       "        <tr>\n",
       "            <th>count</th>\n",
       "        </tr>\n",
       "    </thead>\n",
       "    <tbody>\n",
       "        <tr>\n",
       "            <td>67</td>\n",
       "        </tr>\n",
       "    </tbody>\n",
       "</table>"
      ],
      "text/plain": [
       "[(67,)]"
      ]
     },
     "execution_count": 32,
     "metadata": {},
     "output_type": "execute_result"
    }
   ],
   "source": [
    "%%sql\n",
    "SELECT count(*) From Geography\n",
    "Where borough = 'QUEENS'"
   ]
  },
  {
   "cell_type": "code",
   "execution_count": 33,
   "id": "9adf5f2e-f91c-41bd-aaee-1deaf8866665",
   "metadata": {},
   "outputs": [
    {
     "name": "stdout",
     "output_type": "stream",
     "text": [
      " * postgresql://student@/Final_Project\n",
      "Done.\n"
     ]
    },
    {
     "data": {
      "text/plain": [
       "[]"
      ]
     },
     "execution_count": 33,
     "metadata": {},
     "output_type": "execute_result"
    }
   ],
   "source": [
    "%%sql\n",
    "ALTER TABLE Crashes\n",
    "ADD COLUMN geography_key INTEGER, \n",
    "ADD CONSTRAINT fk_geography\n",
    "FOREIGN KEY (geography_key) REFERENCES Geography (key);"
   ]
  },
  {
   "cell_type": "markdown",
   "id": "f1645f83-1875-4a21-a3af-525fec1ab5a0",
   "metadata": {},
   "source": [
    "After effectively verfying that the table has data, we can add the contraint key."
   ]
  },
  {
   "cell_type": "code",
   "execution_count": 34,
   "id": "8f7faba1-a682-4fbc-91f8-ad4f7326b99b",
   "metadata": {},
   "outputs": [
    {
     "name": "stdout",
     "output_type": "stream",
     "text": [
      " * postgresql://student@/Final_Project\n",
      "10 rows affected.\n"
     ]
    },
    {
     "data": {
      "text/html": [
       "<table>\n",
       "    <thead>\n",
       "        <tr>\n",
       "            <th>crash_date</th>\n",
       "            <th>crash_time</th>\n",
       "            <th>borough</th>\n",
       "            <th>zip_code</th>\n",
       "            <th>number_of_persons_injured</th>\n",
       "            <th>number_of_persons_killed</th>\n",
       "            <th>contributing_factor_vehicle_1</th>\n",
       "            <th>collision_id</th>\n",
       "            <th>vehicle_type_code_1</th>\n",
       "            <th>geography_key</th>\n",
       "        </tr>\n",
       "    </thead>\n",
       "    <tbody>\n",
       "        <tr>\n",
       "            <td>2021-09-11</td>\n",
       "            <td>09:35:00</td>\n",
       "            <td>BROOKLYN            </td>\n",
       "            <td>11208</td>\n",
       "            <td>0</td>\n",
       "            <td>0</td>\n",
       "            <td>Unspecified                                                                                         </td>\n",
       "            <td>4456314</td>\n",
       "            <td>Sedan                                                                                               </td>\n",
       "            <td>None</td>\n",
       "        </tr>\n",
       "        <tr>\n",
       "            <td>2021-12-14</td>\n",
       "            <td>08:17:00</td>\n",
       "            <td>BRONX               </td>\n",
       "            <td>10475</td>\n",
       "            <td>2</td>\n",
       "            <td>0</td>\n",
       "            <td>Unspecified                                                                                         </td>\n",
       "            <td>4486660</td>\n",
       "            <td>Sedan                                                                                               </td>\n",
       "            <td>None</td>\n",
       "        </tr>\n",
       "        <tr>\n",
       "            <td>2021-12-14</td>\n",
       "            <td>21:10:00</td>\n",
       "            <td>BROOKLYN            </td>\n",
       "            <td>11207</td>\n",
       "            <td>0</td>\n",
       "            <td>0</td>\n",
       "            <td>Driver Inexperience                                                                                 </td>\n",
       "            <td>4487074</td>\n",
       "            <td>Sedan                                                                                               </td>\n",
       "            <td>None</td>\n",
       "        </tr>\n",
       "        <tr>\n",
       "            <td>2021-12-14</td>\n",
       "            <td>14:58:00</td>\n",
       "            <td>MANHATTAN           </td>\n",
       "            <td>10017</td>\n",
       "            <td>0</td>\n",
       "            <td>0</td>\n",
       "            <td>Passing Too Closely                                                                                 </td>\n",
       "            <td>4486519</td>\n",
       "            <td>Sedan                                                                                               </td>\n",
       "            <td>None</td>\n",
       "        </tr>\n",
       "        <tr>\n",
       "            <td>2021-12-14</td>\n",
       "            <td>16:50:00</td>\n",
       "            <td>QUEENS              </td>\n",
       "            <td>11413</td>\n",
       "            <td>0</td>\n",
       "            <td>0</td>\n",
       "            <td>Turning Improperly                                                                                  </td>\n",
       "            <td>4487127</td>\n",
       "            <td>Sedan                                                                                               </td>\n",
       "            <td>None</td>\n",
       "        </tr>\n",
       "        <tr>\n",
       "            <td>2021-12-14</td>\n",
       "            <td>23:10:00</td>\n",
       "            <td>QUEENS              </td>\n",
       "            <td>11434</td>\n",
       "            <td>2</td>\n",
       "            <td>0</td>\n",
       "            <td>Reaction to Uninvolved Vehicle                                                                      </td>\n",
       "            <td>4486635</td>\n",
       "            <td>Sedan                                                                                               </td>\n",
       "            <td>None</td>\n",
       "        </tr>\n",
       "        <tr>\n",
       "            <td>2021-12-14</td>\n",
       "            <td>17:58:00</td>\n",
       "            <td>BROOKLYN            </td>\n",
       "            <td>11217</td>\n",
       "            <td>0</td>\n",
       "            <td>0</td>\n",
       "            <td>Passing Too Closely                                                                                 </td>\n",
       "            <td>4486604</td>\n",
       "            <td>Tanker                                                                                              </td>\n",
       "            <td>None</td>\n",
       "        </tr>\n",
       "        <tr>\n",
       "            <td>2021-12-14</td>\n",
       "            <td>20:03:00</td>\n",
       "            <td>BROOKLYN            </td>\n",
       "            <td>11226</td>\n",
       "            <td>4</td>\n",
       "            <td>0</td>\n",
       "            <td>Steering Failure                                                                                    </td>\n",
       "            <td>4486991</td>\n",
       "            <td>Sedan                                                                                               </td>\n",
       "            <td>None</td>\n",
       "        </tr>\n",
       "        <tr>\n",
       "            <td>2021-12-11</td>\n",
       "            <td>19:43:00</td>\n",
       "            <td>BRONX               </td>\n",
       "            <td>10463</td>\n",
       "            <td>1</td>\n",
       "            <td>0</td>\n",
       "            <td>Unspecified                                                                                         </td>\n",
       "            <td>4487040</td>\n",
       "            <td>Station Wagon/Sport Utility Vehicle                                                                 </td>\n",
       "            <td>None</td>\n",
       "        </tr>\n",
       "        <tr>\n",
       "            <td>2021-12-11</td>\n",
       "            <td>04:45:00</td>\n",
       "            <td>MANHATTAN           </td>\n",
       "            <td>10001</td>\n",
       "            <td>0</td>\n",
       "            <td>0</td>\n",
       "            <td>Following Too Closely                                                                               </td>\n",
       "            <td>4486905</td>\n",
       "            <td>Station Wagon/Sport Utility Vehicle                                                                 </td>\n",
       "            <td>None</td>\n",
       "        </tr>\n",
       "    </tbody>\n",
       "</table>"
      ],
      "text/plain": [
       "[(datetime.date(2021, 9, 11), datetime.time(9, 35), 'BROOKLYN            ', Decimal('11208'), Decimal('0'), Decimal('0'), 'Unspecified                                                                                         ', Decimal('4456314'), 'Sedan                                                                                               ', None),\n",
       " (datetime.date(2021, 12, 14), datetime.time(8, 17), 'BRONX               ', Decimal('10475'), Decimal('2'), Decimal('0'), 'Unspecified                                                                                         ', Decimal('4486660'), 'Sedan                                                                                               ', None),\n",
       " (datetime.date(2021, 12, 14), datetime.time(21, 10), 'BROOKLYN            ', Decimal('11207'), Decimal('0'), Decimal('0'), 'Driver Inexperience                                                                                 ', Decimal('4487074'), 'Sedan                                                                                               ', None),\n",
       " (datetime.date(2021, 12, 14), datetime.time(14, 58), 'MANHATTAN           ', Decimal('10017'), Decimal('0'), Decimal('0'), 'Passing Too Closely                                                                                 ', Decimal('4486519'), 'Sedan                                                                                               ', None),\n",
       " (datetime.date(2021, 12, 14), datetime.time(16, 50), 'QUEENS              ', Decimal('11413'), Decimal('0'), Decimal('0'), 'Turning Improperly                                                                                  ', Decimal('4487127'), 'Sedan                                                                                               ', None),\n",
       " (datetime.date(2021, 12, 14), datetime.time(23, 10), 'QUEENS              ', Decimal('11434'), Decimal('2'), Decimal('0'), 'Reaction to Uninvolved Vehicle                                                                      ', Decimal('4486635'), 'Sedan                                                                                               ', None),\n",
       " (datetime.date(2021, 12, 14), datetime.time(17, 58), 'BROOKLYN            ', Decimal('11217'), Decimal('0'), Decimal('0'), 'Passing Too Closely                                                                                 ', Decimal('4486604'), 'Tanker                                                                                              ', None),\n",
       " (datetime.date(2021, 12, 14), datetime.time(20, 3), 'BROOKLYN            ', Decimal('11226'), Decimal('4'), Decimal('0'), 'Steering Failure                                                                                    ', Decimal('4486991'), 'Sedan                                                                                               ', None),\n",
       " (datetime.date(2021, 12, 11), datetime.time(19, 43), 'BRONX               ', Decimal('10463'), Decimal('1'), Decimal('0'), 'Unspecified                                                                                         ', Decimal('4487040'), 'Station Wagon/Sport Utility Vehicle                                                                 ', None),\n",
       " (datetime.date(2021, 12, 11), datetime.time(4, 45), 'MANHATTAN           ', Decimal('10001'), Decimal('0'), Decimal('0'), 'Following Too Closely                                                                               ', Decimal('4486905'), 'Station Wagon/Sport Utility Vehicle                                                                 ', None)]"
      ]
     },
     "execution_count": 34,
     "metadata": {},
     "output_type": "execute_result"
    }
   ],
   "source": [
    "%%sql\n",
    "SELECT * from Crashes\n",
    "LIMIT 10"
   ]
  },
  {
   "cell_type": "code",
   "execution_count": 35,
   "id": "f3de5051-0661-47d2-aec6-619484055b81",
   "metadata": {},
   "outputs": [
    {
     "name": "stdout",
     "output_type": "stream",
     "text": [
      " * postgresql://student@/Final_Project\n",
      "10 rows affected.\n"
     ]
    },
    {
     "data": {
      "text/html": [
       "<table>\n",
       "    <thead>\n",
       "        <tr>\n",
       "            <th>key</th>\n",
       "            <th>borough</th>\n",
       "            <th>zip_code</th>\n",
       "        </tr>\n",
       "    </thead>\n",
       "    <tbody>\n",
       "        <tr>\n",
       "            <td>1</td>\n",
       "            <td>BRONX               </td>\n",
       "            <td>10465</td>\n",
       "        </tr>\n",
       "        <tr>\n",
       "            <td>2</td>\n",
       "            <td>BROOKLYN            </td>\n",
       "            <td>11226</td>\n",
       "        </tr>\n",
       "        <tr>\n",
       "            <td>3</td>\n",
       "            <td>QUEENS              </td>\n",
       "            <td>11416</td>\n",
       "        </tr>\n",
       "        <tr>\n",
       "            <td>4</td>\n",
       "            <td>MANHATTAN           </td>\n",
       "            <td>10169</td>\n",
       "        </tr>\n",
       "        <tr>\n",
       "            <td>5</td>\n",
       "            <td>BRONX               </td>\n",
       "            <td>10464</td>\n",
       "        </tr>\n",
       "        <tr>\n",
       "            <td>6</td>\n",
       "            <td>STATEN ISLAND       </td>\n",
       "            <td>10305</td>\n",
       "        </tr>\n",
       "        <tr>\n",
       "            <td>7</td>\n",
       "            <td>MANHATTAN           </td>\n",
       "            <td>10032</td>\n",
       "        </tr>\n",
       "        <tr>\n",
       "            <td>8</td>\n",
       "            <td>MANHATTAN           </td>\n",
       "            <td>10017</td>\n",
       "        </tr>\n",
       "        <tr>\n",
       "            <td>9</td>\n",
       "            <td>BROOKLYN            </td>\n",
       "            <td>11215</td>\n",
       "        </tr>\n",
       "        <tr>\n",
       "            <td>10</td>\n",
       "            <td>MANHATTAN           </td>\n",
       "            <td>10281</td>\n",
       "        </tr>\n",
       "    </tbody>\n",
       "</table>"
      ],
      "text/plain": [
       "[(1, 'BRONX               ', Decimal('10465')),\n",
       " (2, 'BROOKLYN            ', Decimal('11226')),\n",
       " (3, 'QUEENS              ', Decimal('11416')),\n",
       " (4, 'MANHATTAN           ', Decimal('10169')),\n",
       " (5, 'BRONX               ', Decimal('10464')),\n",
       " (6, 'STATEN ISLAND       ', Decimal('10305')),\n",
       " (7, 'MANHATTAN           ', Decimal('10032')),\n",
       " (8, 'MANHATTAN           ', Decimal('10017')),\n",
       " (9, 'BROOKLYN            ', Decimal('11215')),\n",
       " (10, 'MANHATTAN           ', Decimal('10281'))]"
      ]
     },
     "execution_count": 35,
     "metadata": {},
     "output_type": "execute_result"
    }
   ],
   "source": [
    "%%sql\n",
    "SELECT * from Geography\n",
    "LIMIT 10"
   ]
  },
  {
   "cell_type": "code",
   "execution_count": 36,
   "id": "7a394525-aed9-41ea-801a-0a236f41490b",
   "metadata": {},
   "outputs": [
    {
     "name": "stdout",
     "output_type": "stream",
     "text": [
      " * postgresql://student@/Final_Project\n",
      "793560 rows affected.\n"
     ]
    },
    {
     "data": {
      "text/plain": [
       "[]"
      ]
     },
     "execution_count": 36,
     "metadata": {},
     "output_type": "execute_result"
    }
   ],
   "source": [
    "%%sql\n",
    "UPDATE Crashes\n",
    "SET geography_key = Geography.key\n",
    "FROM Geography\n",
    "WHERE Crashes.borough = Geography.borough\n",
    "    AND Crashes.zip_code = Geography.zip_code;"
   ]
  },
  {
   "cell_type": "markdown",
   "id": "d42f509e-3f25-4700-aa79-10bff0e90a4e",
   "metadata": {},
   "source": [
    "With the constraint key created we need to update the 'Crashes' table by having the 'Crashes' table columns: 'borough' and 'zip_code' match that of 'Geographys' columns: 'borough' and 'zip_code' values. "
   ]
  },
  {
   "cell_type": "code",
   "execution_count": 37,
   "id": "c140ff65-f1fc-4c73-894d-576d3dc7a0b6",
   "metadata": {},
   "outputs": [
    {
     "name": "stdout",
     "output_type": "stream",
     "text": [
      " * postgresql://student@/Final_Project\n",
      "5 rows affected.\n"
     ]
    },
    {
     "data": {
      "text/html": [
       "<table>\n",
       "    <thead>\n",
       "        <tr>\n",
       "            <th>crash_date</th>\n",
       "            <th>crash_time</th>\n",
       "            <th>borough</th>\n",
       "            <th>zip_code</th>\n",
       "            <th>number_of_persons_injured</th>\n",
       "            <th>number_of_persons_killed</th>\n",
       "            <th>contributing_factor_vehicle_1</th>\n",
       "            <th>collision_id</th>\n",
       "            <th>vehicle_type_code_1</th>\n",
       "            <th>geography_key</th>\n",
       "        </tr>\n",
       "    </thead>\n",
       "    <tbody>\n",
       "        <tr>\n",
       "            <td>2021-09-11</td>\n",
       "            <td>09:35:00</td>\n",
       "            <td>BROOKLYN            </td>\n",
       "            <td>11208</td>\n",
       "            <td>0</td>\n",
       "            <td>0</td>\n",
       "            <td>Unspecified                                                                                         </td>\n",
       "            <td>4456314</td>\n",
       "            <td>Sedan                                                                                               </td>\n",
       "            <td>167</td>\n",
       "        </tr>\n",
       "        <tr>\n",
       "            <td>2021-12-14</td>\n",
       "            <td>08:17:00</td>\n",
       "            <td>BRONX               </td>\n",
       "            <td>10475</td>\n",
       "            <td>2</td>\n",
       "            <td>0</td>\n",
       "            <td>Unspecified                                                                                         </td>\n",
       "            <td>4486660</td>\n",
       "            <td>Sedan                                                                                               </td>\n",
       "            <td>217</td>\n",
       "        </tr>\n",
       "        <tr>\n",
       "            <td>2021-12-14</td>\n",
       "            <td>21:10:00</td>\n",
       "            <td>BROOKLYN            </td>\n",
       "            <td>11207</td>\n",
       "            <td>0</td>\n",
       "            <td>0</td>\n",
       "            <td>Driver Inexperience                                                                                 </td>\n",
       "            <td>4487074</td>\n",
       "            <td>Sedan                                                                                               </td>\n",
       "            <td>201</td>\n",
       "        </tr>\n",
       "        <tr>\n",
       "            <td>2021-12-14</td>\n",
       "            <td>14:58:00</td>\n",
       "            <td>MANHATTAN           </td>\n",
       "            <td>10017</td>\n",
       "            <td>0</td>\n",
       "            <td>0</td>\n",
       "            <td>Passing Too Closely                                                                                 </td>\n",
       "            <td>4486519</td>\n",
       "            <td>Sedan                                                                                               </td>\n",
       "            <td>8</td>\n",
       "        </tr>\n",
       "        <tr>\n",
       "            <td>2021-12-14</td>\n",
       "            <td>16:50:00</td>\n",
       "            <td>QUEENS              </td>\n",
       "            <td>11413</td>\n",
       "            <td>0</td>\n",
       "            <td>0</td>\n",
       "            <td>Turning Improperly                                                                                  </td>\n",
       "            <td>4487127</td>\n",
       "            <td>Sedan                                                                                               </td>\n",
       "            <td>69</td>\n",
       "        </tr>\n",
       "    </tbody>\n",
       "</table>"
      ],
      "text/plain": [
       "[(datetime.date(2021, 9, 11), datetime.time(9, 35), 'BROOKLYN            ', Decimal('11208'), Decimal('0'), Decimal('0'), 'Unspecified                                                                                         ', Decimal('4456314'), 'Sedan                                                                                               ', 167),\n",
       " (datetime.date(2021, 12, 14), datetime.time(8, 17), 'BRONX               ', Decimal('10475'), Decimal('2'), Decimal('0'), 'Unspecified                                                                                         ', Decimal('4486660'), 'Sedan                                                                                               ', 217),\n",
       " (datetime.date(2021, 12, 14), datetime.time(21, 10), 'BROOKLYN            ', Decimal('11207'), Decimal('0'), Decimal('0'), 'Driver Inexperience                                                                                 ', Decimal('4487074'), 'Sedan                                                                                               ', 201),\n",
       " (datetime.date(2021, 12, 14), datetime.time(14, 58), 'MANHATTAN           ', Decimal('10017'), Decimal('0'), Decimal('0'), 'Passing Too Closely                                                                                 ', Decimal('4486519'), 'Sedan                                                                                               ', 8),\n",
       " (datetime.date(2021, 12, 14), datetime.time(16, 50), 'QUEENS              ', Decimal('11413'), Decimal('0'), Decimal('0'), 'Turning Improperly                                                                                  ', Decimal('4487127'), 'Sedan                                                                                               ', 69)]"
      ]
     },
     "execution_count": 37,
     "metadata": {},
     "output_type": "execute_result"
    }
   ],
   "source": [
    "%%sql\n",
    "SELECT * FROM Crashes \n",
    "LIMIT 5;"
   ]
  },
  {
   "cell_type": "markdown",
   "id": "7d688513-33b7-437f-9f90-381df1db034e",
   "metadata": {},
   "source": [
    "Check there are no null values in the 'geography_key' column."
   ]
  },
  {
   "cell_type": "code",
   "execution_count": 38,
   "id": "f1057ece-d037-481c-ae4a-cc4f6d69c3ea",
   "metadata": {},
   "outputs": [
    {
     "name": "stdout",
     "output_type": "stream",
     "text": [
      " * postgresql://student@/Final_Project\n",
      "1 rows affected.\n"
     ]
    },
    {
     "data": {
      "text/html": [
       "<table>\n",
       "    <thead>\n",
       "        <tr>\n",
       "            <th>count</th>\n",
       "        </tr>\n",
       "    </thead>\n",
       "    <tbody>\n",
       "        <tr>\n",
       "            <td>0</td>\n",
       "        </tr>\n",
       "    </tbody>\n",
       "</table>"
      ],
      "text/plain": [
       "[(0,)]"
      ]
     },
     "execution_count": 38,
     "metadata": {},
     "output_type": "execute_result"
    }
   ],
   "source": [
    "%%sql \n",
    "SELECT count(*) From Crashes\n",
    "Where geography_key is NULL"
   ]
  },
  {
   "cell_type": "markdown",
   "id": "5798adfc-71c8-40be-8d99-ea25cdebb939",
   "metadata": {},
   "source": [
    "We check that there are no null values in the 'Crashes' table in the 'geography_key'."
   ]
  },
  {
   "cell_type": "code",
   "execution_count": 39,
   "id": "2afc991b-62d3-4b81-a772-603e18f91cd1",
   "metadata": {},
   "outputs": [
    {
     "name": "stdout",
     "output_type": "stream",
     "text": [
      " * postgresql://student@/Final_Project\n",
      "1 rows affected.\n"
     ]
    },
    {
     "data": {
      "text/html": [
       "<table>\n",
       "    <thead>\n",
       "        <tr>\n",
       "            <th>count</th>\n",
       "        </tr>\n",
       "    </thead>\n",
       "    <tbody>\n",
       "        <tr>\n",
       "            <td>234</td>\n",
       "        </tr>\n",
       "    </tbody>\n",
       "</table>"
      ],
      "text/plain": [
       "[(234,)]"
      ]
     },
     "execution_count": 39,
     "metadata": {},
     "output_type": "execute_result"
    }
   ],
   "source": [
    "%%sql\n",
    "SELECT count(DISTINCT geography_key)\n",
    "FROM Crashes"
   ]
  },
  {
   "cell_type": "code",
   "execution_count": 40,
   "id": "fc1c15bd-b2a6-428e-872d-082170b3185f",
   "metadata": {},
   "outputs": [
    {
     "name": "stdout",
     "output_type": "stream",
     "text": [
      " * postgresql://student@/Final_Project\n",
      "1 rows affected.\n"
     ]
    },
    {
     "data": {
      "text/html": [
       "<table>\n",
       "    <thead>\n",
       "        <tr>\n",
       "            <th>count</th>\n",
       "        </tr>\n",
       "    </thead>\n",
       "    <tbody>\n",
       "        <tr>\n",
       "            <td>234</td>\n",
       "        </tr>\n",
       "    </tbody>\n",
       "</table>"
      ],
      "text/plain": [
       "[(234,)]"
      ]
     },
     "execution_count": 40,
     "metadata": {},
     "output_type": "execute_result"
    }
   ],
   "source": [
    "%%sql\n",
    "SELECT count(key)\n",
    "FROM Geography"
   ]
  },
  {
   "cell_type": "markdown",
   "id": "00918a5d-f517-4d57-b1e2-e23a178154eb",
   "metadata": {},
   "source": [
    "Check the distinct 'geography_key' count in both the fact table (Crashes) and the dimensional table (Geography). They have the same count, which is 234. Thus, we ensure that the fact table contains the right number of records."
   ]
  },
  {
   "cell_type": "markdown",
   "id": "727c5601-fb24-4608-99c8-e7f6a2ea59dc",
   "metadata": {},
   "source": [
    "**Work on Contributing_factor dimension table, modify fact table and link them together**"
   ]
  },
  {
   "cell_type": "code",
   "execution_count": 41,
   "id": "379db60e-72e3-402c-ae92-8b6fe0436879",
   "metadata": {},
   "outputs": [
    {
     "name": "stdout",
     "output_type": "stream",
     "text": [
      " * postgresql://student@/Final_Project\n",
      "Done.\n",
      "Done.\n"
     ]
    },
    {
     "data": {
      "text/plain": [
       "[]"
      ]
     },
     "execution_count": 41,
     "metadata": {},
     "output_type": "execute_result"
    }
   ],
   "source": [
    "%%sql\n",
    "DROP TABLE IF EXISTS Contributing_factor CASCADE;\n",
    "\n",
    "CREATE TABLE Contributing_factor ( \n",
    "    key SERIAL PRIMARY KEY, \n",
    "    contributing_factor_vehicle_1 CHAR(100)\n",
    ");"
   ]
  },
  {
   "cell_type": "markdown",
   "id": "507e9c75-070b-490c-90d0-f39d9a98d40d",
   "metadata": {},
   "source": [
    "Next is to create the second dimensional table \"Contributing_factor\", this dimensional table will have one primary key. \n",
    "\n",
    "CASCADE is often used with foreign keys and update delete commands. Meaning that the changes to the referenced table will automatically be applied to the referencing table. In other words this creates a parent-child relationship. "
   ]
  },
  {
   "cell_type": "code",
   "execution_count": 42,
   "id": "b840d44a-e96f-45b8-b2f0-b7867d678acf",
   "metadata": {},
   "outputs": [
    {
     "name": "stdout",
     "output_type": "stream",
     "text": [
      " * postgresql://student@/Final_Project\n",
      "61 rows affected.\n"
     ]
    },
    {
     "data": {
      "text/plain": [
       "[]"
      ]
     },
     "execution_count": 42,
     "metadata": {},
     "output_type": "execute_result"
    }
   ],
   "source": [
    "%%sql\n",
    "INSERT INTO Contributing_factor (contributing_factor_vehicle_1) \n",
    "SELECT DISTINCT contributing_factor_vehicle_1\n",
    "FROM Crashes;"
   ]
  },
  {
   "cell_type": "markdown",
   "id": "5aadd05c-9cea-435f-8f4b-f91f55bec468",
   "metadata": {},
   "source": [
    "Again, we will need to insert the contributing factors from the parent table \"Crashes\" to the child table 'Contributing_factors'. We'll then want to validate whether or not the insertion of data was done correctly. "
   ]
  },
  {
   "cell_type": "code",
   "execution_count": 44,
   "id": "40cf3925-5e46-42a0-aa09-9632300bda58",
   "metadata": {
    "tags": []
   },
   "outputs": [
    {
     "name": "stdout",
     "output_type": "stream",
     "text": [
      " * postgresql://student@/Final_Project\n",
      "10 rows affected.\n"
     ]
    },
    {
     "data": {
      "text/html": [
       "<table>\n",
       "    <thead>\n",
       "        <tr>\n",
       "            <th>key</th>\n",
       "            <th>contributing_factor_vehicle_1</th>\n",
       "        </tr>\n",
       "    </thead>\n",
       "    <tbody>\n",
       "        <tr>\n",
       "            <td>1</td>\n",
       "            <td>Animals Action                                                                                      </td>\n",
       "        </tr>\n",
       "        <tr>\n",
       "            <td>2</td>\n",
       "            <td>Steering Failure                                                                                    </td>\n",
       "        </tr>\n",
       "        <tr>\n",
       "            <td>3</td>\n",
       "            <td>Driver Inattention/Distraction                                                                      </td>\n",
       "        </tr>\n",
       "        <tr>\n",
       "            <td>4</td>\n",
       "            <td>Accelerator Defective                                                                               </td>\n",
       "        </tr>\n",
       "        <tr>\n",
       "            <td>5</td>\n",
       "            <td>Tire Failure/Inadequate                                                                             </td>\n",
       "        </tr>\n",
       "        <tr>\n",
       "            <td>6</td>\n",
       "            <td>Brakes Defective                                                                                    </td>\n",
       "        </tr>\n",
       "        <tr>\n",
       "            <td>7</td>\n",
       "            <td>Traffic Control Device Improper/Non-Working                                                         </td>\n",
       "        </tr>\n",
       "        <tr>\n",
       "            <td>8</td>\n",
       "            <td>Pedestrian/Bicyclist/Other Pedestrian Error/Confusion                                               </td>\n",
       "        </tr>\n",
       "        <tr>\n",
       "            <td>9</td>\n",
       "            <td>Illness                                                                                             </td>\n",
       "        </tr>\n",
       "        <tr>\n",
       "            <td>10</td>\n",
       "            <td>Failure to Keep Right                                                                               </td>\n",
       "        </tr>\n",
       "    </tbody>\n",
       "</table>"
      ],
      "text/plain": [
       "[(1, 'Animals Action                                                                                      '),\n",
       " (2, 'Steering Failure                                                                                    '),\n",
       " (3, 'Driver Inattention/Distraction                                                                      '),\n",
       " (4, 'Accelerator Defective                                                                               '),\n",
       " (5, 'Tire Failure/Inadequate                                                                             '),\n",
       " (6, 'Brakes Defective                                                                                    '),\n",
       " (7, 'Traffic Control Device Improper/Non-Working                                                         '),\n",
       " (8, 'Pedestrian/Bicyclist/Other Pedestrian Error/Confusion                                               '),\n",
       " (9, 'Illness                                                                                             '),\n",
       " (10, 'Failure to Keep Right                                                                               ')]"
      ]
     },
     "execution_count": 44,
     "metadata": {},
     "output_type": "execute_result"
    }
   ],
   "source": [
    "%%sql\n",
    "SELECT * From Contributing_factor\n",
    "Order By Key\n",
    "limit 10"
   ]
  },
  {
   "cell_type": "markdown",
   "id": "2d794107-331a-4ef8-845e-bd38496f0f76",
   "metadata": {},
   "source": [
    "Next, step is to create the constraint key. "
   ]
  },
  {
   "cell_type": "code",
   "execution_count": 45,
   "id": "9916c4e9-de6c-46f7-833c-fdd8ce72c47f",
   "metadata": {},
   "outputs": [
    {
     "name": "stdout",
     "output_type": "stream",
     "text": [
      " * postgresql://student@/Final_Project\n",
      "Done.\n"
     ]
    },
    {
     "data": {
      "text/plain": [
       "[]"
      ]
     },
     "execution_count": 45,
     "metadata": {},
     "output_type": "execute_result"
    }
   ],
   "source": [
    "%%sql\n",
    "ALTER TABLE Crashes\n",
    "ADD COLUMN contributing_factor_key INTEGER, \n",
    "ADD CONSTRAINT fk_contributing_factor\n",
    "FOREIGN KEY (contributing_factor_key) REFERENCES Contributing_factor (key);"
   ]
  },
  {
   "cell_type": "code",
   "execution_count": 46,
   "id": "e20458df-bb3f-407a-b4c2-206a31918558",
   "metadata": {},
   "outputs": [
    {
     "name": "stdout",
     "output_type": "stream",
     "text": [
      " * postgresql://student@/Final_Project\n",
      "10 rows affected.\n"
     ]
    },
    {
     "data": {
      "text/html": [
       "<table>\n",
       "    <thead>\n",
       "        <tr>\n",
       "            <th>crash_date</th>\n",
       "            <th>crash_time</th>\n",
       "            <th>borough</th>\n",
       "            <th>zip_code</th>\n",
       "            <th>number_of_persons_injured</th>\n",
       "            <th>number_of_persons_killed</th>\n",
       "            <th>contributing_factor_vehicle_1</th>\n",
       "            <th>collision_id</th>\n",
       "            <th>vehicle_type_code_1</th>\n",
       "            <th>geography_key</th>\n",
       "            <th>contributing_factor_key</th>\n",
       "        </tr>\n",
       "    </thead>\n",
       "    <tbody>\n",
       "        <tr>\n",
       "            <td>2021-09-11</td>\n",
       "            <td>09:35:00</td>\n",
       "            <td>BROOKLYN            </td>\n",
       "            <td>11208</td>\n",
       "            <td>0</td>\n",
       "            <td>0</td>\n",
       "            <td>Unspecified                                                                                         </td>\n",
       "            <td>4456314</td>\n",
       "            <td>Sedan                                                                                               </td>\n",
       "            <td>167</td>\n",
       "            <td>None</td>\n",
       "        </tr>\n",
       "        <tr>\n",
       "            <td>2021-12-14</td>\n",
       "            <td>08:17:00</td>\n",
       "            <td>BRONX               </td>\n",
       "            <td>10475</td>\n",
       "            <td>2</td>\n",
       "            <td>0</td>\n",
       "            <td>Unspecified                                                                                         </td>\n",
       "            <td>4486660</td>\n",
       "            <td>Sedan                                                                                               </td>\n",
       "            <td>217</td>\n",
       "            <td>None</td>\n",
       "        </tr>\n",
       "        <tr>\n",
       "            <td>2021-12-14</td>\n",
       "            <td>21:10:00</td>\n",
       "            <td>BROOKLYN            </td>\n",
       "            <td>11207</td>\n",
       "            <td>0</td>\n",
       "            <td>0</td>\n",
       "            <td>Driver Inexperience                                                                                 </td>\n",
       "            <td>4487074</td>\n",
       "            <td>Sedan                                                                                               </td>\n",
       "            <td>201</td>\n",
       "            <td>None</td>\n",
       "        </tr>\n",
       "        <tr>\n",
       "            <td>2021-12-14</td>\n",
       "            <td>14:58:00</td>\n",
       "            <td>MANHATTAN           </td>\n",
       "            <td>10017</td>\n",
       "            <td>0</td>\n",
       "            <td>0</td>\n",
       "            <td>Passing Too Closely                                                                                 </td>\n",
       "            <td>4486519</td>\n",
       "            <td>Sedan                                                                                               </td>\n",
       "            <td>8</td>\n",
       "            <td>None</td>\n",
       "        </tr>\n",
       "        <tr>\n",
       "            <td>2021-12-14</td>\n",
       "            <td>16:50:00</td>\n",
       "            <td>QUEENS              </td>\n",
       "            <td>11413</td>\n",
       "            <td>0</td>\n",
       "            <td>0</td>\n",
       "            <td>Turning Improperly                                                                                  </td>\n",
       "            <td>4487127</td>\n",
       "            <td>Sedan                                                                                               </td>\n",
       "            <td>69</td>\n",
       "            <td>None</td>\n",
       "        </tr>\n",
       "        <tr>\n",
       "            <td>2021-12-14</td>\n",
       "            <td>23:10:00</td>\n",
       "            <td>QUEENS              </td>\n",
       "            <td>11434</td>\n",
       "            <td>2</td>\n",
       "            <td>0</td>\n",
       "            <td>Reaction to Uninvolved Vehicle                                                                      </td>\n",
       "            <td>4486635</td>\n",
       "            <td>Sedan                                                                                               </td>\n",
       "            <td>59</td>\n",
       "            <td>None</td>\n",
       "        </tr>\n",
       "        <tr>\n",
       "            <td>2021-12-14</td>\n",
       "            <td>12:54:00</td>\n",
       "            <td>BROOKLYN            </td>\n",
       "            <td>11217</td>\n",
       "            <td>1</td>\n",
       "            <td>0</td>\n",
       "            <td>Unspecified                                                                                         </td>\n",
       "            <td>4487052</td>\n",
       "            <td>Sedan                                                                                               </td>\n",
       "            <td>174</td>\n",
       "            <td>None</td>\n",
       "        </tr>\n",
       "        <tr>\n",
       "            <td>2021-12-14</td>\n",
       "            <td>17:15:00</td>\n",
       "            <td>BROOKLYN            </td>\n",
       "            <td>11211</td>\n",
       "            <td>1</td>\n",
       "            <td>0</td>\n",
       "            <td>Passing or Lane Usage Improper                                                                      </td>\n",
       "            <td>4486556</td>\n",
       "            <td>Bus                                                                                                 </td>\n",
       "            <td>145</td>\n",
       "            <td>None</td>\n",
       "        </tr>\n",
       "        <tr>\n",
       "            <td>2022-03-26</td>\n",
       "            <td>16:02:00</td>\n",
       "            <td>QUEENS              </td>\n",
       "            <td>11373</td>\n",
       "            <td>1</td>\n",
       "            <td>0</td>\n",
       "            <td>Lost Consciousness                                                                                  </td>\n",
       "            <td>4513794</td>\n",
       "            <td>Station Wagon/Sport Utility Vehicle                                                                 </td>\n",
       "            <td>220</td>\n",
       "            <td>None</td>\n",
       "        </tr>\n",
       "        <tr>\n",
       "            <td>2022-03-26</td>\n",
       "            <td>16:05:00</td>\n",
       "            <td>QUEENS              </td>\n",
       "            <td>11411</td>\n",
       "            <td>1</td>\n",
       "            <td>0</td>\n",
       "            <td>Following Too Closely                                                                               </td>\n",
       "            <td>4514267</td>\n",
       "            <td>Station Wagon/Sport Utility Vehicle                                                                 </td>\n",
       "            <td>98</td>\n",
       "            <td>None</td>\n",
       "        </tr>\n",
       "    </tbody>\n",
       "</table>"
      ],
      "text/plain": [
       "[(datetime.date(2021, 9, 11), datetime.time(9, 35), 'BROOKLYN            ', Decimal('11208'), Decimal('0'), Decimal('0'), 'Unspecified                                                                                         ', Decimal('4456314'), 'Sedan                                                                                               ', 167, None),\n",
       " (datetime.date(2021, 12, 14), datetime.time(8, 17), 'BRONX               ', Decimal('10475'), Decimal('2'), Decimal('0'), 'Unspecified                                                                                         ', Decimal('4486660'), 'Sedan                                                                                               ', 217, None),\n",
       " (datetime.date(2021, 12, 14), datetime.time(21, 10), 'BROOKLYN            ', Decimal('11207'), Decimal('0'), Decimal('0'), 'Driver Inexperience                                                                                 ', Decimal('4487074'), 'Sedan                                                                                               ', 201, None),\n",
       " (datetime.date(2021, 12, 14), datetime.time(14, 58), 'MANHATTAN           ', Decimal('10017'), Decimal('0'), Decimal('0'), 'Passing Too Closely                                                                                 ', Decimal('4486519'), 'Sedan                                                                                               ', 8, None),\n",
       " (datetime.date(2021, 12, 14), datetime.time(16, 50), 'QUEENS              ', Decimal('11413'), Decimal('0'), Decimal('0'), 'Turning Improperly                                                                                  ', Decimal('4487127'), 'Sedan                                                                                               ', 69, None),\n",
       " (datetime.date(2021, 12, 14), datetime.time(23, 10), 'QUEENS              ', Decimal('11434'), Decimal('2'), Decimal('0'), 'Reaction to Uninvolved Vehicle                                                                      ', Decimal('4486635'), 'Sedan                                                                                               ', 59, None),\n",
       " (datetime.date(2021, 12, 14), datetime.time(12, 54), 'BROOKLYN            ', Decimal('11217'), Decimal('1'), Decimal('0'), 'Unspecified                                                                                         ', Decimal('4487052'), 'Sedan                                                                                               ', 174, None),\n",
       " (datetime.date(2021, 12, 14), datetime.time(17, 15), 'BROOKLYN            ', Decimal('11211'), Decimal('1'), Decimal('0'), 'Passing or Lane Usage Improper                                                                      ', Decimal('4486556'), 'Bus                                                                                                 ', 145, None),\n",
       " (datetime.date(2022, 3, 26), datetime.time(16, 2), 'QUEENS              ', Decimal('11373'), Decimal('1'), Decimal('0'), 'Lost Consciousness                                                                                  ', Decimal('4513794'), 'Station Wagon/Sport Utility Vehicle                                                                 ', 220, None),\n",
       " (datetime.date(2022, 3, 26), datetime.time(16, 5), 'QUEENS              ', Decimal('11411'), Decimal('1'), Decimal('0'), 'Following Too Closely                                                                               ', Decimal('4514267'), 'Station Wagon/Sport Utility Vehicle                                                                 ', 98, None)]"
      ]
     },
     "execution_count": 46,
     "metadata": {},
     "output_type": "execute_result"
    }
   ],
   "source": [
    "%%sql\n",
    "SELECT * from Crashes\n",
    "LIMIT 10"
   ]
  },
  {
   "cell_type": "code",
   "execution_count": 47,
   "id": "7f522bcb-dfa1-4f93-ae31-3d7f55271528",
   "metadata": {},
   "outputs": [
    {
     "name": "stdout",
     "output_type": "stream",
     "text": [
      " * postgresql://student@/Final_Project\n",
      "10 rows affected.\n"
     ]
    },
    {
     "data": {
      "text/html": [
       "<table>\n",
       "    <thead>\n",
       "        <tr>\n",
       "            <th>key</th>\n",
       "            <th>contributing_factor_vehicle_1</th>\n",
       "        </tr>\n",
       "    </thead>\n",
       "    <tbody>\n",
       "        <tr>\n",
       "            <td>1</td>\n",
       "            <td>Animals Action                                                                                      </td>\n",
       "        </tr>\n",
       "        <tr>\n",
       "            <td>2</td>\n",
       "            <td>Steering Failure                                                                                    </td>\n",
       "        </tr>\n",
       "        <tr>\n",
       "            <td>3</td>\n",
       "            <td>Driver Inattention/Distraction                                                                      </td>\n",
       "        </tr>\n",
       "        <tr>\n",
       "            <td>4</td>\n",
       "            <td>Accelerator Defective                                                                               </td>\n",
       "        </tr>\n",
       "        <tr>\n",
       "            <td>5</td>\n",
       "            <td>Tire Failure/Inadequate                                                                             </td>\n",
       "        </tr>\n",
       "        <tr>\n",
       "            <td>6</td>\n",
       "            <td>Brakes Defective                                                                                    </td>\n",
       "        </tr>\n",
       "        <tr>\n",
       "            <td>7</td>\n",
       "            <td>Traffic Control Device Improper/Non-Working                                                         </td>\n",
       "        </tr>\n",
       "        <tr>\n",
       "            <td>8</td>\n",
       "            <td>Pedestrian/Bicyclist/Other Pedestrian Error/Confusion                                               </td>\n",
       "        </tr>\n",
       "        <tr>\n",
       "            <td>9</td>\n",
       "            <td>Illness                                                                                             </td>\n",
       "        </tr>\n",
       "        <tr>\n",
       "            <td>10</td>\n",
       "            <td>Failure to Keep Right                                                                               </td>\n",
       "        </tr>\n",
       "    </tbody>\n",
       "</table>"
      ],
      "text/plain": [
       "[(1, 'Animals Action                                                                                      '),\n",
       " (2, 'Steering Failure                                                                                    '),\n",
       " (3, 'Driver Inattention/Distraction                                                                      '),\n",
       " (4, 'Accelerator Defective                                                                               '),\n",
       " (5, 'Tire Failure/Inadequate                                                                             '),\n",
       " (6, 'Brakes Defective                                                                                    '),\n",
       " (7, 'Traffic Control Device Improper/Non-Working                                                         '),\n",
       " (8, 'Pedestrian/Bicyclist/Other Pedestrian Error/Confusion                                               '),\n",
       " (9, 'Illness                                                                                             '),\n",
       " (10, 'Failure to Keep Right                                                                               ')]"
      ]
     },
     "execution_count": 47,
     "metadata": {},
     "output_type": "execute_result"
    }
   ],
   "source": [
    "%%sql\n",
    "SELECT * from Contributing_factor\n",
    "LIMIT 10"
   ]
  },
  {
   "cell_type": "code",
   "execution_count": 48,
   "id": "ac915a1c-bd6f-4ecf-850d-a0b47d461ba4",
   "metadata": {},
   "outputs": [
    {
     "name": "stdout",
     "output_type": "stream",
     "text": [
      " * postgresql://student@/Final_Project\n",
      "793560 rows affected.\n"
     ]
    },
    {
     "data": {
      "text/plain": [
       "[]"
      ]
     },
     "execution_count": 48,
     "metadata": {},
     "output_type": "execute_result"
    }
   ],
   "source": [
    "%%sql\n",
    "UPDATE Crashes\n",
    "SET contributing_factor_key = Contributing_factor.key\n",
    "FROM Contributing_factor\n",
    "WHERE \n",
    "    (Crashes.contributing_factor_vehicle_1 = Contributing_factor.contributing_factor_vehicle_1 OR\n",
    "     (Crashes.contributing_factor_vehicle_1 IS NULL AND Contributing_factor.contributing_factor_vehicle_1 IS NULL))"
   ]
  },
  {
   "cell_type": "markdown",
   "id": "a1d2d05d-0a42-4722-9f8b-a20767f3e9e5",
   "metadata": {},
   "source": [
    "This will insert the contraint key 'Contributing_factor.key' into the 'Crashes' table. This allows the exact values to be copied over. "
   ]
  },
  {
   "cell_type": "code",
   "execution_count": 49,
   "id": "6bca9029-6167-44d8-83c4-cc0288c0e6c3",
   "metadata": {},
   "outputs": [
    {
     "name": "stdout",
     "output_type": "stream",
     "text": [
      " * postgresql://student@/Final_Project\n",
      "1 rows affected.\n"
     ]
    },
    {
     "data": {
      "text/html": [
       "<table>\n",
       "    <thead>\n",
       "        <tr>\n",
       "            <th>count</th>\n",
       "        </tr>\n",
       "    </thead>\n",
       "    <tbody>\n",
       "        <tr>\n",
       "            <td>0</td>\n",
       "        </tr>\n",
       "    </tbody>\n",
       "</table>"
      ],
      "text/plain": [
       "[(0,)]"
      ]
     },
     "execution_count": 49,
     "metadata": {},
     "output_type": "execute_result"
    }
   ],
   "source": [
    "%%sql\n",
    "SELECT count(*)\n",
    "FROM Crashes\n",
    "WHERE contributing_factor_key IS NULL"
   ]
  },
  {
   "cell_type": "markdown",
   "id": "9e80bb58-b5f5-45c3-bd49-c57c4449a553",
   "metadata": {},
   "source": [
    "Check there are no null values in the 'contributing_factor_key' column."
   ]
  },
  {
   "cell_type": "code",
   "execution_count": 50,
   "id": "090c7a5b-acaf-4c4c-b55e-3304e6faaac4",
   "metadata": {},
   "outputs": [
    {
     "name": "stdout",
     "output_type": "stream",
     "text": [
      " * postgresql://student@/Final_Project\n",
      "1 rows affected.\n"
     ]
    },
    {
     "data": {
      "text/html": [
       "<table>\n",
       "    <thead>\n",
       "        <tr>\n",
       "            <th>count</th>\n",
       "        </tr>\n",
       "    </thead>\n",
       "    <tbody>\n",
       "        <tr>\n",
       "            <td>61</td>\n",
       "        </tr>\n",
       "    </tbody>\n",
       "</table>"
      ],
      "text/plain": [
       "[(61,)]"
      ]
     },
     "execution_count": 50,
     "metadata": {},
     "output_type": "execute_result"
    }
   ],
   "source": [
    "%%sql\n",
    "SELECT count(DISTINCT contributing_factor_key)\n",
    "FROM Crashes"
   ]
  },
  {
   "cell_type": "code",
   "execution_count": 51,
   "id": "3b922c53-d6bf-4805-a4ae-b7ea6d86b2e2",
   "metadata": {},
   "outputs": [
    {
     "name": "stdout",
     "output_type": "stream",
     "text": [
      " * postgresql://student@/Final_Project\n",
      "1 rows affected.\n"
     ]
    },
    {
     "data": {
      "text/html": [
       "<table>\n",
       "    <thead>\n",
       "        <tr>\n",
       "            <th>count</th>\n",
       "        </tr>\n",
       "    </thead>\n",
       "    <tbody>\n",
       "        <tr>\n",
       "            <td>61</td>\n",
       "        </tr>\n",
       "    </tbody>\n",
       "</table>"
      ],
      "text/plain": [
       "[(61,)]"
      ]
     },
     "execution_count": 51,
     "metadata": {},
     "output_type": "execute_result"
    }
   ],
   "source": [
    "%%sql\n",
    "SELECT count(key)\n",
    "FROM Contributing_factor"
   ]
  },
  {
   "cell_type": "markdown",
   "id": "d5c45ad2-1183-4bb4-8408-30a6bf127e86",
   "metadata": {},
   "source": [
    "Check the distinct 'contributing_factor_key' count in both the fact table (Crashes) and the dimensional table (Contributing_factor). They have the same count, which is 61. Thus, we ensure that the fact table contains the right number of records."
   ]
  },
  {
   "cell_type": "markdown",
   "id": "66ca4cb7-2a46-431e-a9aa-3936d849df17",
   "metadata": {},
   "source": [
    "**Work on Vehicle_type dimension table, modify fact table and link them together**"
   ]
  },
  {
   "cell_type": "code",
   "execution_count": 52,
   "id": "eeb480f8-37ea-41af-8ae6-201c30fcd3b7",
   "metadata": {},
   "outputs": [
    {
     "name": "stdout",
     "output_type": "stream",
     "text": [
      " * postgresql://student@/Final_Project\n",
      "Done.\n",
      "Done.\n"
     ]
    },
    {
     "data": {
      "text/plain": [
       "[]"
      ]
     },
     "execution_count": 52,
     "metadata": {},
     "output_type": "execute_result"
    }
   ],
   "source": [
    "%%sql\n",
    "DROP TABLE IF EXISTS Vehicle_type CASCADE;\n",
    "\n",
    "CREATE TABLE Vehicle_type ( \n",
    "    key SERIAL PRIMARY KEY, \n",
    "    vehicle_type_code_1 CHAR(100)\n",
    ");"
   ]
  },
  {
   "cell_type": "markdown",
   "id": "a2d39056-7b84-4adc-9530-a5bb2b39ae08",
   "metadata": {},
   "source": [
    "Now, we create the third dimensional table 'Vehicle_type': this dimensional table will have one primary key. \n",
    "\n",
    "CASCADE is often used with foreign keys and to update delete commands. Meaning if the changes to the referenced table will automatically be applied to the referencing table. In other words this creates a parent-child relationship."
   ]
  },
  {
   "cell_type": "code",
   "execution_count": 53,
   "id": "f2396681-4b2f-49e5-91f0-a25940fe9afe",
   "metadata": {},
   "outputs": [
    {
     "name": "stdout",
     "output_type": "stream",
     "text": [
      " * postgresql://student@/Final_Project\n",
      "1145 rows affected.\n"
     ]
    },
    {
     "data": {
      "text/plain": [
       "[]"
      ]
     },
     "execution_count": 53,
     "metadata": {},
     "output_type": "execute_result"
    }
   ],
   "source": [
    "%%sql\n",
    "INSERT INTO Vehicle_type (vehicle_type_code_1) \n",
    "SELECT DISTINCT vehicle_type_code_1\n",
    "FROM Crashes;"
   ]
  },
  {
   "cell_type": "markdown",
   "id": "621d4117-6487-44ee-bd2d-d003f97f18f4",
   "metadata": {},
   "source": [
    "Again, we will need to insert the vehicle type from the parent table 'Crashes' to the child table 'Vehicle_type'. We'll then want to validate whether or not the insertion of data was done correctly."
   ]
  },
  {
   "cell_type": "code",
   "execution_count": 54,
   "id": "f1208b97-9bbb-48fe-b0fd-7a511ebe5d11",
   "metadata": {
    "tags": []
   },
   "outputs": [
    {
     "name": "stdout",
     "output_type": "stream",
     "text": [
      " * postgresql://student@/Final_Project\n",
      "10 rows affected.\n"
     ]
    },
    {
     "data": {
      "text/html": [
       "<table>\n",
       "    <thead>\n",
       "        <tr>\n",
       "            <th>key</th>\n",
       "            <th>vehicle_type_code_1</th>\n",
       "        </tr>\n",
       "    </thead>\n",
       "    <tbody>\n",
       "        <tr>\n",
       "            <td>1</td>\n",
       "            <td>SANTI                                                                                               </td>\n",
       "        </tr>\n",
       "        <tr>\n",
       "            <td>2</td>\n",
       "            <td>Tow t                                                                                               </td>\n",
       "        </tr>\n",
       "        <tr>\n",
       "            <td>3</td>\n",
       "            <td>commercial                                                                                          </td>\n",
       "        </tr>\n",
       "        <tr>\n",
       "            <td>4</td>\n",
       "            <td>HORSE CARR                                                                                          </td>\n",
       "        </tr>\n",
       "        <tr>\n",
       "            <td>5</td>\n",
       "            <td>FDNY Ambul                                                                                          </td>\n",
       "        </tr>\n",
       "        <tr>\n",
       "            <td>6</td>\n",
       "            <td>dumps                                                                                               </td>\n",
       "        </tr>\n",
       "        <tr>\n",
       "            <td>7</td>\n",
       "            <td>Sprinter W                                                                                          </td>\n",
       "        </tr>\n",
       "        <tr>\n",
       "            <td>8</td>\n",
       "            <td>jeep                                                                                                </td>\n",
       "        </tr>\n",
       "        <tr>\n",
       "            <td>9</td>\n",
       "            <td>Power shov                                                                                          </td>\n",
       "        </tr>\n",
       "        <tr>\n",
       "            <td>10</td>\n",
       "            <td>CONTR                                                                                               </td>\n",
       "        </tr>\n",
       "    </tbody>\n",
       "</table>"
      ],
      "text/plain": [
       "[(1, 'SANTI                                                                                               '),\n",
       " (2, 'Tow t                                                                                               '),\n",
       " (3, 'commercial                                                                                          '),\n",
       " (4, 'HORSE CARR                                                                                          '),\n",
       " (5, 'FDNY Ambul                                                                                          '),\n",
       " (6, 'dumps                                                                                               '),\n",
       " (7, 'Sprinter W                                                                                          '),\n",
       " (8, 'jeep                                                                                                '),\n",
       " (9, 'Power shov                                                                                          '),\n",
       " (10, 'CONTR                                                                                               ')]"
      ]
     },
     "execution_count": 54,
     "metadata": {},
     "output_type": "execute_result"
    }
   ],
   "source": [
    "%%sql\n",
    "SELECT * From Vehicle_type\n",
    "Order By Key\n",
    "limit 10"
   ]
  },
  {
   "cell_type": "code",
   "execution_count": 55,
   "id": "86654c37-9b2d-48d9-959e-937a5524db85",
   "metadata": {},
   "outputs": [
    {
     "name": "stdout",
     "output_type": "stream",
     "text": [
      " * postgresql://student@/Final_Project\n",
      "Done.\n"
     ]
    },
    {
     "data": {
      "text/plain": [
       "[]"
      ]
     },
     "execution_count": 55,
     "metadata": {},
     "output_type": "execute_result"
    }
   ],
   "source": [
    "%%sql\n",
    "ALTER TABLE Crashes\n",
    "ADD COLUMN vehicle_type_key INTEGER, \n",
    "ADD CONSTRAINT fk_vehicle_type\n",
    "FOREIGN KEY (vehicle_type_key) REFERENCES Vehicle_type (key);"
   ]
  },
  {
   "cell_type": "code",
   "execution_count": 56,
   "id": "1f8b0aab-500c-474f-b732-83bbdfaf143d",
   "metadata": {},
   "outputs": [
    {
     "name": "stdout",
     "output_type": "stream",
     "text": [
      " * postgresql://student@/Final_Project\n",
      "10 rows affected.\n"
     ]
    },
    {
     "data": {
      "text/html": [
       "<table>\n",
       "    <thead>\n",
       "        <tr>\n",
       "            <th>crash_date</th>\n",
       "            <th>crash_time</th>\n",
       "            <th>borough</th>\n",
       "            <th>zip_code</th>\n",
       "            <th>number_of_persons_injured</th>\n",
       "            <th>number_of_persons_killed</th>\n",
       "            <th>contributing_factor_vehicle_1</th>\n",
       "            <th>collision_id</th>\n",
       "            <th>vehicle_type_code_1</th>\n",
       "            <th>geography_key</th>\n",
       "            <th>contributing_factor_key</th>\n",
       "            <th>vehicle_type_key</th>\n",
       "        </tr>\n",
       "    </thead>\n",
       "    <tbody>\n",
       "        <tr>\n",
       "            <td>2021-09-11</td>\n",
       "            <td>09:35:00</td>\n",
       "            <td>BROOKLYN            </td>\n",
       "            <td>11208</td>\n",
       "            <td>0</td>\n",
       "            <td>0</td>\n",
       "            <td>Unspecified                                                                                         </td>\n",
       "            <td>4456314</td>\n",
       "            <td>Sedan                                                                                               </td>\n",
       "            <td>167</td>\n",
       "            <td>38</td>\n",
       "            <td>None</td>\n",
       "        </tr>\n",
       "        <tr>\n",
       "            <td>2021-12-14</td>\n",
       "            <td>08:17:00</td>\n",
       "            <td>BRONX               </td>\n",
       "            <td>10475</td>\n",
       "            <td>2</td>\n",
       "            <td>0</td>\n",
       "            <td>Unspecified                                                                                         </td>\n",
       "            <td>4486660</td>\n",
       "            <td>Sedan                                                                                               </td>\n",
       "            <td>217</td>\n",
       "            <td>38</td>\n",
       "            <td>None</td>\n",
       "        </tr>\n",
       "        <tr>\n",
       "            <td>2021-12-14</td>\n",
       "            <td>21:10:00</td>\n",
       "            <td>BROOKLYN            </td>\n",
       "            <td>11207</td>\n",
       "            <td>0</td>\n",
       "            <td>0</td>\n",
       "            <td>Driver Inexperience                                                                                 </td>\n",
       "            <td>4487074</td>\n",
       "            <td>Sedan                                                                                               </td>\n",
       "            <td>201</td>\n",
       "            <td>15</td>\n",
       "            <td>None</td>\n",
       "        </tr>\n",
       "        <tr>\n",
       "            <td>2021-12-14</td>\n",
       "            <td>14:58:00</td>\n",
       "            <td>MANHATTAN           </td>\n",
       "            <td>10017</td>\n",
       "            <td>0</td>\n",
       "            <td>0</td>\n",
       "            <td>Passing Too Closely                                                                                 </td>\n",
       "            <td>4486519</td>\n",
       "            <td>Sedan                                                                                               </td>\n",
       "            <td>8</td>\n",
       "            <td>16</td>\n",
       "            <td>None</td>\n",
       "        </tr>\n",
       "        <tr>\n",
       "            <td>2021-12-14</td>\n",
       "            <td>16:50:00</td>\n",
       "            <td>QUEENS              </td>\n",
       "            <td>11413</td>\n",
       "            <td>0</td>\n",
       "            <td>0</td>\n",
       "            <td>Turning Improperly                                                                                  </td>\n",
       "            <td>4487127</td>\n",
       "            <td>Sedan                                                                                               </td>\n",
       "            <td>69</td>\n",
       "            <td>34</td>\n",
       "            <td>None</td>\n",
       "        </tr>\n",
       "        <tr>\n",
       "            <td>2021-12-14</td>\n",
       "            <td>23:10:00</td>\n",
       "            <td>QUEENS              </td>\n",
       "            <td>11434</td>\n",
       "            <td>2</td>\n",
       "            <td>0</td>\n",
       "            <td>Reaction to Uninvolved Vehicle                                                                      </td>\n",
       "            <td>4486635</td>\n",
       "            <td>Sedan                                                                                               </td>\n",
       "            <td>59</td>\n",
       "            <td>56</td>\n",
       "            <td>None</td>\n",
       "        </tr>\n",
       "        <tr>\n",
       "            <td>2021-12-14</td>\n",
       "            <td>12:54:00</td>\n",
       "            <td>BROOKLYN            </td>\n",
       "            <td>11217</td>\n",
       "            <td>1</td>\n",
       "            <td>0</td>\n",
       "            <td>Unspecified                                                                                         </td>\n",
       "            <td>4487052</td>\n",
       "            <td>Sedan                                                                                               </td>\n",
       "            <td>174</td>\n",
       "            <td>38</td>\n",
       "            <td>None</td>\n",
       "        </tr>\n",
       "        <tr>\n",
       "            <td>2021-12-14</td>\n",
       "            <td>17:15:00</td>\n",
       "            <td>BROOKLYN            </td>\n",
       "            <td>11211</td>\n",
       "            <td>1</td>\n",
       "            <td>0</td>\n",
       "            <td>Passing or Lane Usage Improper                                                                      </td>\n",
       "            <td>4486556</td>\n",
       "            <td>Bus                                                                                                 </td>\n",
       "            <td>145</td>\n",
       "            <td>21</td>\n",
       "            <td>None</td>\n",
       "        </tr>\n",
       "        <tr>\n",
       "            <td>2022-03-26</td>\n",
       "            <td>16:02:00</td>\n",
       "            <td>QUEENS              </td>\n",
       "            <td>11373</td>\n",
       "            <td>1</td>\n",
       "            <td>0</td>\n",
       "            <td>Lost Consciousness                                                                                  </td>\n",
       "            <td>4513794</td>\n",
       "            <td>Station Wagon/Sport Utility Vehicle                                                                 </td>\n",
       "            <td>220</td>\n",
       "            <td>46</td>\n",
       "            <td>None</td>\n",
       "        </tr>\n",
       "        <tr>\n",
       "            <td>2022-03-26</td>\n",
       "            <td>16:05:00</td>\n",
       "            <td>QUEENS              </td>\n",
       "            <td>11411</td>\n",
       "            <td>1</td>\n",
       "            <td>0</td>\n",
       "            <td>Following Too Closely                                                                               </td>\n",
       "            <td>4514267</td>\n",
       "            <td>Station Wagon/Sport Utility Vehicle                                                                 </td>\n",
       "            <td>98</td>\n",
       "            <td>32</td>\n",
       "            <td>None</td>\n",
       "        </tr>\n",
       "    </tbody>\n",
       "</table>"
      ],
      "text/plain": [
       "[(datetime.date(2021, 9, 11), datetime.time(9, 35), 'BROOKLYN            ', Decimal('11208'), Decimal('0'), Decimal('0'), 'Unspecified                                                                                         ', Decimal('4456314'), 'Sedan                                                                                               ', 167, 38, None),\n",
       " (datetime.date(2021, 12, 14), datetime.time(8, 17), 'BRONX               ', Decimal('10475'), Decimal('2'), Decimal('0'), 'Unspecified                                                                                         ', Decimal('4486660'), 'Sedan                                                                                               ', 217, 38, None),\n",
       " (datetime.date(2021, 12, 14), datetime.time(21, 10), 'BROOKLYN            ', Decimal('11207'), Decimal('0'), Decimal('0'), 'Driver Inexperience                                                                                 ', Decimal('4487074'), 'Sedan                                                                                               ', 201, 15, None),\n",
       " (datetime.date(2021, 12, 14), datetime.time(14, 58), 'MANHATTAN           ', Decimal('10017'), Decimal('0'), Decimal('0'), 'Passing Too Closely                                                                                 ', Decimal('4486519'), 'Sedan                                                                                               ', 8, 16, None),\n",
       " (datetime.date(2021, 12, 14), datetime.time(16, 50), 'QUEENS              ', Decimal('11413'), Decimal('0'), Decimal('0'), 'Turning Improperly                                                                                  ', Decimal('4487127'), 'Sedan                                                                                               ', 69, 34, None),\n",
       " (datetime.date(2021, 12, 14), datetime.time(23, 10), 'QUEENS              ', Decimal('11434'), Decimal('2'), Decimal('0'), 'Reaction to Uninvolved Vehicle                                                                      ', Decimal('4486635'), 'Sedan                                                                                               ', 59, 56, None),\n",
       " (datetime.date(2021, 12, 14), datetime.time(12, 54), 'BROOKLYN            ', Decimal('11217'), Decimal('1'), Decimal('0'), 'Unspecified                                                                                         ', Decimal('4487052'), 'Sedan                                                                                               ', 174, 38, None),\n",
       " (datetime.date(2021, 12, 14), datetime.time(17, 15), 'BROOKLYN            ', Decimal('11211'), Decimal('1'), Decimal('0'), 'Passing or Lane Usage Improper                                                                      ', Decimal('4486556'), 'Bus                                                                                                 ', 145, 21, None),\n",
       " (datetime.date(2022, 3, 26), datetime.time(16, 2), 'QUEENS              ', Decimal('11373'), Decimal('1'), Decimal('0'), 'Lost Consciousness                                                                                  ', Decimal('4513794'), 'Station Wagon/Sport Utility Vehicle                                                                 ', 220, 46, None),\n",
       " (datetime.date(2022, 3, 26), datetime.time(16, 5), 'QUEENS              ', Decimal('11411'), Decimal('1'), Decimal('0'), 'Following Too Closely                                                                               ', Decimal('4514267'), 'Station Wagon/Sport Utility Vehicle                                                                 ', 98, 32, None)]"
      ]
     },
     "execution_count": 56,
     "metadata": {},
     "output_type": "execute_result"
    }
   ],
   "source": [
    "%%sql\n",
    "SELECT * from Crashes\n",
    "LIMIT 10"
   ]
  },
  {
   "cell_type": "code",
   "execution_count": 57,
   "id": "63ba53c1-bf3b-4102-842c-6cec9f709907",
   "metadata": {},
   "outputs": [
    {
     "name": "stdout",
     "output_type": "stream",
     "text": [
      " * postgresql://student@/Final_Project\n",
      "10 rows affected.\n"
     ]
    },
    {
     "data": {
      "text/html": [
       "<table>\n",
       "    <thead>\n",
       "        <tr>\n",
       "            <th>key</th>\n",
       "            <th>vehicle_type_code_1</th>\n",
       "        </tr>\n",
       "    </thead>\n",
       "    <tbody>\n",
       "        <tr>\n",
       "            <td>1</td>\n",
       "            <td>SANTI                                                                                               </td>\n",
       "        </tr>\n",
       "        <tr>\n",
       "            <td>2</td>\n",
       "            <td>Tow t                                                                                               </td>\n",
       "        </tr>\n",
       "        <tr>\n",
       "            <td>3</td>\n",
       "            <td>commercial                                                                                          </td>\n",
       "        </tr>\n",
       "        <tr>\n",
       "            <td>4</td>\n",
       "            <td>HORSE CARR                                                                                          </td>\n",
       "        </tr>\n",
       "        <tr>\n",
       "            <td>5</td>\n",
       "            <td>FDNY Ambul                                                                                          </td>\n",
       "        </tr>\n",
       "        <tr>\n",
       "            <td>6</td>\n",
       "            <td>dumps                                                                                               </td>\n",
       "        </tr>\n",
       "        <tr>\n",
       "            <td>7</td>\n",
       "            <td>Sprinter W                                                                                          </td>\n",
       "        </tr>\n",
       "        <tr>\n",
       "            <td>8</td>\n",
       "            <td>jeep                                                                                                </td>\n",
       "        </tr>\n",
       "        <tr>\n",
       "            <td>9</td>\n",
       "            <td>Power shov                                                                                          </td>\n",
       "        </tr>\n",
       "        <tr>\n",
       "            <td>10</td>\n",
       "            <td>CONTR                                                                                               </td>\n",
       "        </tr>\n",
       "    </tbody>\n",
       "</table>"
      ],
      "text/plain": [
       "[(1, 'SANTI                                                                                               '),\n",
       " (2, 'Tow t                                                                                               '),\n",
       " (3, 'commercial                                                                                          '),\n",
       " (4, 'HORSE CARR                                                                                          '),\n",
       " (5, 'FDNY Ambul                                                                                          '),\n",
       " (6, 'dumps                                                                                               '),\n",
       " (7, 'Sprinter W                                                                                          '),\n",
       " (8, 'jeep                                                                                                '),\n",
       " (9, 'Power shov                                                                                          '),\n",
       " (10, 'CONTR                                                                                               ')]"
      ]
     },
     "execution_count": 57,
     "metadata": {},
     "output_type": "execute_result"
    }
   ],
   "source": [
    "%%sql\n",
    "SELECT * from Vehicle_type\n",
    "LIMIT 10"
   ]
  },
  {
   "cell_type": "markdown",
   "id": "88ce8bd6-9849-4a98-9335-810da24e8950",
   "metadata": {},
   "source": [
    "Note: This code will take around 3-5 min to run."
   ]
  },
  {
   "cell_type": "code",
   "execution_count": 58,
   "id": "37ccc72a-9fd9-412f-ba71-5968837a6b0f",
   "metadata": {
    "tags": []
   },
   "outputs": [
    {
     "name": "stdout",
     "output_type": "stream",
     "text": [
      " * postgresql://student@/Final_Project\n",
      "793560 rows affected.\n"
     ]
    },
    {
     "data": {
      "text/plain": [
       "[]"
      ]
     },
     "execution_count": 58,
     "metadata": {},
     "output_type": "execute_result"
    }
   ],
   "source": [
    "%%sql \n",
    "UPDATE Crashes\n",
    "SET vehicle_type_key = Vehicle_type.key\n",
    "FROM Vehicle_type\n",
    "WHERE \n",
    "    (Crashes.vehicle_type_code_1 = Vehicle_type.vehicle_type_code_1 OR\n",
    "     (Crashes.vehicle_type_code_1 IS NULL AND Vehicle_type.vehicle_type_code_1 IS NULL));"
   ]
  },
  {
   "cell_type": "markdown",
   "id": "db72334e-ea40-415f-95a9-5a94147513d7",
   "metadata": {},
   "source": [
    "This will insert the contraint key 'Vehicle_type.key' into the 'Crashes' table. This allows the exact vales to be copied over."
   ]
  },
  {
   "cell_type": "code",
   "execution_count": 59,
   "id": "68b1b4e5-e0bb-4bf5-80ad-888a129c4cc3",
   "metadata": {
    "tags": []
   },
   "outputs": [
    {
     "name": "stdout",
     "output_type": "stream",
     "text": [
      " * postgresql://student@/Final_Project\n",
      "10 rows affected.\n"
     ]
    },
    {
     "data": {
      "text/html": [
       "<table>\n",
       "    <thead>\n",
       "        <tr>\n",
       "            <th>crash_date</th>\n",
       "            <th>crash_time</th>\n",
       "            <th>borough</th>\n",
       "            <th>zip_code</th>\n",
       "            <th>number_of_persons_injured</th>\n",
       "            <th>number_of_persons_killed</th>\n",
       "            <th>contributing_factor_vehicle_1</th>\n",
       "            <th>collision_id</th>\n",
       "            <th>vehicle_type_code_1</th>\n",
       "            <th>geography_key</th>\n",
       "            <th>contributing_factor_key</th>\n",
       "            <th>vehicle_type_key</th>\n",
       "        </tr>\n",
       "    </thead>\n",
       "    <tbody>\n",
       "        <tr>\n",
       "            <td>2021-09-11</td>\n",
       "            <td>09:35:00</td>\n",
       "            <td>BROOKLYN            </td>\n",
       "            <td>11208</td>\n",
       "            <td>0</td>\n",
       "            <td>0</td>\n",
       "            <td>Unspecified                                                                                         </td>\n",
       "            <td>4456314</td>\n",
       "            <td>Sedan                                                                                               </td>\n",
       "            <td>167</td>\n",
       "            <td>38</td>\n",
       "            <td>1108</td>\n",
       "        </tr>\n",
       "        <tr>\n",
       "            <td>2021-12-14</td>\n",
       "            <td>08:17:00</td>\n",
       "            <td>BRONX               </td>\n",
       "            <td>10475</td>\n",
       "            <td>2</td>\n",
       "            <td>0</td>\n",
       "            <td>Unspecified                                                                                         </td>\n",
       "            <td>4486660</td>\n",
       "            <td>Sedan                                                                                               </td>\n",
       "            <td>217</td>\n",
       "            <td>38</td>\n",
       "            <td>1108</td>\n",
       "        </tr>\n",
       "        <tr>\n",
       "            <td>2021-12-14</td>\n",
       "            <td>21:10:00</td>\n",
       "            <td>BROOKLYN            </td>\n",
       "            <td>11207</td>\n",
       "            <td>0</td>\n",
       "            <td>0</td>\n",
       "            <td>Driver Inexperience                                                                                 </td>\n",
       "            <td>4487074</td>\n",
       "            <td>Sedan                                                                                               </td>\n",
       "            <td>201</td>\n",
       "            <td>15</td>\n",
       "            <td>1108</td>\n",
       "        </tr>\n",
       "        <tr>\n",
       "            <td>2021-12-14</td>\n",
       "            <td>14:58:00</td>\n",
       "            <td>MANHATTAN           </td>\n",
       "            <td>10017</td>\n",
       "            <td>0</td>\n",
       "            <td>0</td>\n",
       "            <td>Passing Too Closely                                                                                 </td>\n",
       "            <td>4486519</td>\n",
       "            <td>Sedan                                                                                               </td>\n",
       "            <td>8</td>\n",
       "            <td>16</td>\n",
       "            <td>1108</td>\n",
       "        </tr>\n",
       "        <tr>\n",
       "            <td>2021-12-14</td>\n",
       "            <td>16:50:00</td>\n",
       "            <td>QUEENS              </td>\n",
       "            <td>11413</td>\n",
       "            <td>0</td>\n",
       "            <td>0</td>\n",
       "            <td>Turning Improperly                                                                                  </td>\n",
       "            <td>4487127</td>\n",
       "            <td>Sedan                                                                                               </td>\n",
       "            <td>69</td>\n",
       "            <td>34</td>\n",
       "            <td>1108</td>\n",
       "        </tr>\n",
       "        <tr>\n",
       "            <td>2021-12-14</td>\n",
       "            <td>23:10:00</td>\n",
       "            <td>QUEENS              </td>\n",
       "            <td>11434</td>\n",
       "            <td>2</td>\n",
       "            <td>0</td>\n",
       "            <td>Reaction to Uninvolved Vehicle                                                                      </td>\n",
       "            <td>4486635</td>\n",
       "            <td>Sedan                                                                                               </td>\n",
       "            <td>59</td>\n",
       "            <td>56</td>\n",
       "            <td>1108</td>\n",
       "        </tr>\n",
       "        <tr>\n",
       "            <td>2021-12-14</td>\n",
       "            <td>12:54:00</td>\n",
       "            <td>BROOKLYN            </td>\n",
       "            <td>11217</td>\n",
       "            <td>1</td>\n",
       "            <td>0</td>\n",
       "            <td>Unspecified                                                                                         </td>\n",
       "            <td>4487052</td>\n",
       "            <td>Sedan                                                                                               </td>\n",
       "            <td>174</td>\n",
       "            <td>38</td>\n",
       "            <td>1108</td>\n",
       "        </tr>\n",
       "        <tr>\n",
       "            <td>2021-12-14</td>\n",
       "            <td>17:15:00</td>\n",
       "            <td>BROOKLYN            </td>\n",
       "            <td>11211</td>\n",
       "            <td>1</td>\n",
       "            <td>0</td>\n",
       "            <td>Passing or Lane Usage Improper                                                                      </td>\n",
       "            <td>4486556</td>\n",
       "            <td>Bus                                                                                                 </td>\n",
       "            <td>145</td>\n",
       "            <td>21</td>\n",
       "            <td>1007</td>\n",
       "        </tr>\n",
       "        <tr>\n",
       "            <td>2022-03-26</td>\n",
       "            <td>16:02:00</td>\n",
       "            <td>QUEENS              </td>\n",
       "            <td>11373</td>\n",
       "            <td>1</td>\n",
       "            <td>0</td>\n",
       "            <td>Lost Consciousness                                                                                  </td>\n",
       "            <td>4513794</td>\n",
       "            <td>Station Wagon/Sport Utility Vehicle                                                                 </td>\n",
       "            <td>220</td>\n",
       "            <td>46</td>\n",
       "            <td>1140</td>\n",
       "        </tr>\n",
       "        <tr>\n",
       "            <td>2022-03-26</td>\n",
       "            <td>16:05:00</td>\n",
       "            <td>QUEENS              </td>\n",
       "            <td>11411</td>\n",
       "            <td>1</td>\n",
       "            <td>0</td>\n",
       "            <td>Following Too Closely                                                                               </td>\n",
       "            <td>4514267</td>\n",
       "            <td>Station Wagon/Sport Utility Vehicle                                                                 </td>\n",
       "            <td>98</td>\n",
       "            <td>32</td>\n",
       "            <td>1140</td>\n",
       "        </tr>\n",
       "    </tbody>\n",
       "</table>"
      ],
      "text/plain": [
       "[(datetime.date(2021, 9, 11), datetime.time(9, 35), 'BROOKLYN            ', Decimal('11208'), Decimal('0'), Decimal('0'), 'Unspecified                                                                                         ', Decimal('4456314'), 'Sedan                                                                                               ', 167, 38, 1108),\n",
       " (datetime.date(2021, 12, 14), datetime.time(8, 17), 'BRONX               ', Decimal('10475'), Decimal('2'), Decimal('0'), 'Unspecified                                                                                         ', Decimal('4486660'), 'Sedan                                                                                               ', 217, 38, 1108),\n",
       " (datetime.date(2021, 12, 14), datetime.time(21, 10), 'BROOKLYN            ', Decimal('11207'), Decimal('0'), Decimal('0'), 'Driver Inexperience                                                                                 ', Decimal('4487074'), 'Sedan                                                                                               ', 201, 15, 1108),\n",
       " (datetime.date(2021, 12, 14), datetime.time(14, 58), 'MANHATTAN           ', Decimal('10017'), Decimal('0'), Decimal('0'), 'Passing Too Closely                                                                                 ', Decimal('4486519'), 'Sedan                                                                                               ', 8, 16, 1108),\n",
       " (datetime.date(2021, 12, 14), datetime.time(16, 50), 'QUEENS              ', Decimal('11413'), Decimal('0'), Decimal('0'), 'Turning Improperly                                                                                  ', Decimal('4487127'), 'Sedan                                                                                               ', 69, 34, 1108),\n",
       " (datetime.date(2021, 12, 14), datetime.time(23, 10), 'QUEENS              ', Decimal('11434'), Decimal('2'), Decimal('0'), 'Reaction to Uninvolved Vehicle                                                                      ', Decimal('4486635'), 'Sedan                                                                                               ', 59, 56, 1108),\n",
       " (datetime.date(2021, 12, 14), datetime.time(12, 54), 'BROOKLYN            ', Decimal('11217'), Decimal('1'), Decimal('0'), 'Unspecified                                                                                         ', Decimal('4487052'), 'Sedan                                                                                               ', 174, 38, 1108),\n",
       " (datetime.date(2021, 12, 14), datetime.time(17, 15), 'BROOKLYN            ', Decimal('11211'), Decimal('1'), Decimal('0'), 'Passing or Lane Usage Improper                                                                      ', Decimal('4486556'), 'Bus                                                                                                 ', 145, 21, 1007),\n",
       " (datetime.date(2022, 3, 26), datetime.time(16, 2), 'QUEENS              ', Decimal('11373'), Decimal('1'), Decimal('0'), 'Lost Consciousness                                                                                  ', Decimal('4513794'), 'Station Wagon/Sport Utility Vehicle                                                                 ', 220, 46, 1140),\n",
       " (datetime.date(2022, 3, 26), datetime.time(16, 5), 'QUEENS              ', Decimal('11411'), Decimal('1'), Decimal('0'), 'Following Too Closely                                                                               ', Decimal('4514267'), 'Station Wagon/Sport Utility Vehicle                                                                 ', 98, 32, 1140)]"
      ]
     },
     "execution_count": 59,
     "metadata": {},
     "output_type": "execute_result"
    }
   ],
   "source": [
    "%%sql\n",
    "SELECT * FROM Crashes \n",
    "LIMIT 10;"
   ]
  },
  {
   "cell_type": "code",
   "execution_count": 60,
   "id": "43188738-7021-400e-9797-9fa2e3681c60",
   "metadata": {},
   "outputs": [
    {
     "name": "stdout",
     "output_type": "stream",
     "text": [
      " * postgresql://student@/Final_Project\n",
      "1 rows affected.\n"
     ]
    },
    {
     "data": {
      "text/html": [
       "<table>\n",
       "    <thead>\n",
       "        <tr>\n",
       "            <th>count</th>\n",
       "        </tr>\n",
       "    </thead>\n",
       "    <tbody>\n",
       "        <tr>\n",
       "            <td>0</td>\n",
       "        </tr>\n",
       "    </tbody>\n",
       "</table>"
      ],
      "text/plain": [
       "[(0,)]"
      ]
     },
     "execution_count": 60,
     "metadata": {},
     "output_type": "execute_result"
    }
   ],
   "source": [
    "%%sql\n",
    "SELECT count(*) FROM Crashes \n",
    "Where vehicle_type_key is null"
   ]
  },
  {
   "cell_type": "markdown",
   "id": "0572d1c1-da1c-485c-849b-8c40f0def09d",
   "metadata": {},
   "source": [
    "Check there are no null values in the 'vehicle_type_key' column."
   ]
  },
  {
   "cell_type": "code",
   "execution_count": 61,
   "id": "b136e968-4ee1-4e8d-92bc-d32d62342d37",
   "metadata": {},
   "outputs": [
    {
     "name": "stdout",
     "output_type": "stream",
     "text": [
      " * postgresql://student@/Final_Project\n",
      "1 rows affected.\n"
     ]
    },
    {
     "data": {
      "text/html": [
       "<table>\n",
       "    <thead>\n",
       "        <tr>\n",
       "            <th>count</th>\n",
       "        </tr>\n",
       "    </thead>\n",
       "    <tbody>\n",
       "        <tr>\n",
       "            <td>1145</td>\n",
       "        </tr>\n",
       "    </tbody>\n",
       "</table>"
      ],
      "text/plain": [
       "[(1145,)]"
      ]
     },
     "execution_count": 61,
     "metadata": {},
     "output_type": "execute_result"
    }
   ],
   "source": [
    "%%sql\n",
    "SELECT count(DISTINCT vehicle_type_key)\n",
    "FROM Crashes"
   ]
  },
  {
   "cell_type": "code",
   "execution_count": 62,
   "id": "af2ef15d-898b-4c4e-aab4-efdc8186b0ab",
   "metadata": {},
   "outputs": [
    {
     "name": "stdout",
     "output_type": "stream",
     "text": [
      " * postgresql://student@/Final_Project\n",
      "1 rows affected.\n"
     ]
    },
    {
     "data": {
      "text/html": [
       "<table>\n",
       "    <thead>\n",
       "        <tr>\n",
       "            <th>count</th>\n",
       "        </tr>\n",
       "    </thead>\n",
       "    <tbody>\n",
       "        <tr>\n",
       "            <td>1145</td>\n",
       "        </tr>\n",
       "    </tbody>\n",
       "</table>"
      ],
      "text/plain": [
       "[(1145,)]"
      ]
     },
     "execution_count": 62,
     "metadata": {},
     "output_type": "execute_result"
    }
   ],
   "source": [
    "%%sql\n",
    "SELECT count(key)\n",
    "FROM Vehicle_type"
   ]
  },
  {
   "cell_type": "markdown",
   "id": "717fd582-c793-4563-849e-8b5e0e896eb4",
   "metadata": {},
   "source": [
    "Check the distinct 'vehicle_type_key' count in both the fact table (Crashes) and the dimensional table (Vehicle_type). They have the same count, which is 1145. Thus, we ensure that the fact table contains the right number of records."
   ]
  },
  {
   "cell_type": "markdown",
   "id": "56338426-4c7a-46f1-a121-85b0bfba1fcc",
   "metadata": {},
   "source": [
    "**Work on Crash_time dimension table, modify fact table and link them together**"
   ]
  },
  {
   "cell_type": "code",
   "execution_count": 63,
   "id": "2b044b54-5f54-4678-bb0b-1015c3b82f6d",
   "metadata": {},
   "outputs": [
    {
     "name": "stdout",
     "output_type": "stream",
     "text": [
      " * postgresql://student@/Final_Project\n",
      "Done.\n",
      "Done.\n"
     ]
    },
    {
     "data": {
      "text/plain": [
       "[]"
      ]
     },
     "execution_count": 63,
     "metadata": {},
     "output_type": "execute_result"
    }
   ],
   "source": [
    "%%sql\n",
    "DROP TABLE IF EXISTS Crash_time CASCADE;\n",
    "\n",
    "CREATE TABLE Crash_time ( \n",
    "    key SERIAL PRIMARY KEY, \n",
    "    hour INT,\n",
    "    day INT,\n",
    "    year INT,\n",
    "    month_of_year INT, \n",
    "    day_of_month INT, \n",
    "    day_of_week_str CHAR(9), \n",
    "    day_of_week INT, \n",
    "    is_weekend BOOLEAN, \n",
    "    is_weekday BOOLEAN, \n",
    "    hour_of_day INT, \n",
    "    quarter_of_year INT,\n",
    "    combined_timestamp TIMESTAMP\n",
    ");"
   ]
  },
  {
   "cell_type": "markdown",
   "id": "84afe0d6-da0c-4db1-977e-c6dcdd849427",
   "metadata": {},
   "source": [
    "Finally, we create of last dimensional table 'Crash_time'. This table is important to our queries, this will house our weeks, and time variables."
   ]
  },
  {
   "cell_type": "code",
   "execution_count": 64,
   "id": "f7ccd701-66a7-4cec-a854-4d397991616a",
   "metadata": {},
   "outputs": [
    {
     "name": "stdout",
     "output_type": "stream",
     "text": [
      " * postgresql://student@/Final_Project\n",
      "501871 rows affected.\n"
     ]
    },
    {
     "data": {
      "text/plain": [
       "[]"
      ]
     },
     "execution_count": 64,
     "metadata": {},
     "output_type": "execute_result"
    }
   ],
   "source": [
    "%%sql\n",
    "INSERT INTO Crash_time (hour, day, year, month_of_year, day_of_month, day_of_week_str, day_of_week, is_weekend, is_weekday, hour_of_day, quarter_of_year, combined_timestamp) \n",
    "SELECT DISTINCT \n",
    "    EXTRACT(HOUR FROM combined_timestamp) AS hour, \n",
    "    EXTRACT(DAY FROM combined_timestamp) AS day,\n",
    "    EXTRACT(YEAR FROM combined_timestamp) AS year,\n",
    "    EXTRACT(MONTH FROM combined_timestamp) AS month_of_year,\n",
    "    EXTRACT(DAY FROM combined_timestamp) AS day_of_month,\n",
    "    TO_CHAR(combined_timestamp, 'Day') AS day_of_week_str,\n",
    "    EXTRACT(DOW FROM combined_timestamp) AS day_of_week,\n",
    "    CASE WHEN EXTRACT(DOW FROM combined_timestamp) IN (0, 6) THEN TRUE ELSE FALSE END AS is_weekend,\n",
    "    CASE WHEN EXTRACT(DOW FROM combined_timestamp) NOT IN (0,6) THEN TRUE ELSE FALSE END AS is_weekday,\n",
    "    EXTRACT(HOUR FROM combined_timestamp) AS hour_of_day,\n",
    "    CEIL(EXTRACT(MONTH FROM combined_timestamp) / 3.0) AS quarter_of_year,\n",
    "    combined_timestamp\n",
    "FROM \n",
    "    (SELECT crash_date + crash_time AS combined_timestamp FROM Crashes) AS combined;"
   ]
  },
  {
   "cell_type": "markdown",
   "id": "a99218a6-3b10-463c-bca3-f7aca70a88f7",
   "metadata": {},
   "source": [
    "Here we are inserting the data into this table. Then, 'weekdays' to a specific numeric value and sequence so weekdays will have number 1,2,3,4,5 and weekends as 0,6. "
   ]
  },
  {
   "cell_type": "code",
   "execution_count": 65,
   "id": "9695b727-3723-492d-beae-dcd11b2714ff",
   "metadata": {},
   "outputs": [
    {
     "name": "stdout",
     "output_type": "stream",
     "text": [
      " * postgresql://student@/Final_Project\n",
      "7 rows affected.\n"
     ]
    },
    {
     "data": {
      "text/html": [
       "<table>\n",
       "    <thead>\n",
       "        <tr>\n",
       "            <th>day_of_week_str</th>\n",
       "            <th>day_of_week</th>\n",
       "            <th>is_weekend</th>\n",
       "            <th>is_weekday</th>\n",
       "        </tr>\n",
       "    </thead>\n",
       "    <tbody>\n",
       "        <tr>\n",
       "            <td>Sunday   </td>\n",
       "            <td>0</td>\n",
       "            <td>True</td>\n",
       "            <td>False</td>\n",
       "        </tr>\n",
       "        <tr>\n",
       "            <td>Monday   </td>\n",
       "            <td>1</td>\n",
       "            <td>False</td>\n",
       "            <td>True</td>\n",
       "        </tr>\n",
       "        <tr>\n",
       "            <td>Tuesday  </td>\n",
       "            <td>2</td>\n",
       "            <td>False</td>\n",
       "            <td>True</td>\n",
       "        </tr>\n",
       "        <tr>\n",
       "            <td>Wednesday</td>\n",
       "            <td>3</td>\n",
       "            <td>False</td>\n",
       "            <td>True</td>\n",
       "        </tr>\n",
       "        <tr>\n",
       "            <td>Thursday </td>\n",
       "            <td>4</td>\n",
       "            <td>False</td>\n",
       "            <td>True</td>\n",
       "        </tr>\n",
       "        <tr>\n",
       "            <td>Friday   </td>\n",
       "            <td>5</td>\n",
       "            <td>False</td>\n",
       "            <td>True</td>\n",
       "        </tr>\n",
       "        <tr>\n",
       "            <td>Saturday </td>\n",
       "            <td>6</td>\n",
       "            <td>True</td>\n",
       "            <td>False</td>\n",
       "        </tr>\n",
       "    </tbody>\n",
       "</table>"
      ],
      "text/plain": [
       "[('Sunday   ', 0, True, False),\n",
       " ('Monday   ', 1, False, True),\n",
       " ('Tuesday  ', 2, False, True),\n",
       " ('Wednesday', 3, False, True),\n",
       " ('Thursday ', 4, False, True),\n",
       " ('Friday   ', 5, False, True),\n",
       " ('Saturday ', 6, True, False)]"
      ]
     },
     "execution_count": 65,
     "metadata": {},
     "output_type": "execute_result"
    }
   ],
   "source": [
    "%%sql\n",
    "SELECT DISTINCT day_of_week_str, day_of_week, is_weekend, is_weekday \n",
    "FROM Crash_time\n",
    "ORDER BY day_of_week;"
   ]
  },
  {
   "cell_type": "markdown",
   "id": "7748cbd7-b022-4458-9e5f-76f86c39de9f",
   "metadata": {},
   "source": [
    "This validates that our weekdays and weekends are being read correctly."
   ]
  },
  {
   "cell_type": "code",
   "execution_count": 66,
   "id": "d1d7908e-80b8-44af-ab4e-7ade19445554",
   "metadata": {},
   "outputs": [
    {
     "name": "stdout",
     "output_type": "stream",
     "text": [
      " * postgresql://student@/Final_Project\n",
      "Done.\n"
     ]
    },
    {
     "data": {
      "text/plain": [
       "[]"
      ]
     },
     "execution_count": 66,
     "metadata": {},
     "output_type": "execute_result"
    }
   ],
   "source": [
    "%%sql\n",
    "ALTER TABLE Crashes\n",
    "ADD COLUMN crash_time_key INTEGER, \n",
    "ADD CONSTRAINT fk_crash_time\n",
    "FOREIGN KEY (crash_time_key) REFERENCES Crash_time (key);"
   ]
  },
  {
   "cell_type": "markdown",
   "id": "49ac414c-b083-434b-b982-c6ae2c693713",
   "metadata": {},
   "source": [
    "We add 'crash_time_key' to the 'Crashes' table and add the constraint. This allows us to run the below query which shows us the values 'crash_time_key' contains. "
   ]
  },
  {
   "cell_type": "code",
   "execution_count": 67,
   "id": "47037326-4eb8-4aa2-bc0c-e4f413da2968",
   "metadata": {},
   "outputs": [
    {
     "name": "stdout",
     "output_type": "stream",
     "text": [
      " * postgresql://student@/Final_Project\n",
      "10 rows affected.\n"
     ]
    },
    {
     "data": {
      "text/html": [
       "<table>\n",
       "    <thead>\n",
       "        <tr>\n",
       "            <th>crash_date</th>\n",
       "            <th>crash_time</th>\n",
       "            <th>borough</th>\n",
       "            <th>zip_code</th>\n",
       "            <th>number_of_persons_injured</th>\n",
       "            <th>number_of_persons_killed</th>\n",
       "            <th>contributing_factor_vehicle_1</th>\n",
       "            <th>collision_id</th>\n",
       "            <th>vehicle_type_code_1</th>\n",
       "            <th>geography_key</th>\n",
       "            <th>contributing_factor_key</th>\n",
       "            <th>vehicle_type_key</th>\n",
       "            <th>crash_time_key</th>\n",
       "        </tr>\n",
       "    </thead>\n",
       "    <tbody>\n",
       "        <tr>\n",
       "            <td>2021-09-11</td>\n",
       "            <td>09:35:00</td>\n",
       "            <td>BROOKLYN            </td>\n",
       "            <td>11208</td>\n",
       "            <td>0</td>\n",
       "            <td>0</td>\n",
       "            <td>Unspecified                                                                                         </td>\n",
       "            <td>4456314</td>\n",
       "            <td>Sedan                                                                                               </td>\n",
       "            <td>167</td>\n",
       "            <td>38</td>\n",
       "            <td>1108</td>\n",
       "            <td>None</td>\n",
       "        </tr>\n",
       "        <tr>\n",
       "            <td>2021-12-14</td>\n",
       "            <td>08:17:00</td>\n",
       "            <td>BRONX               </td>\n",
       "            <td>10475</td>\n",
       "            <td>2</td>\n",
       "            <td>0</td>\n",
       "            <td>Unspecified                                                                                         </td>\n",
       "            <td>4486660</td>\n",
       "            <td>Sedan                                                                                               </td>\n",
       "            <td>217</td>\n",
       "            <td>38</td>\n",
       "            <td>1108</td>\n",
       "            <td>None</td>\n",
       "        </tr>\n",
       "        <tr>\n",
       "            <td>2021-12-14</td>\n",
       "            <td>21:10:00</td>\n",
       "            <td>BROOKLYN            </td>\n",
       "            <td>11207</td>\n",
       "            <td>0</td>\n",
       "            <td>0</td>\n",
       "            <td>Driver Inexperience                                                                                 </td>\n",
       "            <td>4487074</td>\n",
       "            <td>Sedan                                                                                               </td>\n",
       "            <td>201</td>\n",
       "            <td>15</td>\n",
       "            <td>1108</td>\n",
       "            <td>None</td>\n",
       "        </tr>\n",
       "        <tr>\n",
       "            <td>2021-12-14</td>\n",
       "            <td>14:58:00</td>\n",
       "            <td>MANHATTAN           </td>\n",
       "            <td>10017</td>\n",
       "            <td>0</td>\n",
       "            <td>0</td>\n",
       "            <td>Passing Too Closely                                                                                 </td>\n",
       "            <td>4486519</td>\n",
       "            <td>Sedan                                                                                               </td>\n",
       "            <td>8</td>\n",
       "            <td>16</td>\n",
       "            <td>1108</td>\n",
       "            <td>None</td>\n",
       "        </tr>\n",
       "        <tr>\n",
       "            <td>2021-12-14</td>\n",
       "            <td>16:50:00</td>\n",
       "            <td>QUEENS              </td>\n",
       "            <td>11413</td>\n",
       "            <td>0</td>\n",
       "            <td>0</td>\n",
       "            <td>Turning Improperly                                                                                  </td>\n",
       "            <td>4487127</td>\n",
       "            <td>Sedan                                                                                               </td>\n",
       "            <td>69</td>\n",
       "            <td>34</td>\n",
       "            <td>1108</td>\n",
       "            <td>None</td>\n",
       "        </tr>\n",
       "        <tr>\n",
       "            <td>2021-12-14</td>\n",
       "            <td>23:10:00</td>\n",
       "            <td>QUEENS              </td>\n",
       "            <td>11434</td>\n",
       "            <td>2</td>\n",
       "            <td>0</td>\n",
       "            <td>Reaction to Uninvolved Vehicle                                                                      </td>\n",
       "            <td>4486635</td>\n",
       "            <td>Sedan                                                                                               </td>\n",
       "            <td>59</td>\n",
       "            <td>56</td>\n",
       "            <td>1108</td>\n",
       "            <td>None</td>\n",
       "        </tr>\n",
       "        <tr>\n",
       "            <td>2021-12-14</td>\n",
       "            <td>12:54:00</td>\n",
       "            <td>BROOKLYN            </td>\n",
       "            <td>11217</td>\n",
       "            <td>1</td>\n",
       "            <td>0</td>\n",
       "            <td>Unspecified                                                                                         </td>\n",
       "            <td>4487052</td>\n",
       "            <td>Sedan                                                                                               </td>\n",
       "            <td>174</td>\n",
       "            <td>38</td>\n",
       "            <td>1108</td>\n",
       "            <td>None</td>\n",
       "        </tr>\n",
       "        <tr>\n",
       "            <td>2021-12-14</td>\n",
       "            <td>17:15:00</td>\n",
       "            <td>BROOKLYN            </td>\n",
       "            <td>11211</td>\n",
       "            <td>1</td>\n",
       "            <td>0</td>\n",
       "            <td>Passing or Lane Usage Improper                                                                      </td>\n",
       "            <td>4486556</td>\n",
       "            <td>Bus                                                                                                 </td>\n",
       "            <td>145</td>\n",
       "            <td>21</td>\n",
       "            <td>1007</td>\n",
       "            <td>None</td>\n",
       "        </tr>\n",
       "        <tr>\n",
       "            <td>2022-03-26</td>\n",
       "            <td>16:02:00</td>\n",
       "            <td>QUEENS              </td>\n",
       "            <td>11373</td>\n",
       "            <td>1</td>\n",
       "            <td>0</td>\n",
       "            <td>Lost Consciousness                                                                                  </td>\n",
       "            <td>4513794</td>\n",
       "            <td>Station Wagon/Sport Utility Vehicle                                                                 </td>\n",
       "            <td>220</td>\n",
       "            <td>46</td>\n",
       "            <td>1140</td>\n",
       "            <td>None</td>\n",
       "        </tr>\n",
       "        <tr>\n",
       "            <td>2022-03-26</td>\n",
       "            <td>16:05:00</td>\n",
       "            <td>QUEENS              </td>\n",
       "            <td>11411</td>\n",
       "            <td>1</td>\n",
       "            <td>0</td>\n",
       "            <td>Following Too Closely                                                                               </td>\n",
       "            <td>4514267</td>\n",
       "            <td>Station Wagon/Sport Utility Vehicle                                                                 </td>\n",
       "            <td>98</td>\n",
       "            <td>32</td>\n",
       "            <td>1140</td>\n",
       "            <td>None</td>\n",
       "        </tr>\n",
       "    </tbody>\n",
       "</table>"
      ],
      "text/plain": [
       "[(datetime.date(2021, 9, 11), datetime.time(9, 35), 'BROOKLYN            ', Decimal('11208'), Decimal('0'), Decimal('0'), 'Unspecified                                                                                         ', Decimal('4456314'), 'Sedan                                                                                               ', 167, 38, 1108, None),\n",
       " (datetime.date(2021, 12, 14), datetime.time(8, 17), 'BRONX               ', Decimal('10475'), Decimal('2'), Decimal('0'), 'Unspecified                                                                                         ', Decimal('4486660'), 'Sedan                                                                                               ', 217, 38, 1108, None),\n",
       " (datetime.date(2021, 12, 14), datetime.time(21, 10), 'BROOKLYN            ', Decimal('11207'), Decimal('0'), Decimal('0'), 'Driver Inexperience                                                                                 ', Decimal('4487074'), 'Sedan                                                                                               ', 201, 15, 1108, None),\n",
       " (datetime.date(2021, 12, 14), datetime.time(14, 58), 'MANHATTAN           ', Decimal('10017'), Decimal('0'), Decimal('0'), 'Passing Too Closely                                                                                 ', Decimal('4486519'), 'Sedan                                                                                               ', 8, 16, 1108, None),\n",
       " (datetime.date(2021, 12, 14), datetime.time(16, 50), 'QUEENS              ', Decimal('11413'), Decimal('0'), Decimal('0'), 'Turning Improperly                                                                                  ', Decimal('4487127'), 'Sedan                                                                                               ', 69, 34, 1108, None),\n",
       " (datetime.date(2021, 12, 14), datetime.time(23, 10), 'QUEENS              ', Decimal('11434'), Decimal('2'), Decimal('0'), 'Reaction to Uninvolved Vehicle                                                                      ', Decimal('4486635'), 'Sedan                                                                                               ', 59, 56, 1108, None),\n",
       " (datetime.date(2021, 12, 14), datetime.time(12, 54), 'BROOKLYN            ', Decimal('11217'), Decimal('1'), Decimal('0'), 'Unspecified                                                                                         ', Decimal('4487052'), 'Sedan                                                                                               ', 174, 38, 1108, None),\n",
       " (datetime.date(2021, 12, 14), datetime.time(17, 15), 'BROOKLYN            ', Decimal('11211'), Decimal('1'), Decimal('0'), 'Passing or Lane Usage Improper                                                                      ', Decimal('4486556'), 'Bus                                                                                                 ', 145, 21, 1007, None),\n",
       " (datetime.date(2022, 3, 26), datetime.time(16, 2), 'QUEENS              ', Decimal('11373'), Decimal('1'), Decimal('0'), 'Lost Consciousness                                                                                  ', Decimal('4513794'), 'Station Wagon/Sport Utility Vehicle                                                                 ', 220, 46, 1140, None),\n",
       " (datetime.date(2022, 3, 26), datetime.time(16, 5), 'QUEENS              ', Decimal('11411'), Decimal('1'), Decimal('0'), 'Following Too Closely                                                                               ', Decimal('4514267'), 'Station Wagon/Sport Utility Vehicle                                                                 ', 98, 32, 1140, None)]"
      ]
     },
     "execution_count": 67,
     "metadata": {},
     "output_type": "execute_result"
    }
   ],
   "source": [
    "%%sql\n",
    "SELECT * From Crashes\n",
    "LIMIT 10"
   ]
  },
  {
   "cell_type": "code",
   "execution_count": 68,
   "id": "ffd7ecec-1ed5-4228-befd-a05860bbec64",
   "metadata": {},
   "outputs": [
    {
     "name": "stdout",
     "output_type": "stream",
     "text": [
      " * postgresql://student@/Final_Project\n",
      "10 rows affected.\n"
     ]
    },
    {
     "data": {
      "text/html": [
       "<table>\n",
       "    <thead>\n",
       "        <tr>\n",
       "            <th>key</th>\n",
       "            <th>hour</th>\n",
       "            <th>day</th>\n",
       "            <th>year</th>\n",
       "            <th>month_of_year</th>\n",
       "            <th>day_of_month</th>\n",
       "            <th>day_of_week_str</th>\n",
       "            <th>day_of_week</th>\n",
       "            <th>is_weekend</th>\n",
       "            <th>is_weekday</th>\n",
       "            <th>hour_of_day</th>\n",
       "            <th>quarter_of_year</th>\n",
       "            <th>combined_timestamp</th>\n",
       "        </tr>\n",
       "    </thead>\n",
       "    <tbody>\n",
       "        <tr>\n",
       "            <td>1</td>\n",
       "            <td>0</td>\n",
       "            <td>1</td>\n",
       "            <td>2016</td>\n",
       "            <td>1</td>\n",
       "            <td>1</td>\n",
       "            <td>Friday   </td>\n",
       "            <td>5</td>\n",
       "            <td>False</td>\n",
       "            <td>True</td>\n",
       "            <td>0</td>\n",
       "            <td>1</td>\n",
       "            <td>2016-01-01 00:01:00</td>\n",
       "        </tr>\n",
       "        <tr>\n",
       "            <td>2</td>\n",
       "            <td>0</td>\n",
       "            <td>1</td>\n",
       "            <td>2016</td>\n",
       "            <td>1</td>\n",
       "            <td>1</td>\n",
       "            <td>Friday   </td>\n",
       "            <td>5</td>\n",
       "            <td>False</td>\n",
       "            <td>True</td>\n",
       "            <td>0</td>\n",
       "            <td>1</td>\n",
       "            <td>2016-01-01 00:05:00</td>\n",
       "        </tr>\n",
       "        <tr>\n",
       "            <td>3</td>\n",
       "            <td>0</td>\n",
       "            <td>1</td>\n",
       "            <td>2016</td>\n",
       "            <td>1</td>\n",
       "            <td>1</td>\n",
       "            <td>Friday   </td>\n",
       "            <td>5</td>\n",
       "            <td>False</td>\n",
       "            <td>True</td>\n",
       "            <td>0</td>\n",
       "            <td>1</td>\n",
       "            <td>2016-01-01 00:15:00</td>\n",
       "        </tr>\n",
       "        <tr>\n",
       "            <td>4</td>\n",
       "            <td>0</td>\n",
       "            <td>1</td>\n",
       "            <td>2016</td>\n",
       "            <td>1</td>\n",
       "            <td>1</td>\n",
       "            <td>Friday   </td>\n",
       "            <td>5</td>\n",
       "            <td>False</td>\n",
       "            <td>True</td>\n",
       "            <td>0</td>\n",
       "            <td>1</td>\n",
       "            <td>2016-01-01 00:23:00</td>\n",
       "        </tr>\n",
       "        <tr>\n",
       "            <td>5</td>\n",
       "            <td>0</td>\n",
       "            <td>1</td>\n",
       "            <td>2016</td>\n",
       "            <td>1</td>\n",
       "            <td>1</td>\n",
       "            <td>Friday   </td>\n",
       "            <td>5</td>\n",
       "            <td>False</td>\n",
       "            <td>True</td>\n",
       "            <td>0</td>\n",
       "            <td>1</td>\n",
       "            <td>2016-01-01 00:25:00</td>\n",
       "        </tr>\n",
       "        <tr>\n",
       "            <td>6</td>\n",
       "            <td>0</td>\n",
       "            <td>1</td>\n",
       "            <td>2016</td>\n",
       "            <td>1</td>\n",
       "            <td>1</td>\n",
       "            <td>Friday   </td>\n",
       "            <td>5</td>\n",
       "            <td>False</td>\n",
       "            <td>True</td>\n",
       "            <td>0</td>\n",
       "            <td>1</td>\n",
       "            <td>2016-01-01 00:33:00</td>\n",
       "        </tr>\n",
       "        <tr>\n",
       "            <td>7</td>\n",
       "            <td>0</td>\n",
       "            <td>1</td>\n",
       "            <td>2016</td>\n",
       "            <td>1</td>\n",
       "            <td>1</td>\n",
       "            <td>Friday   </td>\n",
       "            <td>5</td>\n",
       "            <td>False</td>\n",
       "            <td>True</td>\n",
       "            <td>0</td>\n",
       "            <td>1</td>\n",
       "            <td>2016-01-01 00:50:00</td>\n",
       "        </tr>\n",
       "        <tr>\n",
       "            <td>8</td>\n",
       "            <td>0</td>\n",
       "            <td>1</td>\n",
       "            <td>2016</td>\n",
       "            <td>1</td>\n",
       "            <td>1</td>\n",
       "            <td>Friday   </td>\n",
       "            <td>5</td>\n",
       "            <td>False</td>\n",
       "            <td>True</td>\n",
       "            <td>0</td>\n",
       "            <td>1</td>\n",
       "            <td>2016-01-01 00:51:00</td>\n",
       "        </tr>\n",
       "        <tr>\n",
       "            <td>9</td>\n",
       "            <td>0</td>\n",
       "            <td>1</td>\n",
       "            <td>2016</td>\n",
       "            <td>2</td>\n",
       "            <td>1</td>\n",
       "            <td>Monday   </td>\n",
       "            <td>1</td>\n",
       "            <td>False</td>\n",
       "            <td>True</td>\n",
       "            <td>0</td>\n",
       "            <td>1</td>\n",
       "            <td>2016-02-01 00:01:00</td>\n",
       "        </tr>\n",
       "        <tr>\n",
       "            <td>10</td>\n",
       "            <td>0</td>\n",
       "            <td>1</td>\n",
       "            <td>2016</td>\n",
       "            <td>2</td>\n",
       "            <td>1</td>\n",
       "            <td>Monday   </td>\n",
       "            <td>1</td>\n",
       "            <td>False</td>\n",
       "            <td>True</td>\n",
       "            <td>0</td>\n",
       "            <td>1</td>\n",
       "            <td>2016-02-01 00:05:00</td>\n",
       "        </tr>\n",
       "    </tbody>\n",
       "</table>"
      ],
      "text/plain": [
       "[(1, 0, 1, 2016, 1, 1, 'Friday   ', 5, False, True, 0, 1, datetime.datetime(2016, 1, 1, 0, 1)),\n",
       " (2, 0, 1, 2016, 1, 1, 'Friday   ', 5, False, True, 0, 1, datetime.datetime(2016, 1, 1, 0, 5)),\n",
       " (3, 0, 1, 2016, 1, 1, 'Friday   ', 5, False, True, 0, 1, datetime.datetime(2016, 1, 1, 0, 15)),\n",
       " (4, 0, 1, 2016, 1, 1, 'Friday   ', 5, False, True, 0, 1, datetime.datetime(2016, 1, 1, 0, 23)),\n",
       " (5, 0, 1, 2016, 1, 1, 'Friday   ', 5, False, True, 0, 1, datetime.datetime(2016, 1, 1, 0, 25)),\n",
       " (6, 0, 1, 2016, 1, 1, 'Friday   ', 5, False, True, 0, 1, datetime.datetime(2016, 1, 1, 0, 33)),\n",
       " (7, 0, 1, 2016, 1, 1, 'Friday   ', 5, False, True, 0, 1, datetime.datetime(2016, 1, 1, 0, 50)),\n",
       " (8, 0, 1, 2016, 1, 1, 'Friday   ', 5, False, True, 0, 1, datetime.datetime(2016, 1, 1, 0, 51)),\n",
       " (9, 0, 1, 2016, 2, 1, 'Monday   ', 1, False, True, 0, 1, datetime.datetime(2016, 2, 1, 0, 1)),\n",
       " (10, 0, 1, 2016, 2, 1, 'Monday   ', 1, False, True, 0, 1, datetime.datetime(2016, 2, 1, 0, 5))]"
      ]
     },
     "execution_count": 68,
     "metadata": {},
     "output_type": "execute_result"
    }
   ],
   "source": [
    "%%sql\n",
    "SELECT * from Crash_time\n",
    "LIMIT 10"
   ]
  },
  {
   "cell_type": "code",
   "execution_count": 69,
   "id": "3d7c4fc3-ea7f-4a8c-bb17-6db2873dc028",
   "metadata": {},
   "outputs": [
    {
     "name": "stdout",
     "output_type": "stream",
     "text": [
      " * postgresql://student@/Final_Project\n",
      "793560 rows affected.\n"
     ]
    },
    {
     "data": {
      "text/plain": [
       "[]"
      ]
     },
     "execution_count": 69,
     "metadata": {},
     "output_type": "execute_result"
    }
   ],
   "source": [
    "%%sql\n",
    "UPDATE Crashes\n",
    "SET crash_time_key = Crash_time.key\n",
    "FROM Crash_time\n",
    "WHERE Crashes.crash_date + Crashes.crash_time = Crash_time.combined_timestamp;"
   ]
  },
  {
   "cell_type": "markdown",
   "id": "bc70466f-f68d-4959-b4e0-71e258cb746c",
   "metadata": {},
   "source": [
    "This will insert the contraint key 'Crash_time.key' into the 'Crashes' table. This allows the exact vales to be copied over. \n",
    "\n",
    "We build another contraint key 'Crash_time.combined_timestamp'. This will combine both the date and time into one column in the 'Crashes' table."
   ]
  },
  {
   "cell_type": "code",
   "execution_count": 70,
   "id": "f7154b10-0b9a-45f3-ad05-a7b7ff9fbaf6",
   "metadata": {},
   "outputs": [
    {
     "name": "stdout",
     "output_type": "stream",
     "text": [
      " * postgresql://student@/Final_Project\n",
      "1 rows affected.\n"
     ]
    },
    {
     "data": {
      "text/html": [
       "<table>\n",
       "    <thead>\n",
       "        <tr>\n",
       "            <th>count</th>\n",
       "        </tr>\n",
       "    </thead>\n",
       "    <tbody>\n",
       "        <tr>\n",
       "            <td>0</td>\n",
       "        </tr>\n",
       "    </tbody>\n",
       "</table>"
      ],
      "text/plain": [
       "[(0,)]"
      ]
     },
     "execution_count": 70,
     "metadata": {},
     "output_type": "execute_result"
    }
   ],
   "source": [
    "%%sql\n",
    "SELECT count(*) From Crashes\n",
    "Where crash_time_key is NULL"
   ]
  },
  {
   "cell_type": "markdown",
   "id": "f4c534af-0fcd-45f0-b34b-6bf84161644b",
   "metadata": {},
   "source": [
    "Check there are no null values in the 'crash_time_key' column."
   ]
  },
  {
   "cell_type": "code",
   "execution_count": 71,
   "id": "bc7e2304-5bc2-4dd4-8f6a-5918b49e3793",
   "metadata": {},
   "outputs": [
    {
     "name": "stdout",
     "output_type": "stream",
     "text": [
      " * postgresql://student@/Final_Project\n",
      "1 rows affected.\n"
     ]
    },
    {
     "data": {
      "text/html": [
       "<table>\n",
       "    <thead>\n",
       "        <tr>\n",
       "            <th>count</th>\n",
       "        </tr>\n",
       "    </thead>\n",
       "    <tbody>\n",
       "        <tr>\n",
       "            <td>501871</td>\n",
       "        </tr>\n",
       "    </tbody>\n",
       "</table>"
      ],
      "text/plain": [
       "[(501871,)]"
      ]
     },
     "execution_count": 71,
     "metadata": {},
     "output_type": "execute_result"
    }
   ],
   "source": [
    "%%sql\n",
    "SELECT count(DISTINCT crash_time_key)\n",
    "FROM Crashes"
   ]
  },
  {
   "cell_type": "code",
   "execution_count": 72,
   "id": "a81f686b-1440-4173-96cc-2cca69396356",
   "metadata": {},
   "outputs": [
    {
     "name": "stdout",
     "output_type": "stream",
     "text": [
      " * postgresql://student@/Final_Project\n",
      "1 rows affected.\n"
     ]
    },
    {
     "data": {
      "text/html": [
       "<table>\n",
       "    <thead>\n",
       "        <tr>\n",
       "            <th>count</th>\n",
       "        </tr>\n",
       "    </thead>\n",
       "    <tbody>\n",
       "        <tr>\n",
       "            <td>501871</td>\n",
       "        </tr>\n",
       "    </tbody>\n",
       "</table>"
      ],
      "text/plain": [
       "[(501871,)]"
      ]
     },
     "execution_count": 72,
     "metadata": {},
     "output_type": "execute_result"
    }
   ],
   "source": [
    "%%sql\n",
    "SELECT count(key)\n",
    "FROM Crash_time"
   ]
  },
  {
   "cell_type": "markdown",
   "id": "e969df51-6e8f-4332-95ec-00ee78bfea42",
   "metadata": {},
   "source": [
    "Check the distinct 'crash_time_key' count in both the fact table (Crashes) and the dimensional table (Crash_time). They have the same count, which is 501871. Thus, we ensure that the fact table contains the right number of records."
   ]
  },
  {
   "cell_type": "code",
   "execution_count": 73,
   "id": "ec3f587b-3929-4089-b6ef-2fa93ad1a58f",
   "metadata": {},
   "outputs": [
    {
     "name": "stdout",
     "output_type": "stream",
     "text": [
      " * postgresql://student@/Final_Project\n",
      "Done.\n"
     ]
    },
    {
     "data": {
      "text/plain": [
       "[]"
      ]
     },
     "execution_count": 73,
     "metadata": {},
     "output_type": "execute_result"
    }
   ],
   "source": [
    "%%sql\n",
    "ALTER TABLE Crashes\n",
    "DROP COLUMN crash_date,\n",
    "DROP COLUMN crash_time,\n",
    "DROP COLUMN borough,\n",
    "DROP COLUMN zip_code,\n",
    "DROP COLUMN contributing_factor_vehicle_1,\n",
    "DROP COLUMN vehicle_type_code_1"
   ]
  },
  {
   "cell_type": "markdown",
   "id": "7264ad4a-8951-4d07-b986-3c1cc74f19e9",
   "metadata": {},
   "source": [
    "Drop the original and unnecessary columns in the fact table."
   ]
  },
  {
   "cell_type": "markdown",
   "id": "dd563d25-465b-4a15-bfd1-2406d53371ad",
   "metadata": {},
   "source": [
    "**Look at the final fact table.**"
   ]
  },
  {
   "cell_type": "code",
   "execution_count": 74,
   "id": "42ee0eff-4e03-45fa-9761-b6686b95b9f6",
   "metadata": {},
   "outputs": [
    {
     "name": "stdout",
     "output_type": "stream",
     "text": [
      " * postgresql://student@/Final_Project\n",
      "10 rows affected.\n"
     ]
    },
    {
     "data": {
      "text/html": [
       "<table>\n",
       "    <thead>\n",
       "        <tr>\n",
       "            <th>number_of_persons_injured</th>\n",
       "            <th>number_of_persons_killed</th>\n",
       "            <th>collision_id</th>\n",
       "            <th>geography_key</th>\n",
       "            <th>contributing_factor_key</th>\n",
       "            <th>vehicle_type_key</th>\n",
       "            <th>crash_time_key</th>\n",
       "        </tr>\n",
       "    </thead>\n",
       "    <tbody>\n",
       "        <tr>\n",
       "            <td>0</td>\n",
       "            <td>0</td>\n",
       "            <td>3363638</td>\n",
       "            <td>89</td>\n",
       "            <td>9</td>\n",
       "            <td>826</td>\n",
       "            <td>549</td>\n",
       "        </tr>\n",
       "        <tr>\n",
       "            <td>0</td>\n",
       "            <td>0</td>\n",
       "            <td>3364381</td>\n",
       "            <td>56</td>\n",
       "            <td>38</td>\n",
       "            <td>207</td>\n",
       "            <td>142114</td>\n",
       "        </tr>\n",
       "        <tr>\n",
       "            <td>0</td>\n",
       "            <td>0</td>\n",
       "            <td>3364154</td>\n",
       "            <td>1</td>\n",
       "            <td>38</td>\n",
       "            <td>207</td>\n",
       "            <td>61933</td>\n",
       "        </tr>\n",
       "        <tr>\n",
       "            <td>1</td>\n",
       "            <td>0</td>\n",
       "            <td>3364847</td>\n",
       "            <td>49</td>\n",
       "            <td>61</td>\n",
       "            <td>207</td>\n",
       "            <td>118146</td>\n",
       "        </tr>\n",
       "        <tr>\n",
       "            <td>0</td>\n",
       "            <td>0</td>\n",
       "            <td>3364309</td>\n",
       "            <td>88</td>\n",
       "            <td>38</td>\n",
       "            <td>804</td>\n",
       "            <td>308219</td>\n",
       "        </tr>\n",
       "        <tr>\n",
       "            <td>0</td>\n",
       "            <td>0</td>\n",
       "            <td>3364599</td>\n",
       "            <td>209</td>\n",
       "            <td>54</td>\n",
       "            <td>883</td>\n",
       "            <td>221645</td>\n",
       "        </tr>\n",
       "        <tr>\n",
       "            <td>0</td>\n",
       "            <td>0</td>\n",
       "            <td>3365018</td>\n",
       "            <td>215</td>\n",
       "            <td>61</td>\n",
       "            <td>207</td>\n",
       "            <td>341302</td>\n",
       "        </tr>\n",
       "        <tr>\n",
       "            <td>1</td>\n",
       "            <td>0</td>\n",
       "            <td>3365321</td>\n",
       "            <td>212</td>\n",
       "            <td>57</td>\n",
       "            <td>826</td>\n",
       "            <td>449301</td>\n",
       "        </tr>\n",
       "        <tr>\n",
       "            <td>0</td>\n",
       "            <td>0</td>\n",
       "            <td>3592792</td>\n",
       "            <td>119</td>\n",
       "            <td>3</td>\n",
       "            <td>1108</td>\n",
       "            <td>62810</td>\n",
       "        </tr>\n",
       "        <tr>\n",
       "            <td>0</td>\n",
       "            <td>0</td>\n",
       "            <td>3365546</td>\n",
       "            <td>200</td>\n",
       "            <td>3</td>\n",
       "            <td>826</td>\n",
       "            <td>76390</td>\n",
       "        </tr>\n",
       "    </tbody>\n",
       "</table>"
      ],
      "text/plain": [
       "[(Decimal('0'), Decimal('0'), Decimal('3363638'), 89, 9, 826, 549),\n",
       " (Decimal('0'), Decimal('0'), Decimal('3364381'), 56, 38, 207, 142114),\n",
       " (Decimal('0'), Decimal('0'), Decimal('3364154'), 1, 38, 207, 61933),\n",
       " (Decimal('1'), Decimal('0'), Decimal('3364847'), 49, 61, 207, 118146),\n",
       " (Decimal('0'), Decimal('0'), Decimal('3364309'), 88, 38, 804, 308219),\n",
       " (Decimal('0'), Decimal('0'), Decimal('3364599'), 209, 54, 883, 221645),\n",
       " (Decimal('0'), Decimal('0'), Decimal('3365018'), 215, 61, 207, 341302),\n",
       " (Decimal('1'), Decimal('0'), Decimal('3365321'), 212, 57, 826, 449301),\n",
       " (Decimal('0'), Decimal('0'), Decimal('3592792'), 119, 3, 1108, 62810),\n",
       " (Decimal('0'), Decimal('0'), Decimal('3365546'), 200, 3, 826, 76390)]"
      ]
     },
     "execution_count": 74,
     "metadata": {},
     "output_type": "execute_result"
    }
   ],
   "source": [
    "%%sql\n",
    "SELECT * From Crashes\n",
    "LIMIT 10"
   ]
  },
  {
   "cell_type": "markdown",
   "id": "e1d1e182-600a-4360-b89c-780bf3ee92ce",
   "metadata": {},
   "source": [
    "### Ask 3: Data Analysis"
   ]
  },
  {
   "cell_type": "markdown",
   "id": "640774f3-0d55-47b5-a8c6-e8f44908bc9f",
   "metadata": {},
   "source": [
    "We are a Consultation firm providing an overview of the New York City traffic incident trends from 2016-2022."
   ]
  },
  {
   "cell_type": "code",
   "execution_count": 21,
   "id": "c6d99543-eea4-470e-8e05-c7d0d71726a4",
   "metadata": {},
   "outputs": [
    {
     "data": {
      "text/html": [
       "<img src=\"https://i.ibb.co/FHPM3BG/Number-Of-Incidents.jpg\"/>"
      ],
      "text/plain": [
       "<IPython.core.display.Image object>"
      ]
     },
     "execution_count": 21,
     "metadata": {},
     "output_type": "execute_result"
    }
   ],
   "source": [
    "image_url = 'https://i.ibb.co/FHPM3BG/Number-Of-Incidents.jpg'\n",
    "Image(url=image_url)"
   ]
  },
  {
   "cell_type": "markdown",
   "id": "faf3fe4c-ae87-4196-b526-304fd46bf57d",
   "metadata": {},
   "source": [
    "We can see that this is the total number of incidents from 2016- 2022. The lowest number of incidents is in 2020 (April) and we can see that the number of incidents has decreased significantly post 2020, which could possibly be because of post CoViD circumstances (e,g; more people choosing to Work from Home)."
   ]
  },
  {
   "cell_type": "code",
   "execution_count": 20,
   "id": "7b76ad2c-3eae-46fe-9f3e-4c2244d8a5c8",
   "metadata": {},
   "outputs": [
    {
     "data": {
      "text/html": [
       "<img src=\"https://i.ibb.co/6wbprvL/Total-Persons-Injured.jpg\"/>"
      ],
      "text/plain": [
       "<IPython.core.display.Image object>"
      ]
     },
     "execution_count": 20,
     "metadata": {},
     "output_type": "execute_result"
    }
   ],
   "source": [
    "image_url = 'https://i.ibb.co/6wbprvL/Total-Persons-Injured.jpg'\n",
    "Image(url=image_url)"
   ]
  },
  {
   "cell_type": "markdown",
   "id": "21cb6c3c-64e4-44b7-93db-7d2caab32ac5",
   "metadata": {},
   "source": [
    "- The trend shows that even though the total number of incidents has decreased, we can see that the trend in the number of injuries is not similar (decreased).  \n"
   ]
  },
  {
   "cell_type": "code",
   "execution_count": 22,
   "id": "5c15314a-c6a4-4bb6-8315-85cde37cb9ea",
   "metadata": {},
   "outputs": [
    {
     "data": {
      "text/html": [
       "<img src=\"https://i.ibb.co/p0LMkNC/Total-Persons-Killed.jpg\"/>"
      ],
      "text/plain": [
       "<IPython.core.display.Image object>"
      ]
     },
     "execution_count": 22,
     "metadata": {},
     "output_type": "execute_result"
    }
   ],
   "source": [
    "image_url = 'https://i.ibb.co/p0LMkNC/Total-Persons-Killed.jpg'\n",
    "Image(url=image_url)"
   ]
  },
  {
   "cell_type": "markdown",
   "id": "3d31f2e4-9a29-4bc0-85c9-adcb07c6a4c0",
   "metadata": {},
   "source": [
    "- The trend shows that even though the total number of incidents has decreased, we can see that the trend in the number of people killed remains the same. "
   ]
  },
  {
   "cell_type": "markdown",
   "id": "8061351f-9195-47a1-a245-5fe7673f64e5",
   "metadata": {},
   "source": [
    "The following queries are intended for data extraction to generate the overall trend graphs above."
   ]
  },
  {
   "cell_type": "code",
   "execution_count": 75,
   "id": "31e70bc0-8476-499f-a791-dc01cabfa3ed",
   "metadata": {},
   "outputs": [
    {
     "name": "stdout",
     "output_type": "stream",
     "text": [
      "/home/ubuntu/notebooks/FinalProjectGroup2\n"
     ]
    }
   ],
   "source": [
    "!pwd"
   ]
  },
  {
   "cell_type": "code",
   "execution_count": null,
   "id": "24ab7299-3ca9-44e3-89e1-8bd603ca592d",
   "metadata": {},
   "outputs": [],
   "source": [
    "!sudo chmod a+w /home/ubuntu/notebooks/Final\\ Project"
   ]
  },
  {
   "cell_type": "code",
   "execution_count": null,
   "id": "162565f5-07e4-4542-b1be-5ccd6ca2b446",
   "metadata": {},
   "outputs": [],
   "source": [
    "%%sql\n",
    "COPY (\n",
    "    SELECT\n",
    "        Crash_time.year, \n",
    "        Crash_time.month_of_year,\n",
    "        Crash_time.day_of_week_str,\n",
    "        Geography.borough,\n",
    "        count(Crashes.collision_id) AS number_of_incidents,\n",
    "        SUM(Crashes.number_of_persons_killed) AS total_persons_killed,\n",
    "        SUM(Crashes.number_of_persons_injured) AS total_persons_injured    \n",
    "    FROM Crashes\n",
    "    JOIN Crash_time ON Crashes.crash_time_key = Crash_time.key\n",
    "    JOIN Geography ON Crashes.geography_key = Geography.key\n",
    "    GROUP BY Crash_time.year, Crash_time.month_of_year, Crash_time.day_of_week_str, Geography.borough\n",
    "    ORDER BY Crash_time.year, Crash_time.month_of_year, Crash_time.day_of_week_str, Geography.borough, number_of_incidents\n",
    ") TO '/home/ubuntu/notebooks/output.csv' WITH CSV HEADER;"
   ]
  },
  {
   "cell_type": "code",
   "execution_count": null,
   "id": "0e627189-940b-4901-976c-38cc923ce7d9",
   "metadata": {},
   "outputs": [],
   "source": [
    "%%sql\n",
    "COPY (\n",
    "    SELECT\n",
    "    Contributing_factor.contributing_factor_vehicle_1,\n",
    "    SUM(Crashes.number_of_persons_killed) AS total_persons_killed,\n",
    "    SUM(Crashes.number_of_persons_injured) AS total_persons_injured\n",
    "FROM\n",
    "    Crashes\n",
    "JOIN\n",
    "    Contributing_factor ON Crashes.contributing_factor_key = Contributing_factor.key\n",
    "GROUP BY\n",
    "    Contributing_factor.contributing_factor_vehicle_1\n",
    "ORDER BY\n",
    "   total_persons_killed DESC, total_persons_injured DESC\n",
    ") TO '/home/ubuntu/notebooks/output1.csv' WITH CSV HEADER;"
   ]
  },
  {
   "cell_type": "markdown",
   "id": "8ef47135-565c-4e32-89a2-03cfc8f1c330",
   "metadata": {},
   "source": [
    "#### Analysis 1 for Car Insurance:\n",
    "\n",
    "Examine the boroughs with the highest frequency of  traffic crashes and the vehicles involved in the highest  number of accidents focusing on developing  recommendations for car insurance companies by improving risk assessment models and enhancing competitiveness within the insurance market."
   ]
  },
  {
   "cell_type": "markdown",
   "id": "b5be05ce-2b1b-4dff-a085-263d2f2e1765",
   "metadata": {},
   "source": [
    "**First we want to know which top 10 vehicle types have the most crashes**"
   ]
  },
  {
   "cell_type": "code",
   "execution_count": 76,
   "id": "97cde443-baa0-4199-8601-3859fce6bd56",
   "metadata": {
    "tags": []
   },
   "outputs": [
    {
     "name": "stdout",
     "output_type": "stream",
     "text": [
      " * postgresql://student@/Final_Project\n",
      "10 rows affected.\n"
     ]
    },
    {
     "data": {
      "text/html": [
       "<table>\n",
       "    <thead>\n",
       "        <tr>\n",
       "            <th>vehicle_type_code_1</th>\n",
       "            <th>number_of_incidents</th>\n",
       "        </tr>\n",
       "    </thead>\n",
       "    <tbody>\n",
       "        <tr>\n",
       "            <td>Sedan                                                                                               </td>\n",
       "            <td>335762</td>\n",
       "        </tr>\n",
       "        <tr>\n",
       "            <td>Station Wagon/Sport Utility Vehicle                                                                 </td>\n",
       "            <td>262104</td>\n",
       "        </tr>\n",
       "        <tr>\n",
       "            <td>Taxi                                                                                                </td>\n",
       "            <td>31858</td>\n",
       "        </tr>\n",
       "        <tr>\n",
       "            <td>4 dr sedan                                                                                          </td>\n",
       "            <td>26889</td>\n",
       "        </tr>\n",
       "        <tr>\n",
       "            <td>Pick-up Truck                                                                                       </td>\n",
       "            <td>20100</td>\n",
       "        </tr>\n",
       "        <tr>\n",
       "            <td>PASSENGER VEHICLE                                                                                   </td>\n",
       "            <td>15575</td>\n",
       "        </tr>\n",
       "        <tr>\n",
       "            <td>Box Truck                                                                                           </td>\n",
       "            <td>15067</td>\n",
       "        </tr>\n",
       "        <tr>\n",
       "            <td>Bus                                                                                                 </td>\n",
       "            <td>13226</td>\n",
       "        </tr>\n",
       "        <tr>\n",
       "            <td>Bike                                                                                                </td>\n",
       "            <td>8884</td>\n",
       "        </tr>\n",
       "        <tr>\n",
       "            <td>SPORT UTILITY / STATION WAGON                                                                       </td>\n",
       "            <td>8230</td>\n",
       "        </tr>\n",
       "    </tbody>\n",
       "</table>"
      ],
      "text/plain": [
       "[('Sedan                                                                                               ', 335762),\n",
       " ('Station Wagon/Sport Utility Vehicle                                                                 ', 262104),\n",
       " ('Taxi                                                                                                ', 31858),\n",
       " ('4 dr sedan                                                                                          ', 26889),\n",
       " ('Pick-up Truck                                                                                       ', 20100),\n",
       " ('PASSENGER VEHICLE                                                                                   ', 15575),\n",
       " ('Box Truck                                                                                           ', 15067),\n",
       " ('Bus                                                                                                 ', 13226),\n",
       " ('Bike                                                                                                ', 8884),\n",
       " ('SPORT UTILITY / STATION WAGON                                                                       ', 8230)]"
      ]
     },
     "execution_count": 76,
     "metadata": {},
     "output_type": "execute_result"
    }
   ],
   "source": [
    "%%sql\n",
    "SELECT Vehicle_type.vehicle_type_code_1, count(collision_id) as number_of_incidents\n",
    "FROM\n",
    "    Crashes \n",
    "JOIN\n",
    "    Vehicle_type ON Crashes.vehicle_type_key = Vehicle_type.key\n",
    "    \n",
    "GROUP BY vehicle_type.vehicle_type_code_1\n",
    "ORDER BY number_of_incidents desc\n",
    "LIMIT 10"
   ]
  },
  {
   "cell_type": "markdown",
   "id": "d3fef1dd-66c6-4d96-b26b-13ed81f75043",
   "metadata": {},
   "source": [
    "As it shows that there are some duplications in Vehicle type, due to the fact that no standards are followed by the people who did data entry. This results in the problem that each person enters the data differently, some will say Sedan, other will enter the car company name like 'chev' or 'ford'.\n",
    "\n",
    "To solve this issue, we need first to identify and agree on the vehicle type classfication. Second, we need to automate the data entry so the data entry person will have a drop down list to chose the vehicle type.\n"
   ]
  },
  {
   "cell_type": "markdown",
   "id": "76e8e1f4-91a5-4bf8-a5b9-f565148377a5",
   "metadata": {},
   "source": [
    " - Sedan vehicles top the list for the highest number of incidents, closely followed by Station Wagons and Sport Utility Vehicles."
   ]
  },
  {
   "cell_type": "code",
   "execution_count": 23,
   "id": "8c3a07b1-455d-47e9-8589-7ff5f7eb961a",
   "metadata": {},
   "outputs": [
    {
     "data": {
      "text/html": [
       "<img src=\"https://i.ibb.co/3FwJ2L0/Vehicle-Types.jpg\"/>"
      ],
      "text/plain": [
       "<IPython.core.display.Image object>"
      ]
     },
     "execution_count": 23,
     "metadata": {},
     "output_type": "execute_result"
    }
   ],
   "source": [
    "image_url = 'https://i.ibb.co/3FwJ2L0/Vehicle-Types.jpg'\n",
    "Image(url=image_url)"
   ]
  },
  {
   "cell_type": "markdown",
   "id": "4f02789a-882c-4332-a59c-140c4e8e40f7",
   "metadata": {},
   "source": [
    "**Which boroughs have the most crashes?**"
   ]
  },
  {
   "cell_type": "code",
   "execution_count": 77,
   "id": "8ec00150-b667-47cf-9f6d-fd31acb224d2",
   "metadata": {
    "tags": []
   },
   "outputs": [
    {
     "name": "stdout",
     "output_type": "stream",
     "text": [
      " * postgresql://student@/Final_Project\n",
      "5 rows affected.\n"
     ]
    },
    {
     "data": {
      "text/html": [
       "<table>\n",
       "    <thead>\n",
       "        <tr>\n",
       "            <th>borough</th>\n",
       "            <th>number_of_incidents</th>\n",
       "        </tr>\n",
       "    </thead>\n",
       "    <tbody>\n",
       "        <tr>\n",
       "            <td>BROOKLYN            </td>\n",
       "            <td>256981</td>\n",
       "        </tr>\n",
       "        <tr>\n",
       "            <td>QUEENS              </td>\n",
       "            <td>218871</td>\n",
       "        </tr>\n",
       "        <tr>\n",
       "            <td>MANHATTAN           </td>\n",
       "            <td>159491</td>\n",
       "        </tr>\n",
       "        <tr>\n",
       "            <td>BRONX               </td>\n",
       "            <td>127786</td>\n",
       "        </tr>\n",
       "        <tr>\n",
       "            <td>STATEN ISLAND       </td>\n",
       "            <td>30431</td>\n",
       "        </tr>\n",
       "    </tbody>\n",
       "</table>"
      ],
      "text/plain": [
       "[('BROOKLYN            ', 256981),\n",
       " ('QUEENS              ', 218871),\n",
       " ('MANHATTAN           ', 159491),\n",
       " ('BRONX               ', 127786),\n",
       " ('STATEN ISLAND       ', 30431)]"
      ]
     },
     "execution_count": 77,
     "metadata": {},
     "output_type": "execute_result"
    }
   ],
   "source": [
    "%%sql\n",
    "SELECT Geography.borough, \n",
    "count(collision_id) as number_of_incidents\n",
    "FROM\n",
    "    Crashes \n",
    "JOIN\n",
    "    Geography ON Crashes.geography_key = Geography.key\n",
    "    \n",
    "GROUP BY Geography.borough\n",
    "ORDER BY number_of_incidents desc"
   ]
  },
  {
   "cell_type": "code",
   "execution_count": 24,
   "id": "a204ea40-538b-4bd1-a981-5bd4f4dc2f29",
   "metadata": {},
   "outputs": [
    {
     "data": {
      "text/html": [
       "<img src=\"https://i.ibb.co/L68CZqY/Borough.jpg\"/>"
      ],
      "text/plain": [
       "<IPython.core.display.Image object>"
      ]
     },
     "execution_count": 24,
     "metadata": {},
     "output_type": "execute_result"
    }
   ],
   "source": [
    "image_url = 'https://i.ibb.co/L68CZqY/Borough.jpg'\n",
    "Image(url=image_url)"
   ]
  },
  {
   "cell_type": "markdown",
   "id": "45a14ac1-55ed-441e-b30b-aa077c391d54",
   "metadata": {},
   "source": [
    "We find that 'BROOKLYN' and 'QUEENS' have the highest number of incidents"
   ]
  },
  {
   "cell_type": "markdown",
   "id": "b9433a85-340f-40b2-94c1-e77cd9fed7e4",
   "metadata": {},
   "source": [
    "**Strategic recommendations to Car Insurance Companies:**\n",
    "\n",
    "- We suggest raising insurance premiums for Sedans and SPORT UTILITY / STATION WAGON vehicle types, as well as for residents of BROOKLYN and QUEENS."
   ]
  },
  {
   "cell_type": "markdown",
   "id": "7dd7f4f5-aafd-471d-ad38-e2923a4d97f2",
   "metadata": {},
   "source": [
    "#### Analysis 2 for NY Traffic Police Office:\n",
    "\n",
    "What recommendations can we provide to the New York Police Office responsible for traffic management, with the goal of reducing traffic accidents in high-risk areas?"
   ]
  },
  {
   "cell_type": "markdown",
   "id": "22cac552-1917-45d7-9cdd-4f1f41b45b7a",
   "metadata": {},
   "source": [
    "**2-1: Which top 10 zip code areas have the highest number of persons injured due to crashes?**"
   ]
  },
  {
   "cell_type": "code",
   "execution_count": 78,
   "id": "08fc0904-049c-4b18-a6f4-9fd7f8c0cb6f",
   "metadata": {},
   "outputs": [
    {
     "name": "stdout",
     "output_type": "stream",
     "text": [
      " * postgresql://student@/Final_Project\n",
      "10 rows affected.\n"
     ]
    },
    {
     "data": {
      "text/html": [
       "<table>\n",
       "    <thead>\n",
       "        <tr>\n",
       "            <th>zip_code</th>\n",
       "            <th>total_persons_injured</th>\n",
       "        </tr>\n",
       "    </thead>\n",
       "    <tbody>\n",
       "        <tr>\n",
       "            <td>11207</td>\n",
       "            <td>6060</td>\n",
       "        </tr>\n",
       "        <tr>\n",
       "            <td>11236</td>\n",
       "            <td>4998</td>\n",
       "        </tr>\n",
       "        <tr>\n",
       "            <td>11203</td>\n",
       "            <td>4522</td>\n",
       "        </tr>\n",
       "        <tr>\n",
       "            <td>11212</td>\n",
       "            <td>4380</td>\n",
       "        </tr>\n",
       "        <tr>\n",
       "            <td>11234</td>\n",
       "            <td>3804</td>\n",
       "        </tr>\n",
       "        <tr>\n",
       "            <td>11208</td>\n",
       "            <td>3787</td>\n",
       "        </tr>\n",
       "        <tr>\n",
       "            <td>11226</td>\n",
       "            <td>3782</td>\n",
       "        </tr>\n",
       "        <tr>\n",
       "            <td>11434</td>\n",
       "            <td>3545</td>\n",
       "        </tr>\n",
       "        <tr>\n",
       "            <td>11233</td>\n",
       "            <td>3111</td>\n",
       "        </tr>\n",
       "        <tr>\n",
       "            <td>11385</td>\n",
       "            <td>3049</td>\n",
       "        </tr>\n",
       "    </tbody>\n",
       "</table>"
      ],
      "text/plain": [
       "[(Decimal('11207'), Decimal('6060')),\n",
       " (Decimal('11236'), Decimal('4998')),\n",
       " (Decimal('11203'), Decimal('4522')),\n",
       " (Decimal('11212'), Decimal('4380')),\n",
       " (Decimal('11234'), Decimal('3804')),\n",
       " (Decimal('11208'), Decimal('3787')),\n",
       " (Decimal('11226'), Decimal('3782')),\n",
       " (Decimal('11434'), Decimal('3545')),\n",
       " (Decimal('11233'), Decimal('3111')),\n",
       " (Decimal('11385'), Decimal('3049'))]"
      ]
     },
     "execution_count": 78,
     "metadata": {},
     "output_type": "execute_result"
    }
   ],
   "source": [
    "%%sql\n",
    "SELECT Geography.zip_code, \n",
    "SUM(Crashes.number_of_persons_injured) AS total_persons_injured\n",
    "FROM\n",
    "    Crashes \n",
    "JOIN\n",
    "    Geography ON Crashes.geography_key = Geography.key\n",
    "    \n",
    "GROUP BY Geography.zip_code\n",
    "ORDER BY total_persons_injured desc\n",
    "LIMIT 10"
   ]
  },
  {
   "cell_type": "code",
   "execution_count": 16,
   "id": "dfc16acc-b028-45d1-a321-c39924dc47be",
   "metadata": {},
   "outputs": [
    {
     "data": {
      "text/html": [
       "<img src=\"https://i.ibb.co/XLX9Kfj/Zip-Code-Map.jpg\"/>"
      ],
      "text/plain": [
       "<IPython.core.display.Image object>"
      ]
     },
     "execution_count": 16,
     "metadata": {},
     "output_type": "execute_result"
    }
   ],
   "source": [
    "image_url = 'https://i.ibb.co/XLX9Kfj/Zip-Code-Map.jpg'\n",
    "\n",
    "Image(url=image_url)"
   ]
  },
  {
   "cell_type": "markdown",
   "id": "4b3493fa-ccee-4772-99ca-1c0a5af40676",
   "metadata": {},
   "source": [
    "We use this website, https://maps.huge.info/zip.htm, to pinpoint the top 10 high-risk zip codes. The pinned locations are as follows: Pinned A: 11207, Pinned B: 11236, Pinned C: 11203, Pinned D: 11212, Pinned E: 11234, Pinned F: 11208, Pinned G: 11226, Pinned H: 11434, Pinned I: 11233, and Pinned J: 11385."
   ]
  },
  {
   "cell_type": "markdown",
   "id": "2b451506-374d-4d3e-afbe-87cbd22aed35",
   "metadata": {},
   "source": [
    "We recommend that the local police office initiate research to identify specific intersections within the identified high-risk zip codes (11207, 11236, 11203, 11212, 11234, 11208, 11226, 11434, 11208, 11226, 11434, 11233, 11385) and implement safety measures such as improved signage, road markings, and pedestrian crossings. Simultaneously, we suggest conducting traffic awareness campaigns in these areas to educate both drivers and pedestrians about safe practices."
   ]
  },
  {
   "cell_type": "markdown",
   "id": "5487cdf5-97e0-4ebc-8d59-6645dd8b2551",
   "metadata": {},
   "source": [
    "**2-2: What combination of day of the week, hour of the day, and zip code experienced the top 30 highest number of persons injured in crashes?**"
   ]
  },
  {
   "cell_type": "code",
   "execution_count": 79,
   "id": "2be6a20a-3ec2-4812-b469-9a5e77658665",
   "metadata": {},
   "outputs": [
    {
     "name": "stdout",
     "output_type": "stream",
     "text": [
      " * postgresql://student@/Final_Project\n",
      "30 rows affected.\n"
     ]
    },
    {
     "data": {
      "text/html": [
       "<table>\n",
       "    <thead>\n",
       "        <tr>\n",
       "            <th>day_of_week_str</th>\n",
       "            <th>hour_of_day</th>\n",
       "            <th>zip_code</th>\n",
       "            <th>total_persons_injured</th>\n",
       "        </tr>\n",
       "    </thead>\n",
       "    <tbody>\n",
       "        <tr>\n",
       "            <td>Friday   </td>\n",
       "            <td>17</td>\n",
       "            <td>11207</td>\n",
       "            <td>96</td>\n",
       "        </tr>\n",
       "        <tr>\n",
       "            <td>Sunday   </td>\n",
       "            <td>0</td>\n",
       "            <td>11207</td>\n",
       "            <td>75</td>\n",
       "        </tr>\n",
       "        <tr>\n",
       "            <td>Thursday </td>\n",
       "            <td>16</td>\n",
       "            <td>11207</td>\n",
       "            <td>72</td>\n",
       "        </tr>\n",
       "        <tr>\n",
       "            <td>Saturday </td>\n",
       "            <td>22</td>\n",
       "            <td>11207</td>\n",
       "            <td>69</td>\n",
       "        </tr>\n",
       "        <tr>\n",
       "            <td>Sunday   </td>\n",
       "            <td>15</td>\n",
       "            <td>11207</td>\n",
       "            <td>68</td>\n",
       "        </tr>\n",
       "        <tr>\n",
       "            <td>Tuesday  </td>\n",
       "            <td>17</td>\n",
       "            <td>11234</td>\n",
       "            <td>66</td>\n",
       "        </tr>\n",
       "        <tr>\n",
       "            <td>Tuesday  </td>\n",
       "            <td>18</td>\n",
       "            <td>11207</td>\n",
       "            <td>66</td>\n",
       "        </tr>\n",
       "        <tr>\n",
       "            <td>Saturday </td>\n",
       "            <td>21</td>\n",
       "            <td>11236</td>\n",
       "            <td>65</td>\n",
       "        </tr>\n",
       "        <tr>\n",
       "            <td>Thursday </td>\n",
       "            <td>17</td>\n",
       "            <td>11207</td>\n",
       "            <td>65</td>\n",
       "        </tr>\n",
       "        <tr>\n",
       "            <td>Saturday </td>\n",
       "            <td>15</td>\n",
       "            <td>11207</td>\n",
       "            <td>64</td>\n",
       "        </tr>\n",
       "        <tr>\n",
       "            <td>Saturday </td>\n",
       "            <td>18</td>\n",
       "            <td>11236</td>\n",
       "            <td>63</td>\n",
       "        </tr>\n",
       "        <tr>\n",
       "            <td>Thursday </td>\n",
       "            <td>17</td>\n",
       "            <td>11434</td>\n",
       "            <td>63</td>\n",
       "        </tr>\n",
       "        <tr>\n",
       "            <td>Friday   </td>\n",
       "            <td>14</td>\n",
       "            <td>11207</td>\n",
       "            <td>62</td>\n",
       "        </tr>\n",
       "        <tr>\n",
       "            <td>Friday   </td>\n",
       "            <td>16</td>\n",
       "            <td>11207</td>\n",
       "            <td>61</td>\n",
       "        </tr>\n",
       "        <tr>\n",
       "            <td>Friday   </td>\n",
       "            <td>20</td>\n",
       "            <td>11207</td>\n",
       "            <td>61</td>\n",
       "        </tr>\n",
       "        <tr>\n",
       "            <td>Friday   </td>\n",
       "            <td>20</td>\n",
       "            <td>11236</td>\n",
       "            <td>61</td>\n",
       "        </tr>\n",
       "        <tr>\n",
       "            <td>Sunday   </td>\n",
       "            <td>0</td>\n",
       "            <td>11236</td>\n",
       "            <td>61</td>\n",
       "        </tr>\n",
       "        <tr>\n",
       "            <td>Tuesday  </td>\n",
       "            <td>17</td>\n",
       "            <td>10451</td>\n",
       "            <td>61</td>\n",
       "        </tr>\n",
       "        <tr>\n",
       "            <td>Wednesday</td>\n",
       "            <td>15</td>\n",
       "            <td>11203</td>\n",
       "            <td>61</td>\n",
       "        </tr>\n",
       "        <tr>\n",
       "            <td>Friday   </td>\n",
       "            <td>18</td>\n",
       "            <td>11385</td>\n",
       "            <td>60</td>\n",
       "        </tr>\n",
       "        <tr>\n",
       "            <td>Friday   </td>\n",
       "            <td>15</td>\n",
       "            <td>11207</td>\n",
       "            <td>58</td>\n",
       "        </tr>\n",
       "        <tr>\n",
       "            <td>Friday   </td>\n",
       "            <td>18</td>\n",
       "            <td>11207</td>\n",
       "            <td>58</td>\n",
       "        </tr>\n",
       "        <tr>\n",
       "            <td>Saturday </td>\n",
       "            <td>19</td>\n",
       "            <td>11236</td>\n",
       "            <td>58</td>\n",
       "        </tr>\n",
       "        <tr>\n",
       "            <td>Thursday </td>\n",
       "            <td>14</td>\n",
       "            <td>11207</td>\n",
       "            <td>58</td>\n",
       "        </tr>\n",
       "        <tr>\n",
       "            <td>Thursday </td>\n",
       "            <td>17</td>\n",
       "            <td>11203</td>\n",
       "            <td>58</td>\n",
       "        </tr>\n",
       "        <tr>\n",
       "            <td>Thursday </td>\n",
       "            <td>17</td>\n",
       "            <td>11234</td>\n",
       "            <td>58</td>\n",
       "        </tr>\n",
       "        <tr>\n",
       "            <td>Thursday </td>\n",
       "            <td>18</td>\n",
       "            <td>11212</td>\n",
       "            <td>58</td>\n",
       "        </tr>\n",
       "        <tr>\n",
       "            <td>Tuesday  </td>\n",
       "            <td>17</td>\n",
       "            <td>11208</td>\n",
       "            <td>58</td>\n",
       "        </tr>\n",
       "        <tr>\n",
       "            <td>Tuesday  </td>\n",
       "            <td>18</td>\n",
       "            <td>11203</td>\n",
       "            <td>58</td>\n",
       "        </tr>\n",
       "        <tr>\n",
       "            <td>Tuesday  </td>\n",
       "            <td>20</td>\n",
       "            <td>11207</td>\n",
       "            <td>58</td>\n",
       "        </tr>\n",
       "    </tbody>\n",
       "</table>"
      ],
      "text/plain": [
       "[('Friday   ', 17, Decimal('11207'), Decimal('96')),\n",
       " ('Sunday   ', 0, Decimal('11207'), Decimal('75')),\n",
       " ('Thursday ', 16, Decimal('11207'), Decimal('72')),\n",
       " ('Saturday ', 22, Decimal('11207'), Decimal('69')),\n",
       " ('Sunday   ', 15, Decimal('11207'), Decimal('68')),\n",
       " ('Tuesday  ', 17, Decimal('11234'), Decimal('66')),\n",
       " ('Tuesday  ', 18, Decimal('11207'), Decimal('66')),\n",
       " ('Saturday ', 21, Decimal('11236'), Decimal('65')),\n",
       " ('Thursday ', 17, Decimal('11207'), Decimal('65')),\n",
       " ('Saturday ', 15, Decimal('11207'), Decimal('64')),\n",
       " ('Saturday ', 18, Decimal('11236'), Decimal('63')),\n",
       " ('Thursday ', 17, Decimal('11434'), Decimal('63')),\n",
       " ('Friday   ', 14, Decimal('11207'), Decimal('62')),\n",
       " ('Friday   ', 16, Decimal('11207'), Decimal('61')),\n",
       " ('Friday   ', 20, Decimal('11207'), Decimal('61')),\n",
       " ('Friday   ', 20, Decimal('11236'), Decimal('61')),\n",
       " ('Sunday   ', 0, Decimal('11236'), Decimal('61')),\n",
       " ('Tuesday  ', 17, Decimal('10451'), Decimal('61')),\n",
       " ('Wednesday', 15, Decimal('11203'), Decimal('61')),\n",
       " ('Friday   ', 18, Decimal('11385'), Decimal('60')),\n",
       " ('Friday   ', 15, Decimal('11207'), Decimal('58')),\n",
       " ('Friday   ', 18, Decimal('11207'), Decimal('58')),\n",
       " ('Saturday ', 19, Decimal('11236'), Decimal('58')),\n",
       " ('Thursday ', 14, Decimal('11207'), Decimal('58')),\n",
       " ('Thursday ', 17, Decimal('11203'), Decimal('58')),\n",
       " ('Thursday ', 17, Decimal('11234'), Decimal('58')),\n",
       " ('Thursday ', 18, Decimal('11212'), Decimal('58')),\n",
       " ('Tuesday  ', 17, Decimal('11208'), Decimal('58')),\n",
       " ('Tuesday  ', 18, Decimal('11203'), Decimal('58')),\n",
       " ('Tuesday  ', 20, Decimal('11207'), Decimal('58'))]"
      ]
     },
     "execution_count": 79,
     "metadata": {},
     "output_type": "execute_result"
    }
   ],
   "source": [
    "%%sql\n",
    "SELECT DISTINCT\n",
    "    Crash_time.day_of_week_str,\n",
    "    Crash_time.hour_of_day,\n",
    "    Geography.zip_code,\n",
    "    SUM(Crashes.number_of_persons_injured) AS total_persons_injured\n",
    "FROM\n",
    "    Crashes\n",
    "JOIN\n",
    "    Crash_time ON Crashes.crash_time_key = Crash_time.key\n",
    "JOIN\n",
    "    Geography ON Crashes.geography_key = Geography.key\n",
    "GROUP BY\n",
    "    Crash_time.day_of_week_str, Crash_time.hour_of_day, Geography.zip_code\n",
    "ORDER BY\n",
    "    total_persons_injured DESC\n",
    "limit 30"
   ]
  },
  {
   "cell_type": "markdown",
   "id": "5968bdf8-d6c8-460e-904f-108db98f4625",
   "metadata": {},
   "source": [
    "**Police Traffic Command Schedule**"
   ]
  },
  {
   "cell_type": "markdown",
   "id": "40de5253-58e2-456f-b32a-b530bfaa2c7a",
   "metadata": {},
   "source": [
    "| Time        | Monday | Tuesday | Wednesday | Thursday | Friday | Saturday | Sunday |\n",
    "|-------------|--------|---------|-----------|----------|--------|----------|--------|\n",
    "| 0:00-1:00   |        |         |           |          |        |          | 11207 & 11236  |\n",
    "| 1:00-2:00   |        |         |           |          |        |          |        |\n",
    "| 2:00-3:00   |        |         |           |          |        |          |        |\n",
    "| 3:00-4:00   |        |         |           |          |        |          |        |\n",
    "| 4:00-5:00   |        |         |           |          |        |          |        |\n",
    "| 5:00-6:00   |        |         |           |          |        |          |        |\n",
    "| 6:00-7:00   |        |         |           |          |        |          |        |\n",
    "| 7:00-8:00   |        |         |           |          |        |          |        |\n",
    "| 8:00-9:00   |        |         |           |          |        |          |        |\n",
    "| 9:00-10:00  |        |         |           |          |        |          |        |\n",
    "| 10:00-11:00 |        |         |           |          |        |          |        |\n",
    "| 11:00-12:00 |        |         |           |          |        |          |        |\n",
    "| 12:00-13:00 |        |         |           |          |        |          |        |\n",
    "| 13:00-14:00 |        |         |           |          |        |          |        |\n",
    "| 14:00-15:00 |        |         |           | 11207          | 11207  |          |        |\n",
    "| 15:00-16:00 |        |         | 11203     |          | 11207        | 11207    | 11207  |\n",
    "| 16:00-17:00 |        |         |           | 11207    | 11207  |          |        |\n",
    "| 17:00-18:00 |        | 11234 & 10451 & 11208   |     11234 & 11203      | 11207 & 11434    | 11207  |          |        |\n",
    "| 18:00-19:00 |        | 11207 & 11203|           | 11212          | 11385 & 11207  | 11236    |        |\n",
    "| 19:00-20:00 |        |         |           |          |        | 11236    |        |\n",
    "| 20:00-21:00 |        | 11207         |           |          | 11207 & 11236        |          |        |\n",
    "| 21:00-22:00 |        |         |           |          |        | 11236    |        |\n",
    "| 22:00-23:00 |        |         |           |          |        | 11207    |        |\n",
    "| 23:00-0:00  |        |         |           |          |        |          |        |"
   ]
  },
  {
   "cell_type": "markdown",
   "id": "7b312d9c-8a0b-4040-bbde-35d099c20623",
   "metadata": {},
   "source": [
    "We recommend that the local police office **allocate additional police presence** to the identified combinations of the day of the week, hour of the day, and zip code with high-risk crash incidents based on the above schedule. For example, the analysis indicates that Friday at 5:00 PM in the zip code 11207 has the highest number of persons injured due to car crashes. The police department could consider increasing patrols and visibility during this specific time and in this particular zip code.\n",
    "\n",
    "Furthermore, we suggest **implement more security cameras to monitor and track vehicle speeds and behaviour** would enhance overall road safety."
   ]
  },
  {
   "cell_type": "markdown",
   "id": "2bb48d8d-4720-4895-8bed-72d654109e51",
   "metadata": {},
   "source": [
    "#### Analysis 3 for New York Department of Motor Vehicles (DMV):\n",
    "\n",
    "**Identify the top 10 contributing factors to the highest number of fatalities** and leverage this critical information to provide strategic recommendations to NY Department of Motor Vehicles (DMV). Enable the implementation of targeted interventions and policies aimed at addressing the identified factors and reducing the overall impact of road incidents on public safety."
   ]
  },
  {
   "cell_type": "code",
   "execution_count": 80,
   "id": "723f5d83-9a61-4560-9e1a-1f8187394604",
   "metadata": {},
   "outputs": [
    {
     "name": "stdout",
     "output_type": "stream",
     "text": [
      " * postgresql://student@/Final_Project\n",
      "10 rows affected.\n"
     ]
    },
    {
     "data": {
      "text/html": [
       "<table>\n",
       "    <thead>\n",
       "        <tr>\n",
       "            <th>contributing_factor_vehicle_1</th>\n",
       "            <th>total_persons_killed</th>\n",
       "            <th>total_persons_injured</th>\n",
       "        </tr>\n",
       "    </thead>\n",
       "    <tbody>\n",
       "        <tr>\n",
       "            <td>Unspecified                                                                                         </td>\n",
       "            <td>259</td>\n",
       "            <td>51456</td>\n",
       "        </tr>\n",
       "        <tr>\n",
       "            <td>Failure to Yield Right-of-Way                                                                       </td>\n",
       "            <td>150</td>\n",
       "            <td>31632</td>\n",
       "        </tr>\n",
       "        <tr>\n",
       "            <td>Driver Inattention/Distraction                                                                      </td>\n",
       "            <td>125</td>\n",
       "            <td>59476</td>\n",
       "        </tr>\n",
       "        <tr>\n",
       "            <td>Unsafe Speed                                                                                        </td>\n",
       "            <td>123</td>\n",
       "            <td>7731</td>\n",
       "        </tr>\n",
       "        <tr>\n",
       "            <td>Traffic Control Disregarded                                                                         </td>\n",
       "            <td>78</td>\n",
       "            <td>11997</td>\n",
       "        </tr>\n",
       "        <tr>\n",
       "            <td>Pedestrian/Bicyclist/Other Pedestrian Error/Confusion                                               </td>\n",
       "            <td>45</td>\n",
       "            <td>4538</td>\n",
       "        </tr>\n",
       "        <tr>\n",
       "            <td>Alcohol Involvement                                                                                 </td>\n",
       "            <td>25</td>\n",
       "            <td>4448</td>\n",
       "        </tr>\n",
       "        <tr>\n",
       "            <td>Driver Inexperience                                                                                 </td>\n",
       "            <td>24</td>\n",
       "            <td>3963</td>\n",
       "        </tr>\n",
       "        <tr>\n",
       "            <td>Illnes                                                                                              </td>\n",
       "            <td>19</td>\n",
       "            <td>780</td>\n",
       "        </tr>\n",
       "        <tr>\n",
       "            <td>Backing Unsafely                                                                                    </td>\n",
       "            <td>18</td>\n",
       "            <td>4810</td>\n",
       "        </tr>\n",
       "    </tbody>\n",
       "</table>"
      ],
      "text/plain": [
       "[('Unspecified                                                                                         ', Decimal('259'), Decimal('51456')),\n",
       " ('Failure to Yield Right-of-Way                                                                       ', Decimal('150'), Decimal('31632')),\n",
       " ('Driver Inattention/Distraction                                                                      ', Decimal('125'), Decimal('59476')),\n",
       " ('Unsafe Speed                                                                                        ', Decimal('123'), Decimal('7731')),\n",
       " ('Traffic Control Disregarded                                                                         ', Decimal('78'), Decimal('11997')),\n",
       " ('Pedestrian/Bicyclist/Other Pedestrian Error/Confusion                                               ', Decimal('45'), Decimal('4538')),\n",
       " ('Alcohol Involvement                                                                                 ', Decimal('25'), Decimal('4448')),\n",
       " ('Driver Inexperience                                                                                 ', Decimal('24'), Decimal('3963')),\n",
       " ('Illnes                                                                                              ', Decimal('19'), Decimal('780')),\n",
       " ('Backing Unsafely                                                                                    ', Decimal('18'), Decimal('4810'))]"
      ]
     },
     "execution_count": 80,
     "metadata": {},
     "output_type": "execute_result"
    }
   ],
   "source": [
    "%%sql\n",
    "SELECT\n",
    "    Contributing_factor.contributing_factor_vehicle_1,\n",
    "    SUM(Crashes.number_of_persons_killed) AS total_persons_killed,\n",
    "    SUM(Crashes.number_of_persons_injured) AS total_persons_injured\n",
    "FROM\n",
    "    Crashes\n",
    "JOIN\n",
    "    Contributing_factor ON Crashes.contributing_factor_key = Contributing_factor.key\n",
    "GROUP BY\n",
    "    Contributing_factor.contributing_factor_vehicle_1\n",
    "ORDER BY\n",
    "   total_persons_killed DESC, total_persons_injured DESC\n",
    "LIMIT 10;\n"
   ]
  },
  {
   "cell_type": "markdown",
   "id": "b10adc6d-48fe-4532-b109-40eea65d1445",
   "metadata": {},
   "source": [
    "**Analysis and Recommendations for Top 10 factors:**\n",
    "\n",
    "1. Unspecified:\n",
    "\n",
    "Recommendation: Improve data recording practices to specify contributing factors accurately. Enhance awareness campaigns to encourage reporting details of incidents in an automated way.\n",
    "\n",
    "2. Failure to Yield Right-of-Way:\n",
    "\n",
    "Recommendation: Strengthen education and enforcement regarding right-of-way rules. Conduct targeted driver education programs emphasizing yielding protocols.\n",
    "\n",
    "3. Driver Inattention/Distraction:\n",
    "\n",
    "Recommendation: Implement stricter penalties for distracted driving. Promote public awareness on the dangers of distracted driving and encourage the use of hands-free technology.\n",
    "\n",
    "4. Unsafe Speed:\n",
    "\n",
    "Recommendation: Increase enforcement of speed limits. Implement speed-calming measures in high-risk areas. Launch campaigns emphasizing the correlation between speed and accident severity.\n",
    "\n",
    "5. Traffic Control Disregarded:\n",
    "\n",
    "Recommendation: Enhance traffic control infrastructure and visibility. Enforce strict penalties for violations. Conduct public awareness campaigns on the importance of obeying traffic signals.\n",
    "\n",
    "6. Pedestrian/Bicyclist/Other Pedestrian Error/Confusion:\n",
    "\n",
    "Recommendation: Invest in pedestrian and cyclist safety infrastructure. Develop educational programs for both drivers and pedestrians to reduce confusion and errors.\n",
    "\n",
    "7. Alcohol Involvement:\n",
    "\n",
    "Recommendation: Intensify DUI enforcement. Increase public awareness on the dangers of drinking and driving. Implement stricter penalties for alcohol-related offenses.\n",
    "\n",
    "8. Driver Inexperience:\n",
    "\n",
    "Recommendation: Strengthen driver education programs, especially for new drivers. Consider implementing graduated licensing systems.\n",
    "\n",
    "9. Illness:\n",
    "\n",
    "Recommendation: Encourage individuals with known medical conditions to assess their fitness to drive regularly. Raise awareness among healthcare professionals regarding reporting concerns about patients' ability to drive.\n",
    "\n",
    "10. Backing Unsafely:\n",
    "\n",
    "Recommendation: Promote safe backing practices through educational campaigns. Consider technological solutions, such as backup cameras, to assist drivers in preventing accidents.\n",
    "\n",
    "**Overall Recommendations:**\n",
    "\n",
    "a) Data Quality Improvement: Enhance data collection methods to ensure accurate and detailed recording of contributing factors.\n",
    "\n",
    "b) Education and Awareness: Launch targeted public awareness campaigns addressing specific contributing factors.\n",
    "\n",
    "c) Enforcement: Strengthen law enforcement measures, especially for high-impact factors like distracted driving and speeding.\n",
    "\n",
    "d) Infrastructure Improvement: Invest in infrastructure enhancements, such as improved traffic control and pedestrian safety measures.\n",
    "\n",
    "e) Policy Development: Consider revising and implementing policies that address the identified contributing factors effectively.\n",
    "\n",
    "f) Implementing a multi-faceted approach, combining education, enforcement, and infrastructure improvements, will likely yield the most significant impact in reducing fatalities and injuries related to road incidents.\n"
   ]
  },
  {
   "cell_type": "markdown",
   "id": "5c00becc-5704-4266-84eb-c56e0e346b10",
   "metadata": {},
   "source": [
    "**Strategic recommendations to NY DMV:**\n",
    "\n",
    "- As per current Licence Violation Points, the point deduction for 'Failure to Yield Right-of-Way'is 3. We recommended an increase of point-deduction to 5 to implement stricter regulations. Based on our analysis, we see that the total number of people killed by this contributing factor for the last 7 years is 150.\n",
    "\n",
    "- Based on our analysis, we see that the total number of people killed by 'Driver Inattention/Distraction' is more than those killed by 'Unsafe Speed'. As per current Licence Violation Points, the point deduction for 'Improper cellphone usage' & 'Use of portable electronic device 'Texting' is 5 points whereas, for 'Speeding', it is 3-11 points. We recommend the DMV to increase the points deducted for this particular factor."
   ]
  },
  {
   "cell_type": "markdown",
   "id": "cc916f4a-693f-4bd9-9ce6-10d3c2345049",
   "metadata": {
    "tags": []
   },
   "source": [
    "##### Below is the screenshot from the NY DMV Official website (https://dmv.ny.gov/tickets/about-nys-driver-point-system) for License Violation Pionts Deduction:"
   ]
  },
  {
   "cell_type": "code",
   "execution_count": 81,
   "id": "9965d908-3c2b-4870-92c8-a4a384f045c2",
   "metadata": {},
   "outputs": [
    {
     "data": {
      "text/html": [
       "<img src=\"https://i.ibb.co/w7wpqJp/Whats-App-Image-2023-12-09-at-12-24-16-PM.jpg\"/>"
      ],
      "text/plain": [
       "<IPython.core.display.Image object>"
      ]
     },
     "execution_count": 81,
     "metadata": {},
     "output_type": "execute_result"
    }
   ],
   "source": [
    "image_url = 'https://i.ibb.co/w7wpqJp/Whats-App-Image-2023-12-09-at-12-24-16-PM.jpg'\n",
    "Image(url=image_url)"
   ]
  },
  {
   "cell_type": "code",
   "execution_count": 54,
   "id": "a5ed6ae2-2c8a-458d-9a97-c64646385bfc",
   "metadata": {},
   "outputs": [],
   "source": [
    "!sudo chmod a+w /home/ubuntu/notebooks"
   ]
  },
  {
   "cell_type": "code",
   "execution_count": 82,
   "id": "410550ae-b469-4290-ba3c-69297556c1d2",
   "metadata": {},
   "outputs": [
    {
     "name": "stdout",
     "output_type": "stream",
     "text": [
      "/home/ubuntu/notebooks/FinalProjectGroup2\n"
     ]
    }
   ],
   "source": [
    "!pwd"
   ]
  },
  {
   "cell_type": "code",
   "execution_count": 55,
   "id": "d4004ee3-a993-4fc1-bd1a-a95f88c1ce45",
   "metadata": {},
   "outputs": [
    {
     "name": "stdout",
     "output_type": "stream",
     "text": [
      " * postgresql://student@/Final_Project\n",
      "2940 rows affected.\n"
     ]
    },
    {
     "data": {
      "text/plain": [
       "[]"
      ]
     },
     "execution_count": 55,
     "metadata": {},
     "output_type": "execute_result"
    }
   ],
   "source": [
    "%%sql\n",
    "COPY (\n",
    "    SELECT\n",
    "        Crash_time.year, \n",
    "        Crash_time.month_of_year,\n",
    "        Crash_time.day_of_week_str,\n",
    "        Geography.borough,\n",
    "        count(Crashes.collision_id) AS number_of_incidents,\n",
    "        SUM(Crashes.number_of_persons_killed) AS total_persons_killed,\n",
    "        SUM(Crashes.number_of_persons_injured) AS total_persons_injured    \n",
    "    FROM Crashes\n",
    "    JOIN Crash_time ON Crashes.crash_time_key = Crash_time.key\n",
    "    JOIN Geography ON Crashes.geography_key = Geography.key\n",
    "    GROUP BY Crash_time.year, Crash_time.month_of_year, Crash_time.day_of_week_str, Geography.borough\n",
    "    ORDER BY Crash_time.year, Crash_time.month_of_year, Crash_time.day_of_week_str, Geography.borough, number_of_incidents\n",
    ") TO '/home/ubuntu/notebooks/output.csv' WITH CSV HEADER;"
   ]
  },
  {
   "cell_type": "code",
   "execution_count": 23,
   "id": "e17eaed5-9df1-4da2-aa9b-5d220b509bf6",
   "metadata": {},
   "outputs": [
    {
     "name": "stdout",
     "output_type": "stream",
     "text": [
      " * postgresql://student@/Final_Project\n",
      "61 rows affected.\n"
     ]
    },
    {
     "data": {
      "text/plain": [
       "[]"
      ]
     },
     "execution_count": 23,
     "metadata": {},
     "output_type": "execute_result"
    }
   ],
   "source": [
    "%%sql\n",
    "COPY (\n",
    "    SELECT\n",
    "    Contributing_factor.contributing_factor_vehicle_1,\n",
    "    SUM(Crashes.number_of_persons_killed) AS total_persons_killed,\n",
    "    SUM(Crashes.number_of_persons_injured) AS total_persons_injured\n",
    "FROM\n",
    "    Crashes\n",
    "JOIN\n",
    "    Contributing_factor ON Crashes.contributing_factor_key = Contributing_factor.key\n",
    "GROUP BY\n",
    "    Contributing_factor.contributing_factor_vehicle_1\n",
    "ORDER BY\n",
    "   total_persons_killed DESC, total_persons_injured DESC\n",
    ") TO '/home/ubuntu/notebooks/output1.csv' WITH CSV HEADER;"
   ]
  },
  {
   "cell_type": "code",
   "execution_count": null,
   "id": "a5ca3f34-a7ab-4274-971c-2325d1449b67",
   "metadata": {},
   "outputs": [],
   "source": []
  }
 ],
 "metadata": {
  "kernelspec": {
   "display_name": "Python 3 (ipykernel)",
   "language": "python",
   "name": "python3"
  },
  "language_info": {
   "codemirror_mode": {
    "name": "ipython",
    "version": 3
   },
   "file_extension": ".py",
   "mimetype": "text/x-python",
   "name": "python",
   "nbconvert_exporter": "python",
   "pygments_lexer": "ipython3",
   "version": "3.11.4"
  }
 },
 "nbformat": 4,
 "nbformat_minor": 5
}
